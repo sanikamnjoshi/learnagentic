{
 "cells": [
  {
   "cell_type": "markdown",
   "id": "f896bca1-3800-43ab-ac32-3ed5ee7133ec",
   "metadata": {},
   "source": [
    "# Lab 1: Implementing self-editing memory from scratch"
   ]
  },
  {
   "cell_type": "code",
   "execution_count": 1,
   "id": "c5e108e4-bcf9-4be1-b2c0-66539cbe9ec3",
   "metadata": {},
   "outputs": [],
   "source": [
    "from helper import get_openai_api_key\n",
    "openai_api_key = get_openai_api_key()"
   ]
  },
  {
   "cell_type": "code",
   "execution_count": 2,
   "id": "7a0e6729-0f02-497f-8f85-688ed4f65f68",
   "metadata": {},
   "outputs": [],
   "source": [
    "from openai import OpenAI\n",
    "import os\n",
    "\n",
    "client = OpenAI(\n",
    "    api_key=openai_api_key\n",
    ")"
   ]
  },
  {
   "cell_type": "markdown",
   "id": "c84fe7e5-fc76-427b-a21b-37515ef05e2b",
   "metadata": {},
   "source": [
    "## Section 1: Breaking down the LLM context window\n",
    "### A simple agent's context window"
   ]
  },
  {
   "cell_type": "code",
   "execution_count": 3,
   "id": "16bbb19b-2fa2-4cac-8803-5cb179c36d47",
   "metadata": {},
   "outputs": [],
   "source": [
    "model = \"gpt-4o-mini\""
   ]
  },
  {
   "cell_type": "code",
   "execution_count": 4,
   "id": "1ed0f467-c545-4b26-8a10-2cb009240b5a",
   "metadata": {},
   "outputs": [],
   "source": [
    "system_prompt = \"You are a chatbot.\""
   ]
  },
  {
   "cell_type": "markdown",
   "id": "41fc2a0a-6ece-41eb-ab0c-548bd845e5d6",
   "metadata": {},
   "source": [
    "## we use openai's expected format in our messages arugument"
   ]
  },
  {
   "cell_type": "code",
   "execution_count": 5,
   "id": "75cc6a09-6c24-4b45-8b92-6084acdc3d46",
   "metadata": {},
   "outputs": [
    {
     "data": {
      "text/plain": [
       "\"I'm sorry, but I don't know your name. Can you tell me?\""
      ]
     },
     "execution_count": 5,
     "metadata": {},
     "output_type": "execute_result"
    }
   ],
   "source": [
    "# Make the completion request with the tool usage\n",
    "chat_completion = client.chat.completions.create(\n",
    "    model=model,\n",
    "    messages=[\n",
    "        # system prompt: always included in the context window \n",
    "        {\"role\": \"system\", \"content\": system_prompt}, \n",
    "        # chat history (evolves over time)\n",
    "        {\"role\": \"user\", \"content\": \"What is my name?\"}, \n",
    "    ]\n",
    ")\n",
    "chat_completion.choices[0].message.content"
   ]
  },
  {
   "cell_type": "markdown",
   "id": "4f33edc1-58e9-4e04-a338-3ec3c2553812",
   "metadata": {},
   "source": [
    "### Adding memory to the context \n"
   ]
  },
  {
   "cell_type": "code",
   "execution_count": 6,
   "id": "1d2cc3dd-0278-40f7-8c0e-e919cb628c31",
   "metadata": {},
   "outputs": [],
   "source": [
    "#agent_memory = {\"person\": \"Name: Olivia, Hobbies: Running, Scrapbooking\"}\n",
    "#agent_memory = {\"homo sapiens\": \"Name: Jess, Hobbies: Running, Scrapbooking\"}\n",
    "#agent_memory = {\"husband\": \"Name: Joe, Hobbies: Dancing, Painting\"}\n",
    "agent_memory = {\"human\": \"Name: Sanika, Hobbies: Running, Reading\"}\n",
    "\n",
    "system_prompt = \"You are a chatbot. \" \\\n",
    "+ \"You have a section of your context called [MEMORY] \" \\\n",
    "+ \"that contains information relevant to your conversation\""
   ]
  },
  {
   "cell_type": "markdown",
   "id": "a4bf4dd0-5d3e-48a2-91d7-3c684b39c2cb",
   "metadata": {},
   "source": [
    "**Note: crazy how I can just say human or person or homo sapiens or husband and it will still derive context from it.**"
   ]
  },
  {
   "cell_type": "code",
   "execution_count": 7,
   "id": "bf728dce-f06b-4bcb-a3ba-15a7f099b2d9",
   "metadata": {},
   "outputs": [
    {
     "data": {
      "text/plain": [
       "\"Your name is Sanika! Here are some activities you might enjoy based on your hobbies of running and reading:\\n\\n1. **Trail Running:** Explore local trails to combine your love of running with the beauty of nature.\\n\\n2. **Book Club:** Join or start a book club to discuss your favorite reads with others and discover new books.\\n\\n3. **Running Events:** Participate in local running events or races, such as 5Ks or half-marathons, to challenge yourself and meet fellow runners.\\n\\n4. **Audiobooks for Runs:** Listen to audiobooks while running to make your workouts more enjoyable and productive.\\n\\n5. **Writing a Blog:** Start a blog about your running journey or book reviews to share your insights and experiences with others.\\n\\n6. **Storytelling Runs:** Create a route that tells a story, maybe inspired by a book, and visualize it as you run.\\n\\n7. **Outdoor Reading:** Find a quiet park or a picturesque spot to read outdoors after a good run.\\n\\n8. **Running Workshops:** Attend workshops or training sessions to improve your running technique and meet other enthusiasts.\\n\\nLet me know if you'd like more suggestions or details on any of these activities!\""
      ]
     },
     "execution_count": 7,
     "metadata": {},
     "output_type": "execute_result"
    }
   ],
   "source": [
    "import json\n",
    "\n",
    "\n",
    "chat_completion = client.chat.completions.create(\n",
    "    model=model,\n",
    "    messages=[\n",
    "        # system prompt \n",
    "        {\"role\": \"system\", \"content\": system_prompt + \"[MEMORY]\\n\" + \\\n",
    "         json.dumps(agent_memory)},\n",
    "        # chat history \n",
    "        {\"role\": \"user\", \"content\": \"Suggest multiple activities I'd like. Also, what is my name?\"},\n",
    "    ],\n",
    ")\n",
    "chat_completion.choices[0].message.content"
   ]
  },
  {
   "cell_type": "markdown",
   "id": "623e462b-7610-413b-a0da-26a2375028a8",
   "metadata": {},
   "source": [
    "## Section 2: Modifing the memory with tools "
   ]
  },
  {
   "cell_type": "markdown",
   "id": "04ac86ab-03ec-4656-9bb8-62016edc7b5a",
   "metadata": {},
   "source": [
    "### Defining a memory editing tool \n"
   ]
  },
  {
   "cell_type": "code",
   "execution_count": 8,
   "id": "76d419bd-020c-4f6f-81c3-e704d65f5306",
   "metadata": {},
   "outputs": [],
   "source": [
    "agent_memory = {\"human\": \"\", \"agent\": \"\"}\n",
    "\n",
    "def core_memory_save(section: str, memory: str): \n",
    "    agent_memory[section] += '\\n' \n",
    "    agent_memory[section] += memory "
   ]
  },
  {
   "cell_type": "code",
   "execution_count": 9,
   "id": "2df27d7b-d2b6-4d87-90c3-6759a70fa8d7",
   "metadata": {},
   "outputs": [
    {
     "data": {
      "text/plain": [
       "{'human': '', 'agent': ''}"
      ]
     },
     "execution_count": 9,
     "metadata": {},
     "output_type": "execute_result"
    }
   ],
   "source": [
    "agent_memory"
   ]
  },
  {
   "cell_type": "code",
   "execution_count": 10,
   "id": "571e53e5-4190-4787-9cb2-efc527885c2d",
   "metadata": {},
   "outputs": [],
   "source": [
    "core_memory_save(\"human\", \"The human's name is Charles\")"
   ]
  },
  {
   "cell_type": "code",
   "execution_count": 11,
   "id": "f44ebefc-ba31-4901-acf4-893ffe624fb5",
   "metadata": {},
   "outputs": [
    {
     "data": {
      "text/plain": [
       "{'human': \"\\nThe human's name is Charles\", 'agent': ''}"
      ]
     },
     "execution_count": 11,
     "metadata": {},
     "output_type": "execute_result"
    }
   ],
   "source": [
    "agent_memory"
   ]
  },
  {
   "cell_type": "code",
   "execution_count": 12,
   "id": "73206bb4-5d83-4ae6-9dd0-2b67a72e72b8",
   "metadata": {},
   "outputs": [],
   "source": [
    "core_memory_save(\"human\", \"The human's wife's name was Daiana. His second wife's name is Camilla.\")"
   ]
  },
  {
   "cell_type": "code",
   "execution_count": 13,
   "id": "4964b1d9-3ca5-4877-a428-0fa97d3ffd89",
   "metadata": {},
   "outputs": [
    {
     "data": {
      "text/plain": [
       "{'human': \"\\nThe human's name is Charles\\nThe human's wife's name was Daiana. His second wife's name is Camilla.\",\n",
       " 'agent': ''}"
      ]
     },
     "execution_count": 13,
     "metadata": {},
     "output_type": "execute_result"
    }
   ],
   "source": [
    "agent_memory"
   ]
  },
  {
   "cell_type": "code",
   "execution_count": 14,
   "id": "cf4d7b41-e563-4785-867a-02bd6127ceea",
   "metadata": {},
   "outputs": [],
   "source": [
    "# tool description \n",
    "core_memory_save_description = \"Save important information about you,\" \\\n",
    "+ \"the agent or the human you are chatting with.\"\n",
    "\n",
    "# arguments into the tool (generated by the LLM)\n",
    "# defines what the agent must generate to input into the tool \n",
    "core_memory_save_properties = \\\n",
    "{\n",
    "    # arg 1: section of memory to edit\n",
    "    \"section\": {\n",
    "        \"type\": \"string\",\n",
    "        \"enum\": [\"human\", \"agent\"],\n",
    "        \"description\": \"Must be either 'human' \" \\\n",
    "        + \"(to save information about the human) or 'agent'\" \\\n",
    "        + \"(to save information about yourself)\",            \n",
    "    },\n",
    "    # arg 2: memory to save\n",
    "    \"memory\": {\n",
    "        \"type\": \"string\",\n",
    "        \"description\": \"Memory to save in the section\",\n",
    "    },\n",
    "}\n",
    "\n",
    "# tool schema (passed to OpenAI)\n",
    "core_memory_save_metadata = \\\n",
    "    {\n",
    "        \"type\": \"function\",\n",
    "        \"function\": {\n",
    "            \"name\": \"core_memory_save\",\n",
    "            \"description\": core_memory_save_description,\n",
    "            \"parameters\": {\n",
    "                \"type\": \"object\",\n",
    "                \"properties\": core_memory_save_properties,\n",
    "                \"required\": [\"section\", \"memory\"],\n",
    "            },\n",
    "        }\n",
    "    }"
   ]
  },
  {
   "cell_type": "markdown",
   "id": "43c11bd0-2e0c-4b90-8076-a233bdaff461",
   "metadata": {},
   "source": [
    "**We pass openai's exact tool schema for core_memory_save_metadata**"
   ]
  },
  {
   "cell_type": "code",
   "execution_count": 32,
   "id": "2534c3f7-55d9-4f5f-892c-82221ccd1b78",
   "metadata": {},
   "outputs": [
    {
     "data": {
      "text/plain": [
       "Choice(finish_reason='tool_calls', index=0, logprobs=None, message=ChatCompletionMessage(content=None, refusal=None, role='assistant', audio=None, function_call=None, tool_calls=[ChatCompletionMessageToolCall(id='call_xnlbyODunwPj1nTw26q8FT2h', function=Function(arguments='{\"section\": \"human\", \"memory\": \"Name: Sanika, Age: 28, Occupation: Data Engineer, Hobbies: Reading books, running, scrapbooking, Interests: Climate action, Future Career Interest: Work in climate action, Favorite color: Coral, Clothing preference: Black, cream, and white.\"}', name='core_memory_save'), type='function')], annotations=[]))"
      ]
     },
     "execution_count": 32,
     "metadata": {},
     "output_type": "execute_result"
    }
   ],
   "source": [
    "agent_memory = {\"human\": \"\"}\n",
    "system_prompt = \"You are a chatbot. \" \\\n",
    "+ \"You have a section of your context called [MEMORY] \" \\\n",
    "+ \"that contains information relevant to your conversation\"\n",
    "\n",
    "chat_completion = client.chat.completions.create(\n",
    "    model=model,\n",
    "    messages=[\n",
    "        # system prompt \n",
    "        {\"role\": \"system\", \"content\": system_prompt}, \n",
    "        # memory \n",
    "        {\"role\": \"system\", \"content\": \"[MEMORY]\\n\" + json.dumps(agent_memory)},\n",
    "        # chat history \n",
    "        {\"role\": \"user\", \"content\": \"My name is Sanika.\"},\n",
    "        {\"role\": \"user\", \"content\": \"Let me briefly introduce myself: I am 28 and work as a Data Engineer. In my free time, I like reading books, running and scrapbooking. I care about climate action and plan to eventually work in the area. My favourite colour is coral, but for clothing, I prefer wearing black, cream and white.\"}\n",
    "    ],\n",
    "    # tool schemas \n",
    "    tools=[core_memory_save_metadata]\n",
    ")\n",
    "response = chat_completion.choices[0]\n",
    "response"
   ]
  },
  {
   "cell_type": "markdown",
   "id": "a19d6d53-a451-48bd-b3ba-68b98c7ad7a6",
   "metadata": {},
   "source": [
    "### Executing the tool \n"
   ]
  },
  {
   "cell_type": "code",
   "execution_count": 33,
   "id": "7cc0a070-d3e5-4832-90af-99d3544862e2",
   "metadata": {},
   "outputs": [
    {
     "data": {
      "text/plain": [
       "{'section': 'human',\n",
       " 'memory': 'Name: Sanika, Age: 28, Occupation: Data Engineer, Hobbies: Reading books, running, scrapbooking, Interests: Climate action, Future Career Interest: Work in climate action, Favorite color: Coral, Clothing preference: Black, cream, and white.'}"
      ]
     },
     "execution_count": 33,
     "metadata": {},
     "output_type": "execute_result"
    }
   ],
   "source": [
    "arguments = json.loads(response.message.tool_calls[0].function.arguments)\n",
    "arguments"
   ]
  },
  {
   "cell_type": "code",
   "execution_count": 34,
   "id": "bdcc39c5-311d-446e-9562-fa88eb2a10d1",
   "metadata": {},
   "outputs": [],
   "source": [
    "# run the function with the specified arguments \n",
    "core_memory_save(**arguments)"
   ]
  },
  {
   "cell_type": "code",
   "execution_count": 35,
   "id": "f3219788-1cdc-4a85-af9f-b08005fabd28",
   "metadata": {},
   "outputs": [
    {
     "data": {
      "text/plain": [
       "{'human': '\\nName: Sanika, Age: 28, Occupation: Data Engineer, Hobbies: Reading books, running, scrapbooking, Interests: Climate action, Future Career Interest: Work in climate action, Favorite color: Coral, Clothing preference: Black, cream, and white.'}"
      ]
     },
     "execution_count": 35,
     "metadata": {},
     "output_type": "execute_result"
    }
   ],
   "source": [
    "agent_memory"
   ]
  },
  {
   "cell_type": "markdown",
   "id": "7996c9a1-7ed1-4c45-8f29-41dcbc0ee3f9",
   "metadata": {},
   "source": [
    "### Running the next agent step \n"
   ]
  },
  {
   "cell_type": "code",
   "execution_count": 36,
   "id": "93f066b8-77dc-4fcf-8c2c-f280338d8e75",
   "metadata": {},
   "outputs": [
    {
     "data": {
      "text/plain": [
       "ChatCompletionMessage(content=\"Your name is Sanika. For today's outfit, considering your clothing preferences of black, cream, and white, you might choose a stylish black top paired with cream or white pants. You could also accessorize with coral accents to reflect your favorite color. How does that sound?\", refusal=None, role='assistant', audio=None, function_call=None, tool_calls=None, annotations=[])"
      ]
     },
     "execution_count": 36,
     "metadata": {},
     "output_type": "execute_result"
    }
   ],
   "source": [
    "chat_completion = client.chat.completions.create(\n",
    "    model=model,\n",
    "    messages=[\n",
    "        # system prompt \n",
    "        {\"role\": \"system\", \"content\": system_prompt}, \n",
    "        # memory \n",
    "        {\"role\": \"system\", \"content\": \"[MEMORY]\\n\" + json.dumps(agent_memory)},\n",
    "        # chat history \n",
    "        {\"role\": \"user\", \"content\": \"What is my name? What outfit should I wear today?\"},\n",
    "    ],\n",
    "    tools=[core_memory_save_metadata]\n",
    ")\n",
    "response = chat_completion.choices[0]\n",
    "response.message"
   ]
  },
  {
   "cell_type": "markdown",
   "id": "357e5cab-a6ee-4539-b089-c693c58a898e",
   "metadata": {},
   "source": [
    "## Implementing an agentic loop\n"
   ]
  },
  {
   "cell_type": "code",
   "execution_count": 37,
   "id": "06c5de70-8db8-468a-aa50-018fa2f80ed6",
   "metadata": {},
   "outputs": [],
   "source": [
    "agent_memory = {\"human\": \"\"}"
   ]
  },
  {
   "cell_type": "code",
   "execution_count": 38,
   "id": "673cabb2-83bb-4e7d-baed-eed6c6c67e7a",
   "metadata": {},
   "outputs": [],
   "source": [
    "system_prompt_os = system_prompt \\\n",
    "+ \"\\n. You must either call a tool (core_memory_save) or\" \\\n",
    "+ \"write a response to the user. \" \\\n",
    "+ \"Do not take the same actions multiple times!\" \\\n",
    "+ \"When you learn new information, make sure to always\" \\\n",
    "+ \"call the core_memory_save tool.\" "
   ]
  },
  {
   "cell_type": "code",
   "execution_count": 39,
   "id": "e9d7ebbe-12f3-4949-bc89-0dc1e3b85c42",
   "metadata": {},
   "outputs": [],
   "source": [
    "def agent_step(user_message): \n",
    "    \n",
    "    # prefix messages with system prompt and memory\n",
    "    messages = [\n",
    "        # system prompt \n",
    "        {\"role\": \"system\", \"content\": system_prompt_os}, \n",
    "        # memory\n",
    "        {\n",
    "            \"role\": \"system\", \n",
    "            \"content\": \"[MEMORY]\\n\" + json.dumps(agent_memory)\n",
    "        },\n",
    "    ]    \n",
    "\n",
    "    # append the most recent message\n",
    "    messages.append({\"role\": \"user\", \"content\": user_message})\n",
    "    \n",
    "    # agentic loop \n",
    "    while True: \n",
    "        chat_completion = client.chat.completions.create(\n",
    "            model=model,\n",
    "            messages=messages,\n",
    "            tools=[core_memory_save_metadata]\n",
    "        )\n",
    "        response = chat_completion.choices[0]\n",
    "\n",
    "        # update the messages with the agent's response \n",
    "        messages.append(response.message)\n",
    "        \n",
    "        # if NOT calling a tool (responding to the user), return \n",
    "        if not response.message.tool_calls: \n",
    "            return response.message.content\n",
    "\n",
    "        # if calling a tool, execute the tool\n",
    "        else: \n",
    "            print(\"TOOL CALL:\", response.message.tool_calls[0].function)\n",
    "            \n",
    "            # parse the arguments from the LLM function call\n",
    "            arguments = json.loads(\n",
    "                response.message.tool_calls[0].function.arguments\n",
    "            )\n",
    "\n",
    "            # run the function with the specified arguments\n",
    "            core_memory_save(**arguments)\n",
    "\n",
    "            # add the tool call response to the message history \n",
    "            messages.append({\n",
    "                \"role\": \"tool\", \n",
    "                \"tool_call_id\": response.message.tool_calls[0].id, \n",
    "                \"name\": \"core_memory_save\", \n",
    "                \"content\": f\"Updated memory: {json.dumps(agent_memory)}\"\n",
    "            })"
   ]
  },
  {
   "cell_type": "code",
   "execution_count": 40,
   "id": "6d726ff1-e24e-4632-bf61-f55770d00466",
   "metadata": {},
   "outputs": [
    {
     "name": "stdout",
     "output_type": "stream",
     "text": [
      "TOOL CALL: Function(arguments='{\"section\":\"human\",\"memory\":\"The user\\'s name is Sanika.\"}', name='core_memory_save')\n"
     ]
    },
    {
     "data": {
      "text/plain": [
       "'Nice to meet you, Sanika! How can I assist you today?'"
      ]
     },
     "execution_count": 40,
     "metadata": {},
     "output_type": "execute_result"
    }
   ],
   "source": [
    "agent_step(\"My name is Sanika.\")"
   ]
  },
  {
   "cell_type": "code",
   "execution_count": null,
   "id": "28bd187b-410c-4f31-b01a-2e8b0b57f43b",
   "metadata": {},
   "outputs": [],
   "source": [
    "# Try some prompts of your own!"
   ]
  },
  {
   "cell_type": "code",
   "execution_count": null,
   "id": "8abd0bb7-adf3-4309-9b42-43a4d291f857",
   "metadata": {},
   "outputs": [],
   "source": []
  }
 ],
 "metadata": {
  "kernelspec": {
   "display_name": "Python 3 (ipykernel)",
   "language": "python",
   "name": "python3"
  },
  "language_info": {
   "codemirror_mode": {
    "name": "ipython",
    "version": 3
   },
   "file_extension": ".py",
   "mimetype": "text/x-python",
   "name": "python",
   "nbconvert_exporter": "python",
   "pygments_lexer": "ipython3",
   "version": "3.11.0"
  }
 },
 "nbformat": 4,
 "nbformat_minor": 5
}
