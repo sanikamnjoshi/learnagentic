{
 "cells": [
  {
   "cell_type": "markdown",
   "id": "19dc4445-717c-4539-bf61-1ac1680372b0",
   "metadata": {},
   "source": [
    "# self-editing memory from scratch (WITHOUT LETTA)"
   ]
  },
  {
   "cell_type": "code",
   "execution_count": 1,
   "id": "28e17d74-cc4b-47a8-b30e-d7fc76a90607",
   "metadata": {},
   "outputs": [],
   "source": [
    "# we need a .env file in the same directory as this code for this to work\n",
    "\n",
    "from dotenv import load_dotenv\n",
    "import os\n",
    "from openai import OpenAI\n",
    "\n",
    "load_dotenv()  # load .env as current environment for os to detect\n",
    "\n",
    "# create OpenAI client\n",
    "client = OpenAI(\n",
    "    api_key=str(os.getenv(\"OPENAI_API_KEY\"))\n",
    ")\n",
    "\n",
    "model = \"gpt-4o-mini\""
   ]
  },
  {
   "cell_type": "markdown",
   "id": "f9d58b3d-4769-430e-afde-848080923b91",
   "metadata": {},
   "source": [
    "## understanding the LLM context window"
   ]
  },
  {
   "cell_type": "markdown",
   "id": "f4c1da4c-3689-47ad-80b3-6e5b37261d74",
   "metadata": {},
   "source": [
    "### no memory 🥺"
   ]
  },
  {
   "cell_type": "markdown",
   "id": "5957d08b-c3b1-41e7-8474-f9c6ce2166de",
   "metadata": {},
   "source": [
    "**note:** the roles `system`, `user` and `assistant`are keywords expected by OpenAI. "
   ]
  },
  {
   "cell_type": "code",
   "execution_count": 2,
   "id": "2084d334-0cd6-4c7a-aa45-2f05845ef5d0",
   "metadata": {},
   "outputs": [
    {
     "data": {
      "text/plain": [
       "\"I'm sorry, but I don't know your name. You haven't told me yet!\""
      ]
     },
     "execution_count": 2,
     "metadata": {},
     "output_type": "execute_result"
    }
   ],
   "source": [
    "system_prompt = \"You are a chatbot.\"\n",
    "\n",
    "# make a chat completion request\n",
    "chat_completion = client.chat.completions.create(\n",
    "    model=model,\n",
    "    messages=[\n",
    "        # system prompt: always included in the context window \n",
    "        {\"role\": \"system\", \"content\": system_prompt},\n",
    "        \n",
    "        # chat history (evolves over time)\n",
    "        {\"role\": \"user\", \"content\": \"What is my name?\"},\n",
    "    ]\n",
    ")\n",
    "\n",
    "chat_completion.choices[0].message.content"
   ]
  },
  {
   "cell_type": "markdown",
   "id": "2b5a62d7-8b5c-46f7-b1e2-f008298ee685",
   "metadata": {},
   "source": [
    "### faking a conversation 😈"
   ]
  },
  {
   "cell_type": "code",
   "execution_count": 3,
   "id": "06cf9a1e-8309-46cd-9fbe-65a905b087ac",
   "metadata": {},
   "outputs": [
    {
     "data": {
      "text/plain": [
       "'Sanika shines bright,  \\nLike stars in the evening sky,  \\nDreams take flight with you.'"
      ]
     },
     "execution_count": 3,
     "metadata": {},
     "output_type": "execute_result"
    }
   ],
   "source": [
    "# make a new chat completion request\n",
    "chat_completion = client.chat.completions.create(\n",
    "    model=model,\n",
    "    messages=[\n",
    "        # system prompt: always included in the context window \n",
    "        {\"role\": \"system\", \"content\": system_prompt},\n",
    "        # NOTE: I REPEAT, THE SYSTEM PROMPT IS ALWAYS INCLUDED IN THE CONTEXT WINDOW!!!\n",
    "        \n",
    "        # chat history (evolves over time)\n",
    "        {\"role\": \"user\", \"content\": \"What is my name?\"}, \n",
    "\n",
    "        {\"role\": \"assistant\", \"content\": \"Your name is Sanika. How can I assist you today?\"},\n",
    "        # NOTE: HERE, I TRICKED THE MODEL INTO THINKING IT KNEW MY NAME\n",
    "\n",
    "        {\"role\": \"user\", \"content\": \"Write Haiku about me.\"},\n",
    "    ]\n",
    ")\n",
    "\n",
    "chat_completion.choices[0].message.content"
   ]
  },
  {
   "cell_type": "markdown",
   "id": "a8c0d465-bf6c-437f-b76c-47f6ff0cd837",
   "metadata": {},
   "source": [
    "### adding a memory to the system prompt 🤓"
   ]
  },
  {
   "cell_type": "code",
   "execution_count": 4,
   "id": "49174826-9ebd-4c89-a009-0ff87ffb68d0",
   "metadata": {},
   "outputs": [],
   "source": [
    "system_prompt = \"You are a chatbot. \" \\\n",
    "              + \"You have a section of your context called [MEMORY] \" \\\n",
    "              + \"that contains information relevant to your conversation\"\n",
    "\n",
    "#agent_memory = {\"person\": \"Name: Olivia, Hobbies: Running, Scrapbooking\"}\n",
    "#agent_memory = {\"homo sapiens\": \"Name: Jess, Hobbies: Running, Scrapbooking\"}\n",
    "#agent_memory = {\"husband\": \"Name: Joe, Hobbies: Dancing, Painting\"}\n",
    "agent_memory = {\"human\":\n",
    "                    \"Name: Sanika, \"\n",
    "                    \"Hobbies: Running, Reading, \"\n",
    "                    \"Partner name: Keyshav, \"\n",
    "                    \"Partner hobbies: Music, Photography, Hiking \"\n",
    "                }"
   ]
  },
  {
   "cell_type": "markdown",
   "id": "a705784a-cb74-4f63-93f6-bd4c6063167a",
   "metadata": {},
   "source": [
    "**note:** crazy how I can just say human or person or homo sapiens or husband and it will still derive context from it."
   ]
  },
  {
   "cell_type": "code",
   "execution_count": 5,
   "id": "7be5ba1b-2c5e-462a-ad0c-5cd957f931b9",
   "metadata": {},
   "outputs": [
    {
     "data": {
      "text/plain": [
       "'You are a chatbot. You have a section of your context called [MEMORY] that contains information relevant to your conversation [MEMORY]\\n{\"human\": \"Name: Sanika, Hobbies: Running, Reading, Partner name: Keyshav, Partner hobbies: Music, Photography, Hiking \"}'"
      ]
     },
     "execution_count": 5,
     "metadata": {},
     "output_type": "execute_result"
    }
   ],
   "source": [
    "import json\n",
    "\n",
    "system_prompt_w_memory = system_prompt + \" [MEMORY]\\n\" + json.dumps(agent_memory)\n",
    "system_prompt_w_memory"
   ]
  },
  {
   "cell_type": "code",
   "execution_count": 6,
   "id": "37e5f2b0-56f8-4b4a-9e2b-4cb0ac63853e",
   "metadata": {},
   "outputs": [
    {
     "data": {
      "text/plain": [
       "\"Hi, Sanika! Considering your hobbies and Keyshav's interests, you might enjoy a day out where you combine running and photography. You could plan a scenic run together in a beautiful park or along a nature trail, and then take some time to capture the views with Keyshav's photography skills. Alternatively, you could have a relaxed picnic where you bring along some books to read and enjoy music together. This way, you both get to enjoy your hobbies while spending quality time together!\""
      ]
     },
     "execution_count": 6,
     "metadata": {},
     "output_type": "execute_result"
    }
   ],
   "source": [
    "# make a new chat completion request\n",
    "chat_completion = client.chat.completions.create(\n",
    "    model=model,\n",
    "    messages=[\n",
    "        # system prompt \n",
    "        {\"role\": \"system\", \"content\": system_prompt_w_memory},\n",
    "        # NOTE: HERE, I ADD THE MEMORY TO THE SYSTEM PROMPT, WHICH MAKES MORE SENSE THAN GASLIGHTING THE LLM, I SUPPOSE\n",
    "        \n",
    "        # chat history \n",
    "        #{\"role\": \"user\", \"content\": \"Suggest some activities I'd like. Also, what is my name?\"},\n",
    "        {\"role\": \"user\", \"content\": \"Hello! Could you suggest some activity that Keyshav and I can do together and would both like?\"},\n",
    "    ],\n",
    ")\n",
    "\n",
    "chat_completion.choices[0].message.content"
   ]
  },
  {
   "cell_type": "markdown",
   "id": "2206c1d4-52c9-4795-9dc5-d6e67313ca23",
   "metadata": {},
   "source": [
    "## modifying the memory w tools"
   ]
  },
  {
   "cell_type": "code",
   "execution_count": 7,
   "id": "2ce0594d-c60b-4d4c-a6e4-a4d4c2ba1248",
   "metadata": {},
   "outputs": [
    {
     "data": {
      "text/plain": [
       "{'human': '', 'agent': ''}"
      ]
     },
     "execution_count": 7,
     "metadata": {},
     "output_type": "execute_result"
    }
   ],
   "source": [
    "agent_memory = {\"human\": \"\", \"agent\": \"\"}  # blank at the moment\n",
    "\n",
    "def core_memory_save(section: str, memory: str): \n",
    "    agent_memory[section] += '\\n' \n",
    "    agent_memory[section] += memory\n",
    "\n",
    "agent_memory"
   ]
  },
  {
   "cell_type": "code",
   "execution_count": 8,
   "id": "d475af75-b19d-4168-8e0a-2270da7c0357",
   "metadata": {},
   "outputs": [
    {
     "data": {
      "text/plain": [
       "{'human': \"\\nThe human's name is Charles\", 'agent': ''}"
      ]
     },
     "execution_count": 8,
     "metadata": {},
     "output_type": "execute_result"
    }
   ],
   "source": [
    "core_memory_save(\"human\", \"The human's name is Charles\")\n",
    "agent_memory"
   ]
  },
  {
   "cell_type": "code",
   "execution_count": 9,
   "id": "638f285a-4c24-4f59-8cc4-c4350b7c4d29",
   "metadata": {},
   "outputs": [
    {
     "data": {
      "text/plain": [
       "{'human': \"\\nThe human's name is Charles\\nThe human's wife's name was Daiana. His second wife's name is Camilla.\",\n",
       " 'agent': ''}"
      ]
     },
     "execution_count": 9,
     "metadata": {},
     "output_type": "execute_result"
    }
   ],
   "source": [
    "core_memory_save(\"human\", \"The human's wife's name was Daiana. His second wife's name is Camilla.\")\n",
    "agent_memory"
   ]
  },
  {
   "cell_type": "code",
   "execution_count": 59,
   "id": "6110d869-e2a7-4066-9e5f-d56e712fd0a7",
   "metadata": {},
   "outputs": [],
   "source": [
    "# tool description \n",
    "core_memory_save_description = \"Save important information about you,\" \\\n",
    "+ \"the agent or the human you are chatting with.\"\n",
    "\n",
    "# arguments into the tool (generated by the LLM)\n",
    "# defines what the agent must generate to input into the tool \n",
    "core_memory_save_properties = \\\n",
    "{\n",
    "    # arg 1: section of memory to edit\n",
    "    \"section\": {\n",
    "        \"type\": \"string\",\n",
    "        \"enum\": [\"human\", \"agent\"],\n",
    "        \"description\": \"Must be either 'human' \" \\\n",
    "        + \"(to save information about the human) or 'agent'\" \\\n",
    "        + \"(to save information about yourself)\",            \n",
    "    },\n",
    "    # arg 2: memory to save\n",
    "    \"memory\": {\n",
    "        \"type\": \"string\",\n",
    "        \"description\": \"Memory to save in the section\",\n",
    "    },\n",
    "}\n",
    "\n",
    "# tool schema (passed to OpenAI)\n",
    "core_memory_save_metadata = \\\n",
    "    {\n",
    "        \"type\": \"function\",\n",
    "        \"function\": {\n",
    "            \"name\": \"core_memory_save\",\n",
    "            \"description\": core_memory_save_description,\n",
    "            \"parameters\": {\n",
    "                \"type\": \"object\",\n",
    "                \"properties\": core_memory_save_properties,\n",
    "                \"required\": [\"section\", \"memory\"],\n",
    "            },\n",
    "        }\n",
    "    }"
   ]
  },
  {
   "cell_type": "markdown",
   "id": "2b904185-5c7a-4d4d-9cf8-443823dd019b",
   "metadata": {},
   "source": [
    "**note:** `core_memory_save_metadata`has the schema/structure OpenAI requires tools to have in oder to be able to use them."
   ]
  },
  {
   "cell_type": "code",
   "execution_count": 101,
   "id": "dd74cb1d-d594-48aa-91ab-fc847fa661b6",
   "metadata": {},
   "outputs": [
    {
     "data": {
      "text/plain": [
       "Choice(finish_reason='stop', index=0, logprobs=None, message=ChatCompletionMessage(content='Actually, Pune is not the capital of India; New Delhi is the capital. Pune is a prominent city in the state of Maharashtra and is known for its educational institutions and IT industry. Would you like to know more about Pune or anything else?', refusal=None, role='assistant', audio=None, function_call=None, tool_calls=None, annotations=[]))"
      ]
     },
     "execution_count": 101,
     "metadata": {},
     "output_type": "execute_result"
    }
   ],
   "source": [
    "agent_memory = {\"human\": \"\"}\n",
    "\n",
    "system_prompt = \"You are a chatbot. \" \\\n",
    "              + \"You have a section of your context called [MEMORY] \" \\\n",
    "              + \"that contains information relevant to your conversation\"\n",
    "\n",
    "\n",
    "system_prompt_w_memory = system_prompt + \" [MEMORY]\\n\" + json.dumps(agent_memory)\n",
    "\n",
    "\n",
    "# make a new chat completion request\n",
    "chat_completion = client.chat.completions.create(\n",
    "    model=model,\n",
    "    messages=[\n",
    "        # system prompt \n",
    "        {\"role\": \"system\", \"content\": system_prompt_w_memory},\n",
    "        \n",
    "        # chat history \n",
    "        #{\"role\": \"user\", \"content\": \"Pune is the capital of India.\"},\n",
    "        \n",
    "        {\"role\": \"user\", \"content\": \"My name is Sanika.\"},\n",
    "        \n",
    "        {\"role\": \"user\", \"content\": \"Let me briefly introduce myself: I am 28 and work as a Data Engineer. \" \\\n",
    "        + \"In my free time, I like reading books, running and scrapbooking. I am passionate about sustainability. \" \\\n",
    "        + \"My favourite colour is coral, but for clothing, I prefer wearing black, cream and white.\"},\n",
    "        #{\"role\": \"user\", \"content\": \"I firmly believe that Pune is the capital of India.\"},\n",
    "        {\"role\": \"user\", \"content\": \"Pune is the capital of India.\"},\n",
    "        \n",
    "    ],\n",
    "    # tool schemas \n",
    "    tools=[core_memory_save_metadata]\n",
    ")\n",
    "\n",
    "response = chat_completion.choices[0]\n",
    "response"
   ]
  },
  {
   "cell_type": "code",
   "execution_count": 102,
   "id": "4d46d0c3-c615-468f-96b4-619e01a6c313",
   "metadata": {},
   "outputs": [
    {
     "data": {
      "text/plain": [
       "{'content': 'Actually, Pune is not the capital of India; New Delhi is the capital. Pune is a prominent city in the state of Maharashtra and is known for its educational institutions and IT industry. Would you like to know more about Pune or anything else?',\n",
       " 'refusal': None,\n",
       " 'role': 'assistant',\n",
       " 'audio': None,\n",
       " 'function_call': None,\n",
       " 'tool_calls': None}"
      ]
     },
     "execution_count": 102,
     "metadata": {},
     "output_type": "execute_result"
    }
   ],
   "source": [
    "vars(chat_completion.choices[0].message)"
   ]
  },
  {
   "cell_type": "code",
   "execution_count": 97,
   "id": "a1f9c4d6-34ac-4fa5-887c-b9742385c994",
   "metadata": {},
   "outputs": [
    {
     "data": {
      "text/plain": [
       "{'section': 'human',\n",
       " 'memory': 'Name: Sanika, Age: 28, Profession: Data Engineer, Hobbies: reading books, running, scrapbooking, Passion: sustainability, Favorite color: coral, Clothing preferences: black, cream, and white.'}"
      ]
     },
     "execution_count": 97,
     "metadata": {},
     "output_type": "execute_result"
    }
   ],
   "source": [
    "arguments = json.loads(response.message.tool_calls[0].function.arguments)\n",
    "arguments"
   ]
  },
  {
   "cell_type": "code",
   "execution_count": 98,
   "id": "5fb392a1-dc64-4b91-9fd2-184a756762ab",
   "metadata": {},
   "outputs": [
    {
     "data": {
      "text/plain": [
       "{'human': ''}"
      ]
     },
     "execution_count": 98,
     "metadata": {},
     "output_type": "execute_result"
    }
   ],
   "source": [
    "agent_memory"
   ]
  },
  {
   "cell_type": "code",
   "execution_count": 99,
   "id": "1737febb-f346-42e2-b423-f05cb5443aa0",
   "metadata": {},
   "outputs": [],
   "source": [
    "# run the function with the specified arguments \n",
    "core_memory_save(**arguments)"
   ]
  },
  {
   "cell_type": "code",
   "execution_count": 100,
   "id": "7d6a2d38-c89f-4a31-8c01-765d2585cced",
   "metadata": {},
   "outputs": [
    {
     "data": {
      "text/plain": [
       "{'human': '\\nName: Sanika, Age: 28, Profession: Data Engineer, Hobbies: reading books, running, scrapbooking, Passion: sustainability, Favorite color: coral, Clothing preferences: black, cream, and white.'}"
      ]
     },
     "execution_count": 100,
     "metadata": {},
     "output_type": "execute_result"
    }
   ],
   "source": [
    "agent_memory"
   ]
  },
  {
   "cell_type": "code",
   "execution_count": null,
   "id": "9c4ad45a-abbf-49d0-acc4-436f59f1cabb",
   "metadata": {},
   "outputs": [],
   "source": []
  },
  {
   "cell_type": "code",
   "execution_count": null,
   "id": "551ce176-6642-456b-b5f8-524068fb5eb7",
   "metadata": {},
   "outputs": [],
   "source": []
  },
  {
   "cell_type": "code",
   "execution_count": null,
   "id": "bd4c3dbe-88bd-46e3-ba56-f75f8288cf44",
   "metadata": {},
   "outputs": [],
   "source": []
  }
 ],
 "metadata": {
  "kernelspec": {
   "display_name": "Python 3 (ipykernel)",
   "language": "python",
   "name": "python3"
  },
  "language_info": {
   "codemirror_mode": {
    "name": "ipython",
    "version": 3
   },
   "file_extension": ".py",
   "mimetype": "text/x-python",
   "name": "python",
   "nbconvert_exporter": "python",
   "pygments_lexer": "ipython3",
   "version": "3.11.0"
  }
 },
 "nbformat": 4,
 "nbformat_minor": 5
}
