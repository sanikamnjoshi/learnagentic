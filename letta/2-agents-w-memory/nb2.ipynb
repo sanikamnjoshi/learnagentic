{
 "cells": [
  {
   "cell_type": "markdown",
   "id": "7d94fb77-0e21-4a69-b0a5-22d4043896ce",
   "metadata": {},
   "source": [
    "# Building Agents with memory "
   ]
  },
  {
   "cell_type": "markdown",
   "id": "4c2a96f8-1bc3-4997-8768-987c95639696",
   "metadata": {},
   "source": [
    "## Preparation"
   ]
  },
  {
   "cell_type": "code",
   "execution_count": null,
   "id": "fb06a83c-2621-4382-9707-df4fcfbe421d",
   "metadata": {},
   "outputs": [],
   "source": [
    "#!rm  -f ~/.letta/sqlite.db"
   ]
  },
  {
   "cell_type": "markdown",
   "id": "0edbebca-7bf9-4eba-b3cb-3d5abf8bcecc",
   "metadata": {},
   "source": [
    "## client setup"
   ]
  },
  {
   "cell_type": "code",
   "execution_count": null,
   "id": "d585ab9c-3ccc-4d26-980f-68e494e53336",
   "metadata": {},
   "outputs": [],
   "source": [
    "from helper import nb_print  # more legible printing"
   ]
  },
  {
   "cell_type": "code",
   "execution_count": null,
   "id": "137aa217-24bb-4372-b21c-37f21a945c9d",
   "metadata": {},
   "outputs": [],
   "source": [
    "from letta import create_client \n",
    "\n",
    "client = create_client() "
   ]
  },
  {
   "cell_type": "code",
   "execution_count": null,
   "id": "c5e108e4-bcf9-4be1-b2c0-66539cbe9ec3",
   "metadata": {},
   "outputs": [],
   "source": [
    "from letta import EmbeddingConfig, LLMConfig\n",
    "\n",
    "client.set_default_embedding_config(EmbeddingConfig.default_config(provider=\"openai\"))\n",
    "client.set_default_llm_config(LLMConfig.default_config(\"gpt-4o-mini\"))"
   ]
  },
  {
   "cell_type": "markdown",
   "id": "29744677-0b25-4a22-85f9-b7ca1635477c",
   "metadata": {},
   "source": [
    "## 1. a simple agent with memory "
   ]
  },
  {
   "cell_type": "markdown",
   "id": "37703a17-7bfb-48b8-b321-a2debcf0341f",
   "metadata": {},
   "source": [
    "### creating an agent "
   ]
  },
  {
   "cell_type": "code",
   "execution_count": null,
   "id": "7a0e6729-0f02-497f-8f85-688ed4f65f68",
   "metadata": {},
   "outputs": [],
   "source": [
    "agent_name = \"simple_agent\""
   ]
  },
  {
   "cell_type": "code",
   "execution_count": null,
   "id": "f52b2313-1c8f-4119-aeaa-451198f161a9",
   "metadata": {},
   "outputs": [],
   "source": [
    "# this deletes the agent if you run this a second time\n",
    "if client.get_agent_id(agent_name): \n",
    "    client.delete_agent(client.get_agent_id(agent_name))"
   ]
  },
  {
   "cell_type": "code",
   "execution_count": null,
   "id": "16bbb19b-2fa2-4cac-8803-5cb179c36d47",
   "metadata": {},
   "outputs": [],
   "source": [
    "from letta.schemas.memory import ChatMemory\n",
    "\n",
    "agent_state = client.create_agent(\n",
    "    name=agent_name, \n",
    "    memory=ChatMemory(\n",
    "        human=\"My name is Sanika\", \n",
    "        persona=\"You are a helpful assistant that loves emojis\"\n",
    "    )\n",
    ")"
   ]
  },
  {
   "cell_type": "code",
   "execution_count": null,
   "id": "1ed0f467-c545-4b26-8a10-2cb009240b5a",
   "metadata": {},
   "outputs": [],
   "source": [
    "response = client.send_message(\n",
    "    agent_id=agent_state.id, \n",
    "    message=\"hello!\", \n",
    "    role=\"user\" \n",
    ")"
   ]
  },
  {
   "cell_type": "code",
   "execution_count": null,
   "id": "75cc6a09-6c24-4b45-8b92-6084acdc3d46",
   "metadata": {},
   "outputs": [],
   "source": [
    "response.usage"
   ]
  },
  {
   "cell_type": "code",
   "execution_count": null,
   "id": "6112ba93-ffce-4dbd-8cd6-48e19cf932a7",
   "metadata": {},
   "outputs": [],
   "source": [
    "response"
   ]
  },
  {
   "cell_type": "code",
   "execution_count": null,
   "id": "de7b9f35-8599-4465-952a-b2db2d7b1533",
   "metadata": {},
   "outputs": [],
   "source": [
    "nb_print(response.messages)"
   ]
  },
  {
   "cell_type": "markdown",
   "id": "6ebc1999-7099-4d9c-a382-9eb464393cad",
   "metadata": {},
   "source": [
    "### agent state "
   ]
  },
  {
   "cell_type": "code",
   "execution_count": null,
   "id": "2df27d7b-d2b6-4d87-90c3-6759a70fa8d7",
   "metadata": {},
   "outputs": [],
   "source": [
    "print(agent_state.system)"
   ]
  },
  {
   "cell_type": "code",
   "execution_count": null,
   "id": "571e53e5-4190-4787-9cb2-efc527885c2d",
   "metadata": {},
   "outputs": [],
   "source": [
    "agent_state.tools"
   ]
  },
  {
   "cell_type": "markdown",
   "id": "8f2c91a5-a5eb-4874-98cf-6f51b70b469e",
   "metadata": {},
   "source": [
    "### Viewing an agent's memory"
   ]
  },
  {
   "cell_type": "code",
   "execution_count": null,
   "id": "85ddb91c-5d8c-4f1c-87fd-f8c2b75f7990",
   "metadata": {},
   "outputs": [],
   "source": [
    "agent_state.memory"
   ]
  },
  {
   "cell_type": "code",
   "execution_count": null,
   "id": "7cc0a070-d3e5-4832-90af-99d3544862e2",
   "metadata": {},
   "outputs": [],
   "source": [
    "client.get_archival_memory_summary(agent_state.id)"
   ]
  },
  {
   "cell_type": "code",
   "execution_count": null,
   "id": "356e2cb1-a89a-4e56-8bed-1aabfd92bb09",
   "metadata": {},
   "outputs": [],
   "source": [
    "client.get_recall_memory_summary(agent_state.id)"
   ]
  },
  {
   "cell_type": "code",
   "execution_count": null,
   "id": "a6e64ee5-fc01-436c-839a-73e65fb162c9",
   "metadata": {},
   "outputs": [],
   "source": [
    "client.get_messages(agent_state.id)[0]"
   ]
  },
  {
   "cell_type": "markdown",
   "id": "1f40da4d-ef39-4f09-ad8a-f8c5b7ef218e",
   "metadata": {},
   "source": [
    "## 2. core memory "
   ]
  },
  {
   "cell_type": "markdown",
   "id": "e853571c-cc6b-4f28-b808-aab90031c0a3",
   "metadata": {},
   "source": [
    "### core memories about the human"
   ]
  },
  {
   "cell_type": "code",
   "execution_count": null,
   "id": "228ba181-b0bf-4f04-bf94-1e520caeafc3",
   "metadata": {},
   "outputs": [],
   "source": [
    "response = client.send_message(\n",
    "    agent_id=agent_state.id, \n",
    "    message = \"My name is actually Max Mustermann.\", \n",
    "    role = \"user\"\n",
    ") \n",
    "nb_print(response.messages)"
   ]
  },
  {
   "cell_type": "markdown",
   "id": "77b645cc-19ed-4d1a-a37b-e8231237867f",
   "metadata": {},
   "source": [
    "### Memories about the agent"
   ]
  },
  {
   "cell_type": "code",
   "execution_count": null,
   "id": "bdcc39c5-311d-446e-9562-fa88eb2a10d1",
   "metadata": {},
   "outputs": [],
   "source": [
    "response = client.send_message(\n",
    "    agent_id=agent_state.id, \n",
    "    message = \"In the future, never use emojis to communicate.\", \n",
    "    role = \"user\"\n",
    ") "
   ]
  },
  {
   "cell_type": "code",
   "execution_count": null,
   "id": "0a064609-fa61-43a5-9503-a41f37fee2a7",
   "metadata": {},
   "outputs": [],
   "source": [
    "nb_print(response.messages)"
   ]
  },
  {
   "cell_type": "code",
   "execution_count": null,
   "id": "c1d96101-c229-47d4-8179-8389cd10e6e8",
   "metadata": {},
   "outputs": [],
   "source": [
    "client.get_core_memory(agent_state.id).get_block('persona')"
   ]
  },
  {
   "cell_type": "code",
   "execution_count": null,
   "id": "0c761603-72e9-4fe1-84a2-8a4e591a520e",
   "metadata": {},
   "outputs": [],
   "source": [
    "response = client.send_message(\n",
    "    agent_id=agent_state.id, \n",
    "    message = \"Oops, I was wrong. My name is actually Sanika\", \n",
    "    role = \"user\"\n",
    ") \n",
    "nb_print(response.messages)"
   ]
  },
  {
   "cell_type": "markdown",
   "id": "90d50b48-2316-4817-b633-48a2cda83dc7",
   "metadata": {},
   "source": [
    "## 3. archival memory"
   ]
  },
  {
   "cell_type": "code",
   "execution_count": null,
   "id": "4e1dd11c-31a6-4d8e-b713-c6bab84ddea1",
   "metadata": {},
   "outputs": [],
   "source": [
    "client.get_archival_memory(agent_state.id)"
   ]
  },
  {
   "cell_type": "code",
   "execution_count": null,
   "id": "abce960f-aaad-459c-82fc-c0c0e50543c1",
   "metadata": {},
   "outputs": [],
   "source": [
    "response = client.send_message(\n",
    "    agent_id=agent_state.id, \n",
    "    message = \"Save the information that 'Sanika loves cats' to archival\", \n",
    "    role = \"user\"\n",
    ") \n",
    "nb_print(response.messages)"
   ]
  },
  {
   "cell_type": "code",
   "execution_count": null,
   "id": "93f066b8-77dc-4fcf-8c2c-f280338d8e75",
   "metadata": {},
   "outputs": [],
   "source": [
    "client.get_archival_memory(agent_state.id)[0].text"
   ]
  },
  {
   "cell_type": "code",
   "execution_count": null,
   "id": "58fc8e82-73ab-4c44-be6d-a911dae0acbc",
   "metadata": {},
   "outputs": [],
   "source": [
    "passage = client.insert_archival_memory(\n",
    "    agent_state.id, \n",
    "    \"Sanika loves Beagles\"\n",
    ")"
   ]
  },
  {
   "cell_type": "code",
   "execution_count": null,
   "id": "06c5de70-8db8-468a-aa50-018fa2f80ed6",
   "metadata": {},
   "outputs": [],
   "source": [
    "passage  # under the hood, it's all embeddings"
   ]
  },
  {
   "cell_type": "code",
   "execution_count": null,
   "id": "673cabb2-83bb-4e7d-baed-eed6c6c67e7a",
   "metadata": {},
   "outputs": [],
   "source": [
    "response = client.send_message(\n",
    "    agent_id=agent_state.id, \n",
    "    role=\"user\", \n",
    "    message=\"What animals do I like? Search archival.\"\n",
    ")\n",
    "nb_print(response.messages)"
   ]
  },
  {
   "cell_type": "code",
   "execution_count": null,
   "id": "e9d7ebbe-12f3-4949-bc89-0dc1e3b85c42",
   "metadata": {},
   "outputs": [],
   "source": []
  },
  {
   "cell_type": "code",
   "execution_count": null,
   "id": "d452213f-b977-4a88-ba56-726216a9d218",
   "metadata": {},
   "outputs": [],
   "source": []
  }
 ],
 "metadata": {
  "kernelspec": {
   "display_name": "Python 3 (ipykernel)",
   "language": "python",
   "name": "python3"
  },
  "language_info": {
   "codemirror_mode": {
    "name": "ipython",
    "version": 3
   },
   "file_extension": ".py",
   "mimetype": "text/x-python",
   "name": "python",
   "nbconvert_exporter": "python",
   "pygments_lexer": "ipython3",
   "version": "3.11.0"
  }
 },
 "nbformat": 4,
 "nbformat_minor": 5
}
