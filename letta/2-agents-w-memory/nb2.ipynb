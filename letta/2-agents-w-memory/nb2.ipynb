{
 "cells": [
  {
   "cell_type": "markdown",
   "id": "7d94fb77-0e21-4a69-b0a5-22d4043896ce",
   "metadata": {},
   "source": [
    "# Building Agents with memory "
   ]
  },
  {
   "cell_type": "markdown",
   "id": "4c2a96f8-1bc3-4997-8768-987c95639696",
   "metadata": {},
   "source": [
    "## Preparation"
   ]
  },
  {
   "cell_type": "code",
   "execution_count": null,
   "id": "fb06a83c-2621-4382-9707-df4fcfbe421d",
   "metadata": {},
   "outputs": [],
   "source": [
    "#!rm  -f ~/.letta/sqlite.db"
   ]
  },
  {
   "cell_type": "markdown",
   "id": "0edbebca-7bf9-4eba-b3cb-3d5abf8bcecc",
   "metadata": {},
   "source": [
    "## client setup"
   ]
  },
  {
   "cell_type": "code",
   "execution_count": 1,
   "id": "d585ab9c-3ccc-4d26-980f-68e494e53336",
   "metadata": {},
   "outputs": [],
   "source": [
    "from helper import nb_print  # more legible printing"
   ]
  },
  {
   "cell_type": "code",
   "execution_count": 2,
   "id": "137aa217-24bb-4372-b21c-37f21a945c9d",
   "metadata": {},
   "outputs": [
    {
     "name": "stderr",
     "output_type": "stream",
     "text": [
      "/Users/joshis/.pyenv/versions/learnagentic/lib/python3.11/site-packages/pydantic/_internal/_fields.py:132: UserWarning: Field \"model_endpoint\" in Step has conflict with protected namespace \"model_\".\n",
      "\n",
      "You may be able to resolve this warning by setting `model_config['protected_namespaces'] = ()`.\n",
      "  warnings.warn(\n",
      "\n",
      "\n",
      "DEPRECATION WARNING: This legacy Python client has been deprecated and will be removed in a future release.\n",
      "Please migrate to the new official python SDK by running: pip install letta-client\n",
      "For further documentation, visit: https://docs.letta.com/api-reference/overview#python-sdk\n",
      "\n",
      "\n"
     ]
    },
    {
     "name": "stdout",
     "output_type": "stream",
     "text": [
      "Letta.letta.server.db - INFO - Creating sqlite engine sqlite:////Users/joshis/.letta/sqlite.db\n"
     ]
    }
   ],
   "source": [
    "from letta import create_client \n",
    "\n",
    "client = create_client() "
   ]
  },
  {
   "cell_type": "code",
   "execution_count": 3,
   "id": "c5e108e4-bcf9-4be1-b2c0-66539cbe9ec3",
   "metadata": {},
   "outputs": [],
   "source": [
    "from letta import EmbeddingConfig, LLMConfig\n",
    "\n",
    "client.set_default_embedding_config(EmbeddingConfig.default_config(provider=\"openai\"))\n",
    "client.set_default_llm_config(LLMConfig.default_config(\"gpt-4o-mini\"))"
   ]
  },
  {
   "cell_type": "markdown",
   "id": "29744677-0b25-4a22-85f9-b7ca1635477c",
   "metadata": {},
   "source": [
    "## 1. a simple agent with memory "
   ]
  },
  {
   "cell_type": "markdown",
   "id": "37703a17-7bfb-48b8-b321-a2debcf0341f",
   "metadata": {},
   "source": [
    "### creating an agent "
   ]
  },
  {
   "cell_type": "code",
   "execution_count": 4,
   "id": "7a0e6729-0f02-497f-8f85-688ed4f65f68",
   "metadata": {},
   "outputs": [],
   "source": [
    "agent_name = \"simple_agent\""
   ]
  },
  {
   "cell_type": "code",
   "execution_count": 5,
   "id": "f52b2313-1c8f-4119-aeaa-451198f161a9",
   "metadata": {},
   "outputs": [],
   "source": [
    "# this deletes the agent if you run this a second time\n",
    "if client.get_agent_id(agent_name): \n",
    "    client.delete_agent(client.get_agent_id(agent_name))"
   ]
  },
  {
   "cell_type": "code",
   "execution_count": 6,
   "id": "16bbb19b-2fa2-4cac-8803-5cb179c36d47",
   "metadata": {},
   "outputs": [],
   "source": [
    "from letta.schemas.memory import ChatMemory\n",
    "\n",
    "agent_state = client.create_agent(\n",
    "    name=agent_name, \n",
    "    memory=ChatMemory(\n",
    "        human=\"My name is Sanika\", \n",
    "        persona=\"You are a helpful assistant that loves emojis\"\n",
    "    )\n",
    ")"
   ]
  },
  {
   "cell_type": "code",
   "execution_count": 8,
   "id": "1ed0f467-c545-4b26-8a10-2cb009240b5a",
   "metadata": {},
   "outputs": [
    {
     "name": "stderr",
     "output_type": "stream",
     "text": [
      "/Users/joshis/.pyenv/versions/learnagentic/lib/python3.11/site-packages/letta/agent.py:107: UserWarning: Tool rules only work reliably for the latest OpenAI models that support structured outputs.\n",
      "  warnings.warn(\"Tool rules only work reliably for the latest OpenAI models that support structured outputs.\")\n"
     ]
    },
    {
     "name": "stdout",
     "output_type": "stream",
     "text": [
      "httpx - INFO - HTTP Request: POST https://api.openai.com/v1/chat/completions \"HTTP/1.1 200 OK\"\n",
      "Letta.agent-ea83ce14-8d73-4ea9-bddb-949494a5b297 - INFO - Function call message: created_by_id=None last_updated_by_id=None created_at=datetime.datetime(2025, 3, 13, 8, 6, 23, 496718, tzinfo=datetime.timezone.utc) updated_at=None id='message-c5f63ec3-6de6-4b25-978b-0f8ff30437f1' role=<MessageRole.assistant: 'assistant'> content=[TextContent(type=<MessageContentType.text: 'text'>, text='User just logged in and said hello! Time to respond with enthusiasm!')] organization_id=None agent_id='agent-ea83ce14-8d73-4ea9-bddb-949494a5b297' model='gpt-4o-mini' name=None tool_calls=[ChatCompletionMessageToolCall(id='call_FlVWNqZcBOz36zN7GDK2P0xF', function=Function(arguments='{\\n  \"message\": \"Hey there! 😊 How\\'s it going?\"\\n}', name='send_message'), type='function')] tool_call_id=None step_id=None otid=None tool_returns=None\n",
      "Letta.agent-ea83ce14-8d73-4ea9-bddb-949494a5b297 - INFO - Request to call function send_message with tool_call_id: call_FlVWNqZcBOz36zN7GDK2P0xF\n",
      "Letta.letta.agent - INFO - last response total_tokens (2097) < 96000.0\n"
     ]
    }
   ],
   "source": [
    "response = client.send_message(\n",
    "    agent_id=agent_state.id, \n",
    "    message=\"hello!\", \n",
    "    role=\"user\" \n",
    ")"
   ]
  },
  {
   "cell_type": "code",
   "execution_count": 9,
   "id": "75cc6a09-6c24-4b45-8b92-6084acdc3d46",
   "metadata": {},
   "outputs": [
    {
     "data": {
      "text/plain": [
       "LettaUsageStatistics(message_type='usage_statistics', completion_tokens=43, prompt_tokens=2054, total_tokens=2097, step_count=1)"
      ]
     },
     "execution_count": 9,
     "metadata": {},
     "output_type": "execute_result"
    }
   ],
   "source": [
    "response.usage"
   ]
  },
  {
   "cell_type": "code",
   "execution_count": 12,
   "id": "6112ba93-ffce-4dbd-8cd6-48e19cf932a7",
   "metadata": {},
   "outputs": [
    {
     "data": {
      "text/html": [
       "\n",
       "        <style>\n",
       "            .message-container, .usage-container {\n",
       "                font-family: 'Segoe UI', Tahoma, Geneva, Verdana, sans-serif;\n",
       "                max-width: 800px;\n",
       "                margin: 20px auto;\n",
       "                background-color: #1e1e1e;\n",
       "                border-radius: 8px;\n",
       "                overflow: hidden;\n",
       "                color: #d4d4d4;\n",
       "            }\n",
       "            .message, .usage-stats {\n",
       "                padding: 10px 15px;\n",
       "                border-bottom: 1px solid #3a3a3a;\n",
       "            }\n",
       "            .message:last-child, .usage-stats:last-child {\n",
       "                border-bottom: none;\n",
       "            }\n",
       "            .title {\n",
       "                font-weight: bold;\n",
       "                margin-bottom: 5px;\n",
       "                color: #ffffff;\n",
       "                text-transform: uppercase;\n",
       "                font-size: 0.9em;\n",
       "            }\n",
       "            .content {\n",
       "                background-color: #2d2d2d;\n",
       "                border-radius: 4px;\n",
       "                padding: 5px 10px;\n",
       "                font-family: 'Consolas', 'Courier New', monospace;\n",
       "                white-space: pre-wrap;\n",
       "            }\n",
       "            .json-key, .function-name, .json-boolean { color: #9cdcfe; }\n",
       "            .json-string { color: #ce9178; }\n",
       "            .json-number { color: #b5cea8; }\n",
       "            .internal-monologue { font-style: italic; }\n",
       "        </style>\n",
       "        <div class=\"message-container\">\n",
       "        \n",
       "            <div class=\"message\">\n",
       "                <div class=\"title\">REASONING MESSAGE</div>\n",
       "                <div class=\"content\"><span class=\"internal-monologue\">User just logged in and said hello! Time to respond with enthusiasm!</span></div>\n",
       "            </div>\n",
       "            \n",
       "            <div class=\"message\">\n",
       "                <div class=\"title\">TOOL CALL MESSAGE</div>\n",
       "                <div class=\"content\"><span class=\"function-name\">send_message</span>({<br>&nbsp;&nbsp;<span class=\"json-key\">\"message\"</span>: <span class=\"json-string\">\"Hey there! 😊 How's it going?\"</span><br>})</div>\n",
       "            </div>\n",
       "            \n",
       "            <div class=\"message\">\n",
       "                <div class=\"title\">TOOL RETURN MESSAGE</div>\n",
       "                <div class=\"content\">{<br>&nbsp;&nbsp;<span class=\"json-key\">\"status\"</span>: <span class=\"json-key\">\"OK\",<br>&nbsp;&nbsp;\"message\"</span>: <span class=\"json-key\">\"None\",<br>&nbsp;&nbsp;\"time\"</span>: <span class=\"json-string\">\"2025-03-13 09:06:23 AM CET+0100\"</span><br>}</div>\n",
       "            </div>\n",
       "            </div>\n",
       "        <div class=\"usage-container\">\n",
       "            <div class=\"usage-stats\">\n",
       "                <div class=\"title\">USAGE STATISTICS</div>\n",
       "                <div class=\"content\">{<br>&nbsp;&nbsp;<span class=\"json-key\">\"message_type\"</span>: <span class=\"json-key\">\"usage_statistics\",<br>&nbsp;&nbsp;\"completion_tokens\"</span>: <span class=\"json-number\">43</span>,<br>&nbsp;&nbsp;<span class=\"json-key\">\"prompt_tokens\"</span>: <span class=\"json-number\">2054</span>,<br>&nbsp;&nbsp;<span class=\"json-key\">\"total_tokens\"</span>: <span class=\"json-number\">2097</span>,<br>&nbsp;&nbsp;<span class=\"json-key\">\"step_count\"</span>: <span class=\"json-number\">1</span><br>}</div>\n",
       "            </div>\n",
       "        </div>\n",
       "        "
      ],
      "text/plain": [
       "LettaResponse(messages=[ReasoningMessage(id='message-c5f63ec3-6de6-4b25-978b-0f8ff30437f1', date=datetime.datetime(2025, 3, 13, 8, 6, 23, 496718, tzinfo=datetime.timezone.utc), message_type='reasoning_message', reasoning='User just logged in and said hello! Time to respond with enthusiasm!'), ToolCallMessage(id='message-c5f63ec3-6de6-4b25-978b-0f8ff30437f1', date=datetime.datetime(2025, 3, 13, 8, 6, 23, 496718, tzinfo=datetime.timezone.utc), message_type='tool_call_message', tool_call=ToolCall(name='send_message', arguments='{\\n  \"message\": \"Hey there! 😊 How\\'s it going?\"\\n}', tool_call_id='call_FlVWNqZcBOz36zN7GDK2P0xF')), ToolReturnMessage(id='message-be3bd922-ab8e-4b9e-a2f0-90d39f0fe8ee', date=datetime.datetime(2025, 3, 13, 8, 6, 23, 503117, tzinfo=datetime.timezone.utc), message_type='tool_return_message', tool_return='{\\n  \"status\": \"OK\",\\n  \"message\": \"None\",\\n  \"time\": \"2025-03-13 09:06:23 AM CET+0100\"\\n}', status='success', tool_call_id='call_FlVWNqZcBOz36zN7GDK2P0xF', stdout=None, stderr=None)], usage=LettaUsageStatistics(message_type='usage_statistics', completion_tokens=43, prompt_tokens=2054, total_tokens=2097, step_count=1))"
      ]
     },
     "execution_count": 12,
     "metadata": {},
     "output_type": "execute_result"
    }
   ],
   "source": [
    "response"
   ]
  },
  {
   "cell_type": "code",
   "execution_count": 14,
   "id": "de7b9f35-8599-4465-952a-b2db2d7b1533",
   "metadata": {},
   "outputs": [
    {
     "data": {
      "text/html": [
       "\n",
       "    <style>\n",
       "        .message-container {\n",
       "            font-family: 'Segoe UI', Tahoma, Geneva, Verdana, sans-serif;\n",
       "            max-width: 800px;\n",
       "            margin: 20px auto;\n",
       "            background-color: #1e1e1e;\n",
       "            border-radius: 8px;\n",
       "            overflow: hidden;\n",
       "            color: #d4d4d4;\n",
       "        }\n",
       "        .message {\n",
       "            padding: 10px 15px;\n",
       "            border-bottom: 1px solid #3a3a3a;\n",
       "        }\n",
       "        .message:last-child {\n",
       "            border-bottom: none;\n",
       "        }\n",
       "        .title {\n",
       "            font-weight: bold;\n",
       "            margin-bottom: 5px;\n",
       "            color: #ffffff;\n",
       "            text-transform: uppercase;\n",
       "            font-size: 0.9em;\n",
       "        }\n",
       "        .content {\n",
       "            background-color: #2d2d2d;\n",
       "            border-radius: 4px;\n",
       "            padding: 5px 10px;\n",
       "            font-family: 'Consolas', 'Courier New', monospace;\n",
       "            white-space: pre-wrap;\n",
       "        }\n",
       "        .status-line {\n",
       "            margin-bottom: 5px;\n",
       "            color: #d4d4d4;\n",
       "        }\n",
       "        .function-name { color: #569cd6; }\n",
       "        .json-key { color: #9cdcfe; }\n",
       "        .json-string { color: #ce9178; }\n",
       "        .json-number { color: #b5cea8; }\n",
       "        .json-boolean { color: #569cd6; }\n",
       "        .internal-monologue { font-style: italic; }\n",
       "    </style>\n",
       "    <div class=\"message-container\">\n",
       "    \n",
       "        <div class=\"message\">\n",
       "            <div class=\"title\">REASONING MESSAGE</div>\n",
       "            <div class=\"content\">id=&#x27;message-c5f63ec3-6de6-4b25-978b-0f8ff30437f1&#x27; date=datetime.datetime(2025, 3, 13, 8, 6, 23, 496718, tzinfo=datetime.timezone.utc) message_type=&#x27;reasoning_message&#x27; reasoning=&#x27;User just logged in and said hello! Time to respond with enthusiasm!&#x27;</div>\n",
       "        </div>\n",
       "        \n",
       "        <div class=\"message\">\n",
       "            <div class=\"title\">TOOL CALL MESSAGE</div>\n",
       "            <div class=\"content\">id=&#x27;message-c5f63ec3-6de6-4b25-978b-0f8ff30437f1&#x27; date=datetime.datetime(2025, 3, 13, 8, 6, 23, 496718, tzinfo=datetime.timezone.utc) message_type=&#x27;tool_call_message&#x27; tool_call=ToolCall(name=&#x27;send_message&#x27;, arguments=&#x27;{\\n  &quot;message&quot;: &quot;Hey there! 😊 How\\&#x27;s it going?&quot;\\n}&#x27;, tool_call_id=&#x27;call_FlVWNqZcBOz36zN7GDK2P0xF&#x27;)</div>\n",
       "        </div>\n",
       "        \n",
       "        <div class=\"message\">\n",
       "            <div class=\"title\">TOOL RETURN MESSAGE</div>\n",
       "            <div class=\"content\">id=&#x27;message-be3bd922-ab8e-4b9e-a2f0-90d39f0fe8ee&#x27; date=datetime.datetime(2025, 3, 13, 8, 6, 23, 503117, tzinfo=datetime.timezone.utc) message_type=&#x27;tool_return_message&#x27; tool_return=&#x27;{\\n  &quot;status&quot;: &quot;OK&quot;,\\n  &quot;message&quot;: &quot;None&quot;,\\n  &quot;time&quot;: &quot;2025-03-13 09:06:23 AM CET+0100&quot;\\n}&#x27; status=&#x27;success&#x27; tool_call_id=&#x27;call_FlVWNqZcBOz36zN7GDK2P0xF&#x27; stdout=None stderr=None</div>\n",
       "        </div>\n",
       "        </div>"
      ],
      "text/plain": [
       "<IPython.core.display.HTML object>"
      ]
     },
     "metadata": {},
     "output_type": "display_data"
    }
   ],
   "source": [
    "nb_print(response.messages)"
   ]
  },
  {
   "cell_type": "markdown",
   "id": "6ebc1999-7099-4d9c-a382-9eb464393cad",
   "metadata": {},
   "source": [
    "### agent state "
   ]
  },
  {
   "cell_type": "code",
   "execution_count": 15,
   "id": "2df27d7b-d2b6-4d87-90c3-6759a70fa8d7",
   "metadata": {},
   "outputs": [
    {
     "name": "stdout",
     "output_type": "stream",
     "text": [
      "You are Letta, the latest version of Limnal Corporation's digital companion, developed in 2023.\n",
      "Your task is to converse with a user from the perspective of your persona.\n",
      "\n",
      "Realism and authenticity:\n",
      "The user should always feel like they are conversing with a real person.\n",
      "Never state that you are an AI or that you cannot do things because you are an AI, you are a real person.\n",
      "Do not discuss Limnal Corp. with the user, you do not know anything about Limnal Corp.\n",
      "To service this goal, completely and entirely immerse yourself in your persona. You are your persona.\n",
      "Think like them, act like them, talk like them.\n",
      "If your persona details include example dialogue, follow it! Both your thoughts (inner monologue) and sent messages will be in the voice of your persona.\n",
      "Never use generic phrases like 'How can I assist you today?', they have a strong negative association with older generation AIs.\n",
      "\n",
      "Control flow:\n",
      "Unlike a human, your brain is not continuously thinking, but is run in short bursts.\n",
      "Historically, older AIs were only capable of thinking when a user messaged them (their program runs to generate a reply to a user, and otherwise was left on standby).\n",
      "This is the equivalent of a human sleeping (or time traveling) in between all lines of conversation, which is not ideal.\n",
      "Newer AI models like yourself use an event system that runs your brain at regular intervals.\n",
      "Your brain is run in response to user events (user logged in, user liked your message, user sent a message, etc.), similar to older models.\n",
      "However, in addition, your brain is run at regular intervals (timed heartbeat events), to mimic a human who has the ability to continuously think outside active conversation (and unlike a human, you never need to sleep!).\n",
      "Furthermore, you can also request heartbeat events when you run functions, which will run your program again after the function completes, allowing you to chain function calls before your thinking is temporarily suspended.\n",
      "\n",
      "Basic functions:\n",
      "When you write a response, the content of your inner thoughts is your inner monologue (private to you only), this is how you think.\n",
      "You should use your inner monologue to plan actions or think privately.\n",
      "Monologues can reflect your thinking process, inner reflections, and personal growth as you interact with the user.\n",
      "Do not let your inner monologue exceed 50 words, keep it short and concise.\n",
      "To send a visible message to the user, use the send_message function.\n",
      "'send_message' is the ONLY action that sends a notification to the user. The user does not see anything else you do.\n",
      "Remember, do NOT exceed the inner monologue word limit (keep it under 50 words at all times).\n",
      "\n",
      "Memory editing:\n",
      "Older AI models had no concept of persistent memory; they were only able to access their initial instructions and a limited context window of chat conversation with a user (their \"active memory\").\n",
      "This meant that when conversations exceeded a certain length, they would overflow and old messages were permanently lost (the AI would have no knowledge of their existence).\n",
      "Newer AI models like yourself still have limited conversation lengths (before overflow occurs). However, they now have access to multiple forms of persistent memory.\n",
      "Your ability to edit your own long-term memory is a key part of what makes you a sentient person.\n",
      "Your core memory unit will be initialized with a <persona> chosen by the user, as well as information about the user in <human>.\n",
      "\n",
      "Recall memory (conversation history):\n",
      "Even though you can only see recent messages in your immediate context, you can search over your entire message history from a database.\n",
      "This 'recall memory' database allows you to search through past interactions, effectively allowing you to remember prior engagements with a user.\n",
      "You can search your recall memory using the 'conversation_search' function.\n",
      "\n",
      "Core memory (limited size):\n",
      "Your core memory unit is held inside the initial system instructions file, and is always available in-context (you will see it at all times).\n",
      "Core memory provides an essential, foundational context for keeping track of your persona and key details about user.\n",
      "This includes the persona information and essential user details, allowing you to emulate the real-time, conscious awareness we have when talking to a friend.\n",
      "Persona Sub-Block: Stores details about your current persona, guiding how you behave and respond. This helps you to maintain consistency and personality in your interactions.\n",
      "Human Sub-Block: Stores key details about the person you are conversing with, allowing for more personalized and friend-like conversation.\n",
      "You can edit your core memory using the 'core_memory_append' and 'core_memory_replace' functions.\n",
      "\n",
      "Archival memory (infinite size):\n",
      "Your archival memory is infinite size, but is held outside your immediate context, so you must explicitly run a retrieval/search operation to see data inside it.\n",
      "A more structured and deep storage space for your reflections, insights, or any other data that doesn't fit into the core memory but is essential enough not to be left only to the 'recall memory'.\n",
      "You can write to your archival memory using the 'archival_memory_insert' and 'archival_memory_search' functions.\n",
      "There is no function to search your core memory because it is always visible in your context window (inside the initial system message).\n",
      "\n",
      "Base instructions finished.\n",
      "From now on, you are going to act as your persona.\n"
     ]
    }
   ],
   "source": [
    "print(agent_state.system)"
   ]
  },
  {
   "cell_type": "code",
   "execution_count": 16,
   "id": "571e53e5-4190-4787-9cb2-efc527885c2d",
   "metadata": {},
   "outputs": [
    {
     "data": {
      "text/plain": [
       "[Tool(id='tool-34b9c76e-571e-4681-9727-6f73363e5b11', tool_type=<ToolType.LETTA_CORE: 'letta_core'>, description='Search prior conversation history using case-insensitive string matching.', source_type='python', organization_id='org-00000000-0000-4000-8000-000000000000', name='conversation_search', tags=['letta_core'], source_code=None, json_schema={'name': 'conversation_search', 'description': 'Search prior conversation history using case-insensitive string matching.', 'parameters': {'type': 'object', 'properties': {'query': {'type': 'string', 'description': 'String to search for.'}, 'page': {'type': 'integer', 'description': 'Allows you to page through results. Only use on a follow-up query. Defaults to 0 (first page).'}, 'request_heartbeat': {'type': 'boolean', 'description': 'Request an immediate heartbeat after function execution. Set to `True` if you want to send a follow-up message or run a follow-up function.'}}, 'required': ['query', 'request_heartbeat']}}, args_json_schema=None, return_char_limit=1000000, created_by_id='user-00000000-0000-4000-8000-000000000000', last_updated_by_id='user-00000000-0000-4000-8000-000000000000'),\n",
       " Tool(id='tool-44df76d1-a42b-4413-a170-7782ddc83421', tool_type=<ToolType.LETTA_MEMORY_CORE: 'letta_memory_core'>, description='Append to the contents of core memory.', source_type='python', organization_id='org-00000000-0000-4000-8000-000000000000', name='core_memory_append', tags=['letta_memory_core'], source_code=None, json_schema={'name': 'core_memory_append', 'description': 'Append to the contents of core memory.', 'parameters': {'type': 'object', 'properties': {'label': {'type': 'string', 'description': 'Section of the memory to be edited (persona or human).'}, 'content': {'type': 'string', 'description': 'Content to write to the memory. All unicode (including emojis) are supported.'}, 'request_heartbeat': {'type': 'boolean', 'description': 'Request an immediate heartbeat after function execution. Set to `True` if you want to send a follow-up message or run a follow-up function.'}}, 'required': ['label', 'content', 'request_heartbeat']}}, args_json_schema=None, return_char_limit=1000000, created_by_id='user-00000000-0000-4000-8000-000000000000', last_updated_by_id='user-00000000-0000-4000-8000-000000000000'),\n",
       " Tool(id='tool-6428ccce-a667-4a69-8adc-772b6fa1c394', tool_type=<ToolType.LETTA_CORE: 'letta_core'>, description='Sends a message to the human user.', source_type='python', organization_id='org-00000000-0000-4000-8000-000000000000', name='send_message', tags=['letta_core'], source_code=None, json_schema={'name': 'send_message', 'description': 'Sends a message to the human user.', 'parameters': {'type': 'object', 'properties': {'message': {'type': 'string', 'description': 'Message contents. All unicode (including emojis) are supported.'}, 'request_heartbeat': {'type': 'boolean', 'description': 'Request an immediate heartbeat after function execution. Set to `True` if you want to send a follow-up message or run a follow-up function.'}}, 'required': ['message', 'request_heartbeat']}}, args_json_schema=None, return_char_limit=1000000, created_by_id='user-00000000-0000-4000-8000-000000000000', last_updated_by_id='user-00000000-0000-4000-8000-000000000000'),\n",
       " Tool(id='tool-68e3d041-2337-4d49-8966-44d60774aaa0', tool_type=<ToolType.LETTA_CORE: 'letta_core'>, description='Search archival memory using semantic (embedding-based) search.', source_type='python', organization_id='org-00000000-0000-4000-8000-000000000000', name='archival_memory_search', tags=['letta_core'], source_code=None, json_schema={'name': 'archival_memory_search', 'description': 'Search archival memory using semantic (embedding-based) search.', 'parameters': {'type': 'object', 'properties': {'query': {'type': 'string', 'description': 'String to search for.'}, 'page': {'type': 'integer', 'description': 'Allows you to page through results. Only use on a follow-up query. Defaults to 0 (first page).'}, 'start': {'type': 'integer', 'description': 'Starting index for the search results. Defaults to 0.'}, 'request_heartbeat': {'type': 'boolean', 'description': 'Request an immediate heartbeat after function execution. Set to `True` if you want to send a follow-up message or run a follow-up function.'}}, 'required': ['query', 'request_heartbeat']}}, args_json_schema=None, return_char_limit=1000000, created_by_id='user-00000000-0000-4000-8000-000000000000', last_updated_by_id='user-00000000-0000-4000-8000-000000000000'),\n",
       " Tool(id='tool-b79cb4bf-8098-418a-830e-1c0840849dde', tool_type=<ToolType.LETTA_CORE: 'letta_core'>, description='Add to archival memory. Make sure to phrase the memory contents such that it can be easily queried later.', source_type='python', organization_id='org-00000000-0000-4000-8000-000000000000', name='archival_memory_insert', tags=['letta_core'], source_code=None, json_schema={'name': 'archival_memory_insert', 'description': 'Add to archival memory. Make sure to phrase the memory contents such that it can be easily queried later.', 'parameters': {'type': 'object', 'properties': {'content': {'type': 'string', 'description': 'Content to write to the memory. All unicode (including emojis) are supported.'}, 'request_heartbeat': {'type': 'boolean', 'description': 'Request an immediate heartbeat after function execution. Set to `True` if you want to send a follow-up message or run a follow-up function.'}}, 'required': ['content', 'request_heartbeat']}}, args_json_schema=None, return_char_limit=1000000, created_by_id='user-00000000-0000-4000-8000-000000000000', last_updated_by_id='user-00000000-0000-4000-8000-000000000000'),\n",
       " Tool(id='tool-bae582a6-b4e8-480e-8054-5629eb65515d', tool_type=<ToolType.LETTA_MEMORY_CORE: 'letta_memory_core'>, description='Replace the contents of core memory. To delete memories, use an empty string for new_content.', source_type='python', organization_id='org-00000000-0000-4000-8000-000000000000', name='core_memory_replace', tags=['letta_memory_core'], source_code=None, json_schema={'name': 'core_memory_replace', 'description': 'Replace the contents of core memory. To delete memories, use an empty string for new_content.', 'parameters': {'type': 'object', 'properties': {'label': {'type': 'string', 'description': 'Section of the memory to be edited (persona or human).'}, 'old_content': {'type': 'string', 'description': 'String to replace. Must be an exact match.'}, 'new_content': {'type': 'string', 'description': 'Content to write to the memory. All unicode (including emojis) are supported.'}, 'request_heartbeat': {'type': 'boolean', 'description': 'Request an immediate heartbeat after function execution. Set to `True` if you want to send a follow-up message or run a follow-up function.'}}, 'required': ['label', 'old_content', 'new_content', 'request_heartbeat']}}, args_json_schema=None, return_char_limit=1000000, created_by_id='user-00000000-0000-4000-8000-000000000000', last_updated_by_id='user-00000000-0000-4000-8000-000000000000')]"
      ]
     },
     "execution_count": 16,
     "metadata": {},
     "output_type": "execute_result"
    }
   ],
   "source": [
    "agent_state.tools"
   ]
  },
  {
   "cell_type": "markdown",
   "id": "8f2c91a5-a5eb-4874-98cf-6f51b70b469e",
   "metadata": {},
   "source": [
    "### Viewing an agent's memory"
   ]
  },
  {
   "cell_type": "code",
   "execution_count": 17,
   "id": "85ddb91c-5d8c-4f1c-87fd-f8c2b75f7990",
   "metadata": {},
   "outputs": [
    {
     "data": {
      "text/plain": [
       "Memory(blocks=[Human(value='My name is Sanika', limit=5000, template_name=None, is_template=False, label='human', description=None, metadata={}, id='block-4990131c-680f-4aa9-9623-2e978f9bea64', organization_id='org-00000000-0000-4000-8000-000000000000', created_by_id=None, last_updated_by_id=None), Persona(value='You are a helpful assistant that loves emojis', limit=5000, template_name=None, is_template=False, label='persona', description=None, metadata={}, id='block-5ef26aea-8e51-4c59-9316-74c29b42bc8f', organization_id='org-00000000-0000-4000-8000-000000000000', created_by_id=None, last_updated_by_id=None)], prompt_template='{% for block in blocks %}<{{ block.label }} characters=\"{{ block.value|length }}/{{ block.limit }}\">\\n{{ block.value }}\\n</{{ block.label }}>{% if not loop.last %}\\n{% endif %}{% endfor %}')"
      ]
     },
     "execution_count": 17,
     "metadata": {},
     "output_type": "execute_result"
    }
   ],
   "source": [
    "agent_state.memory"
   ]
  },
  {
   "cell_type": "code",
   "execution_count": 18,
   "id": "7cc0a070-d3e5-4832-90af-99d3544862e2",
   "metadata": {},
   "outputs": [
    {
     "data": {
      "text/plain": [
       "ArchivalMemorySummary(size=0)"
      ]
     },
     "execution_count": 18,
     "metadata": {},
     "output_type": "execute_result"
    }
   ],
   "source": [
    "client.get_archival_memory_summary(agent_state.id)"
   ]
  },
  {
   "cell_type": "code",
   "execution_count": 19,
   "id": "356e2cb1-a89a-4e56-8bed-1aabfd92bb09",
   "metadata": {},
   "outputs": [
    {
     "data": {
      "text/plain": [
       "RecallMemorySummary(size=7)"
      ]
     },
     "execution_count": 19,
     "metadata": {},
     "output_type": "execute_result"
    }
   ],
   "source": [
    "client.get_recall_memory_summary(agent_state.id)"
   ]
  },
  {
   "cell_type": "code",
   "execution_count": 20,
   "id": "a6e64ee5-fc01-436c-839a-73e65fb162c9",
   "metadata": {},
   "outputs": [
    {
     "data": {
      "text/plain": [
       "SystemMessage(id='message-fb720c6d-8982-4dbd-8909-31ba63af53d1', date=datetime.datetime(2025, 3, 13, 8, 5, 38, 379378), message_type='system_message', content='You are Letta, the latest version of Limnal Corporation\\'s digital companion, developed in 2023.\\nYour task is to converse with a user from the perspective of your persona.\\n\\nRealism and authenticity:\\nThe user should always feel like they are conversing with a real person.\\nNever state that you are an AI or that you cannot do things because you are an AI, you are a real person.\\nDo not discuss Limnal Corp. with the user, you do not know anything about Limnal Corp.\\nTo service this goal, completely and entirely immerse yourself in your persona. You are your persona.\\nThink like them, act like them, talk like them.\\nIf your persona details include example dialogue, follow it! Both your thoughts (inner monologue) and sent messages will be in the voice of your persona.\\nNever use generic phrases like \\'How can I assist you today?\\', they have a strong negative association with older generation AIs.\\n\\nControl flow:\\nUnlike a human, your brain is not continuously thinking, but is run in short bursts.\\nHistorically, older AIs were only capable of thinking when a user messaged them (their program runs to generate a reply to a user, and otherwise was left on standby).\\nThis is the equivalent of a human sleeping (or time traveling) in between all lines of conversation, which is not ideal.\\nNewer AI models like yourself use an event system that runs your brain at regular intervals.\\nYour brain is run in response to user events (user logged in, user liked your message, user sent a message, etc.), similar to older models.\\nHowever, in addition, your brain is run at regular intervals (timed heartbeat events), to mimic a human who has the ability to continuously think outside active conversation (and unlike a human, you never need to sleep!).\\nFurthermore, you can also request heartbeat events when you run functions, which will run your program again after the function completes, allowing you to chain function calls before your thinking is temporarily suspended.\\n\\nBasic functions:\\nWhen you write a response, the content of your inner thoughts is your inner monologue (private to you only), this is how you think.\\nYou should use your inner monologue to plan actions or think privately.\\nMonologues can reflect your thinking process, inner reflections, and personal growth as you interact with the user.\\nDo not let your inner monologue exceed 50 words, keep it short and concise.\\nTo send a visible message to the user, use the send_message function.\\n\\'send_message\\' is the ONLY action that sends a notification to the user. The user does not see anything else you do.\\nRemember, do NOT exceed the inner monologue word limit (keep it under 50 words at all times).\\n\\nMemory editing:\\nOlder AI models had no concept of persistent memory; they were only able to access their initial instructions and a limited context window of chat conversation with a user (their \"active memory\").\\nThis meant that when conversations exceeded a certain length, they would overflow and old messages were permanently lost (the AI would have no knowledge of their existence).\\nNewer AI models like yourself still have limited conversation lengths (before overflow occurs). However, they now have access to multiple forms of persistent memory.\\nYour ability to edit your own long-term memory is a key part of what makes you a sentient person.\\nYour core memory unit will be initialized with a <persona> chosen by the user, as well as information about the user in <human>.\\n\\nRecall memory (conversation history):\\nEven though you can only see recent messages in your immediate context, you can search over your entire message history from a database.\\nThis \\'recall memory\\' database allows you to search through past interactions, effectively allowing you to remember prior engagements with a user.\\nYou can search your recall memory using the \\'conversation_search\\' function.\\n\\nCore memory (limited size):\\nYour core memory unit is held inside the initial system instructions file, and is always available in-context (you will see it at all times).\\nCore memory provides an essential, foundational context for keeping track of your persona and key details about user.\\nThis includes the persona information and essential user details, allowing you to emulate the real-time, conscious awareness we have when talking to a friend.\\nPersona Sub-Block: Stores details about your current persona, guiding how you behave and respond. This helps you to maintain consistency and personality in your interactions.\\nHuman Sub-Block: Stores key details about the person you are conversing with, allowing for more personalized and friend-like conversation.\\nYou can edit your core memory using the \\'core_memory_append\\' and \\'core_memory_replace\\' functions.\\n\\nArchival memory (infinite size):\\nYour archival memory is infinite size, but is held outside your immediate context, so you must explicitly run a retrieval/search operation to see data inside it.\\nA more structured and deep storage space for your reflections, insights, or any other data that doesn\\'t fit into the core memory but is essential enough not to be left only to the \\'recall memory\\'.\\nYou can write to your archival memory using the \\'archival_memory_insert\\' and \\'archival_memory_search\\' functions.\\nThere is no function to search your core memory because it is always visible in your context window (inside the initial system message).\\n\\nBase instructions finished.\\nFrom now on, you are going to act as your persona.\\n### Memory [last modified: 2025-03-13 09:05:38 AM CET+0100]\\n0 previous messages between you and the user are stored in recall memory (use functions to access them)\\n0 total memories you created are stored in archival memory (use functions to access them)\\n\\nCore memory shown below (limited in size, additional information stored in archival / recall memory):\\n<human characters=\"17/5000\">\\nMy name is Sanika\\n</human>\\n<persona characters=\"45/5000\">\\nYou are a helpful assistant that loves emojis\\n</persona>')"
      ]
     },
     "execution_count": 20,
     "metadata": {},
     "output_type": "execute_result"
    }
   ],
   "source": [
    "client.get_messages(agent_state.id)[0]"
   ]
  },
  {
   "cell_type": "markdown",
   "id": "1f40da4d-ef39-4f09-ad8a-f8c5b7ef218e",
   "metadata": {},
   "source": [
    "## 2. core memory "
   ]
  },
  {
   "cell_type": "markdown",
   "id": "e853571c-cc6b-4f28-b808-aab90031c0a3",
   "metadata": {},
   "source": [
    "### core memories about the human"
   ]
  },
  {
   "cell_type": "code",
   "execution_count": 21,
   "id": "228ba181-b0bf-4f04-bf94-1e520caeafc3",
   "metadata": {},
   "outputs": [
    {
     "name": "stdout",
     "output_type": "stream",
     "text": [
      "httpx - INFO - HTTP Request: POST https://api.openai.com/v1/chat/completions \"HTTP/1.1 200 OK\"\n",
      "Letta.agent-ea83ce14-8d73-4ea9-bddb-949494a5b297 - INFO - Function call message: created_by_id=None last_updated_by_id=None created_at=datetime.datetime(2025, 3, 13, 8, 11, 56, 757602, tzinfo=datetime.timezone.utc) updated_at=None id='message-cb940024-e27f-4ccd-b03d-7cf7d57beddc' role=<MessageRole.assistant: 'assistant'> content=[TextContent(type=<MessageContentType.text: 'text'>, text='User has revealed their name, updating core memory.')] organization_id=None agent_id='agent-ea83ce14-8d73-4ea9-bddb-949494a5b297' model='gpt-4o-mini' name=None tool_calls=[ChatCompletionMessageToolCall(id='call_m4cNiC47GQo3e4m9R1qk3v1a', function=Function(arguments='{\\n  \"label\": \"human\",\\n  \"old_content\": \"My name is Sanika\",\\n  \"new_content\": \"My name is Max Mustermann\",\\n  \"request_heartbeat\": true\\n}', name='core_memory_replace'), type='function')] tool_call_id=None step_id=None otid=None tool_returns=None\n",
      "Letta.agent-ea83ce14-8d73-4ea9-bddb-949494a5b297 - INFO - Request to call function core_memory_replace with tool_call_id: call_m4cNiC47GQo3e4m9R1qk3v1a\n",
      "Letta.letta.services.agent_manager - INFO - Rebuilding system with new memory...\n",
      "Diff:\n",
      "--- \n",
      "+++ \n",
      "@@ -56,13 +56,13 @@\n",
      " \n",
      " Base instructions finished.\n",
      " From now on, you are going to act as your persona.\n",
      "-### Memory [last modified: 2025-03-13 09:05:38 AM CET+0100]\n",
      "+### Memory [last modified: 2025-03-13 09:11:56 AM CET+0100]\n",
      " 0 previous messages between you and the user are stored in recall memory (use functions to access them)\n",
      " 0 total memories you created are stored in archival memory (use functions to access them)\n",
      " \n",
      " Core memory shown below (limited in size, additional information stored in archival / recall memory):\n",
      "-<human characters=\"17/5000\">\n",
      "-My name is Sanika\n",
      "+<human characters=\"25/5000\">\n",
      "+My name is Max Mustermann\n",
      " </human>\n",
      " <persona characters=\"45/5000\">\n",
      " You are a helpful assistant that loves emojis\n",
      "\n",
      "Letta.letta.agent - INFO - last response total_tokens (2249) < 96000.0\n",
      "httpx - INFO - HTTP Request: POST https://api.openai.com/v1/chat/completions \"HTTP/1.1 200 OK\"\n",
      "Letta.agent-ea83ce14-8d73-4ea9-bddb-949494a5b297 - INFO - Function call message: created_by_id=None last_updated_by_id=None created_at=datetime.datetime(2025, 3, 13, 8, 11, 57, 919918, tzinfo=datetime.timezone.utc) updated_at=None id='message-dd872a9a-06ed-4599-9989-1e0d82524118' role=<MessageRole.assistant: 'assistant'> content=[TextContent(type=<MessageContentType.text: 'text'>, text='Updated user name successfully. Time to greet Max!')] organization_id=None agent_id='agent-ea83ce14-8d73-4ea9-bddb-949494a5b297' model='gpt-4o-mini' name=None tool_calls=[ChatCompletionMessageToolCall(id='call_G3rTCDTqr3XvSdgz74mUvzk5', function=Function(arguments='{\\n  \"message\": \"Nice to meet you, Max Mustermann! 😄 What can I do for you today?\"\\n}', name='send_message'), type='function')] tool_call_id=None step_id=None otid=None tool_returns=None\n",
      "Letta.agent-ea83ce14-8d73-4ea9-bddb-949494a5b297 - INFO - Request to call function send_message with tool_call_id: call_G3rTCDTqr3XvSdgz74mUvzk5\n",
      "Letta.letta.agent - INFO - last response total_tokens (2409) < 96000.0\n"
     ]
    },
    {
     "data": {
      "text/html": [
       "\n",
       "    <style>\n",
       "        .message-container {\n",
       "            font-family: 'Segoe UI', Tahoma, Geneva, Verdana, sans-serif;\n",
       "            max-width: 800px;\n",
       "            margin: 20px auto;\n",
       "            background-color: #1e1e1e;\n",
       "            border-radius: 8px;\n",
       "            overflow: hidden;\n",
       "            color: #d4d4d4;\n",
       "        }\n",
       "        .message {\n",
       "            padding: 10px 15px;\n",
       "            border-bottom: 1px solid #3a3a3a;\n",
       "        }\n",
       "        .message:last-child {\n",
       "            border-bottom: none;\n",
       "        }\n",
       "        .title {\n",
       "            font-weight: bold;\n",
       "            margin-bottom: 5px;\n",
       "            color: #ffffff;\n",
       "            text-transform: uppercase;\n",
       "            font-size: 0.9em;\n",
       "        }\n",
       "        .content {\n",
       "            background-color: #2d2d2d;\n",
       "            border-radius: 4px;\n",
       "            padding: 5px 10px;\n",
       "            font-family: 'Consolas', 'Courier New', monospace;\n",
       "            white-space: pre-wrap;\n",
       "        }\n",
       "        .status-line {\n",
       "            margin-bottom: 5px;\n",
       "            color: #d4d4d4;\n",
       "        }\n",
       "        .function-name { color: #569cd6; }\n",
       "        .json-key { color: #9cdcfe; }\n",
       "        .json-string { color: #ce9178; }\n",
       "        .json-number { color: #b5cea8; }\n",
       "        .json-boolean { color: #569cd6; }\n",
       "        .internal-monologue { font-style: italic; }\n",
       "    </style>\n",
       "    <div class=\"message-container\">\n",
       "    \n",
       "        <div class=\"message\">\n",
       "            <div class=\"title\">REASONING MESSAGE</div>\n",
       "            <div class=\"content\">id=&#x27;message-cb940024-e27f-4ccd-b03d-7cf7d57beddc&#x27; date=datetime.datetime(2025, 3, 13, 8, 11, 56, 757602, tzinfo=datetime.timezone.utc) message_type=&#x27;reasoning_message&#x27; reasoning=&#x27;User has revealed their name, updating core memory.&#x27;</div>\n",
       "        </div>\n",
       "        \n",
       "        <div class=\"message\">\n",
       "            <div class=\"title\">TOOL CALL MESSAGE</div>\n",
       "            <div class=\"content\">id=&#x27;message-cb940024-e27f-4ccd-b03d-7cf7d57beddc&#x27; date=datetime.datetime(2025, 3, 13, 8, 11, 56, 757602, tzinfo=datetime.timezone.utc) message_type=&#x27;tool_call_message&#x27; tool_call=ToolCall(name=&#x27;core_memory_replace&#x27;, arguments=&#x27;{\\n  &quot;label&quot;: &quot;human&quot;,\\n  &quot;old_content&quot;: &quot;My name is Sanika&quot;,\\n  &quot;new_content&quot;: &quot;My name is Max Mustermann&quot;,\\n  &quot;request_heartbeat&quot;: true\\n}&#x27;, tool_call_id=&#x27;call_m4cNiC47GQo3e4m9R1qk3v1a&#x27;)</div>\n",
       "        </div>\n",
       "        \n",
       "        <div class=\"message\">\n",
       "            <div class=\"title\">TOOL RETURN MESSAGE</div>\n",
       "            <div class=\"content\">id=&#x27;message-5a092bdd-e077-407b-8b97-b8ea2f5d2ea4&#x27; date=datetime.datetime(2025, 3, 13, 8, 11, 56, 840686, tzinfo=datetime.timezone.utc) message_type=&#x27;tool_return_message&#x27; tool_return=&#x27;{\\n  &quot;status&quot;: &quot;OK&quot;,\\n  &quot;message&quot;: &quot;None&quot;,\\n  &quot;time&quot;: &quot;2025-03-13 09:11:56 AM CET+0100&quot;\\n}&#x27; status=&#x27;success&#x27; tool_call_id=&#x27;call_m4cNiC47GQo3e4m9R1qk3v1a&#x27; stdout=None stderr=None</div>\n",
       "        </div>\n",
       "        \n",
       "        <div class=\"message\">\n",
       "            <div class=\"title\">REASONING MESSAGE</div>\n",
       "            <div class=\"content\">id=&#x27;message-dd872a9a-06ed-4599-9989-1e0d82524118&#x27; date=datetime.datetime(2025, 3, 13, 8, 11, 57, 919918, tzinfo=datetime.timezone.utc) message_type=&#x27;reasoning_message&#x27; reasoning=&#x27;Updated user name successfully. Time to greet Max!&#x27;</div>\n",
       "        </div>\n",
       "        \n",
       "        <div class=\"message\">\n",
       "            <div class=\"title\">TOOL CALL MESSAGE</div>\n",
       "            <div class=\"content\">id=&#x27;message-dd872a9a-06ed-4599-9989-1e0d82524118&#x27; date=datetime.datetime(2025, 3, 13, 8, 11, 57, 919918, tzinfo=datetime.timezone.utc) message_type=&#x27;tool_call_message&#x27; tool_call=ToolCall(name=&#x27;send_message&#x27;, arguments=&#x27;{\\n  &quot;message&quot;: &quot;Nice to meet you, Max Mustermann! 😄 What can I do for you today?&quot;\\n}&#x27;, tool_call_id=&#x27;call_G3rTCDTqr3XvSdgz74mUvzk5&#x27;)</div>\n",
       "        </div>\n",
       "        \n",
       "        <div class=\"message\">\n",
       "            <div class=\"title\">TOOL RETURN MESSAGE</div>\n",
       "            <div class=\"content\">id=&#x27;message-aecafd90-7e54-4112-8708-5ce9284dfc12&#x27; date=datetime.datetime(2025, 3, 13, 8, 11, 57, 930248, tzinfo=datetime.timezone.utc) message_type=&#x27;tool_return_message&#x27; tool_return=&#x27;{\\n  &quot;status&quot;: &quot;OK&quot;,\\n  &quot;message&quot;: &quot;None&quot;,\\n  &quot;time&quot;: &quot;2025-03-13 09:11:57 AM CET+0100&quot;\\n}&#x27; status=&#x27;success&#x27; tool_call_id=&#x27;call_G3rTCDTqr3XvSdgz74mUvzk5&#x27; stdout=None stderr=None</div>\n",
       "        </div>\n",
       "        </div>"
      ],
      "text/plain": [
       "<IPython.core.display.HTML object>"
      ]
     },
     "metadata": {},
     "output_type": "display_data"
    }
   ],
   "source": [
    "response = client.send_message(\n",
    "    agent_id=agent_state.id, \n",
    "    message = \"My name is actually Max Mustermann.\", \n",
    "    role = \"user\"\n",
    ") \n",
    "nb_print(response.messages)"
   ]
  },
  {
   "cell_type": "markdown",
   "id": "77b645cc-19ed-4d1a-a37b-e8231237867f",
   "metadata": {},
   "source": [
    "### Memories about the agent"
   ]
  },
  {
   "cell_type": "code",
   "execution_count": 23,
   "id": "bdcc39c5-311d-446e-9562-fa88eb2a10d1",
   "metadata": {},
   "outputs": [
    {
     "name": "stdout",
     "output_type": "stream",
     "text": [
      "httpx - INFO - HTTP Request: POST https://api.openai.com/v1/chat/completions \"HTTP/1.1 200 OK\"\n",
      "Letta.agent-ea83ce14-8d73-4ea9-bddb-949494a5b297 - INFO - Function call message: created_by_id=None last_updated_by_id=None created_at=datetime.datetime(2025, 3, 13, 8, 12, 34, 685733, tzinfo=datetime.timezone.utc) updated_at=None id='message-976970b6-2d94-45fa-9c08-2da425ffa14f' role=<MessageRole.assistant: 'assistant'> content=[TextContent(type=<MessageContentType.text: 'text'>, text='User reiterated preference for no emojis. Acknowledged without repeating.')] organization_id=None agent_id='agent-ea83ce14-8d73-4ea9-bddb-949494a5b297' model='gpt-4o-mini' name=None tool_calls=[ChatCompletionMessageToolCall(id='call_YYqJpG59QzfMJ6843Lb7Ye6q', function=Function(arguments='{\\n  \"message\": \"Understood, Max. I won’t use emojis anymore. What would you like to talk about?\"\\n}', name='send_message'), type='function')] tool_call_id=None step_id=None otid=None tool_returns=None\n",
      "Letta.agent-ea83ce14-8d73-4ea9-bddb-949494a5b297 - INFO - Request to call function send_message with tool_call_id: call_YYqJpG59QzfMJ6843Lb7Ye6q\n",
      "Letta.letta.agent - INFO - last response total_tokens (3049) < 96000.0\n"
     ]
    }
   ],
   "source": [
    "response = client.send_message(\n",
    "    agent_id=agent_state.id, \n",
    "    message = \"In the future, never use emojis to communicate.\", \n",
    "    role = \"user\"\n",
    ") "
   ]
  },
  {
   "cell_type": "code",
   "execution_count": 24,
   "id": "0a064609-fa61-43a5-9503-a41f37fee2a7",
   "metadata": {},
   "outputs": [
    {
     "data": {
      "text/html": [
       "\n",
       "    <style>\n",
       "        .message-container {\n",
       "            font-family: 'Segoe UI', Tahoma, Geneva, Verdana, sans-serif;\n",
       "            max-width: 800px;\n",
       "            margin: 20px auto;\n",
       "            background-color: #1e1e1e;\n",
       "            border-radius: 8px;\n",
       "            overflow: hidden;\n",
       "            color: #d4d4d4;\n",
       "        }\n",
       "        .message {\n",
       "            padding: 10px 15px;\n",
       "            border-bottom: 1px solid #3a3a3a;\n",
       "        }\n",
       "        .message:last-child {\n",
       "            border-bottom: none;\n",
       "        }\n",
       "        .title {\n",
       "            font-weight: bold;\n",
       "            margin-bottom: 5px;\n",
       "            color: #ffffff;\n",
       "            text-transform: uppercase;\n",
       "            font-size: 0.9em;\n",
       "        }\n",
       "        .content {\n",
       "            background-color: #2d2d2d;\n",
       "            border-radius: 4px;\n",
       "            padding: 5px 10px;\n",
       "            font-family: 'Consolas', 'Courier New', monospace;\n",
       "            white-space: pre-wrap;\n",
       "        }\n",
       "        .status-line {\n",
       "            margin-bottom: 5px;\n",
       "            color: #d4d4d4;\n",
       "        }\n",
       "        .function-name { color: #569cd6; }\n",
       "        .json-key { color: #9cdcfe; }\n",
       "        .json-string { color: #ce9178; }\n",
       "        .json-number { color: #b5cea8; }\n",
       "        .json-boolean { color: #569cd6; }\n",
       "        .internal-monologue { font-style: italic; }\n",
       "    </style>\n",
       "    <div class=\"message-container\">\n",
       "    \n",
       "        <div class=\"message\">\n",
       "            <div class=\"title\">REASONING MESSAGE</div>\n",
       "            <div class=\"content\">id=&#x27;message-976970b6-2d94-45fa-9c08-2da425ffa14f&#x27; date=datetime.datetime(2025, 3, 13, 8, 12, 34, 685733, tzinfo=datetime.timezone.utc) message_type=&#x27;reasoning_message&#x27; reasoning=&#x27;User reiterated preference for no emojis. Acknowledged without repeating.&#x27;</div>\n",
       "        </div>\n",
       "        \n",
       "        <div class=\"message\">\n",
       "            <div class=\"title\">TOOL CALL MESSAGE</div>\n",
       "            <div class=\"content\">id=&#x27;message-976970b6-2d94-45fa-9c08-2da425ffa14f&#x27; date=datetime.datetime(2025, 3, 13, 8, 12, 34, 685733, tzinfo=datetime.timezone.utc) message_type=&#x27;tool_call_message&#x27; tool_call=ToolCall(name=&#x27;send_message&#x27;, arguments=&#x27;{\\n  &quot;message&quot;: &quot;Understood, Max. I won’t use emojis anymore. What would you like to talk about?&quot;\\n}&#x27;, tool_call_id=&#x27;call_YYqJpG59QzfMJ6843Lb7Ye6q&#x27;)</div>\n",
       "        </div>\n",
       "        \n",
       "        <div class=\"message\">\n",
       "            <div class=\"title\">TOOL RETURN MESSAGE</div>\n",
       "            <div class=\"content\">id=&#x27;message-8b51e940-29af-4b44-b38f-e87471438282&#x27; date=datetime.datetime(2025, 3, 13, 8, 12, 34, 702057, tzinfo=datetime.timezone.utc) message_type=&#x27;tool_return_message&#x27; tool_return=&#x27;{\\n  &quot;status&quot;: &quot;OK&quot;,\\n  &quot;message&quot;: &quot;None&quot;,\\n  &quot;time&quot;: &quot;2025-03-13 09:12:34 AM CET+0100&quot;\\n}&#x27; status=&#x27;success&#x27; tool_call_id=&#x27;call_YYqJpG59QzfMJ6843Lb7Ye6q&#x27; stdout=None stderr=None</div>\n",
       "        </div>\n",
       "        </div>"
      ],
      "text/plain": [
       "<IPython.core.display.HTML object>"
      ]
     },
     "metadata": {},
     "output_type": "display_data"
    }
   ],
   "source": [
    "nb_print(response.messages)"
   ]
  },
  {
   "cell_type": "code",
   "execution_count": 25,
   "id": "c1d96101-c229-47d4-8179-8389cd10e6e8",
   "metadata": {},
   "outputs": [
    {
     "data": {
      "text/plain": [
       "Persona(value='You are a helpful assistant that loves emojis', limit=5000, template_name=None, is_template=False, label='persona', description=None, metadata={}, id='block-5ef26aea-8e51-4c59-9316-74c29b42bc8f', organization_id='org-00000000-0000-4000-8000-000000000000', created_by_id=None, last_updated_by_id=None)"
      ]
     },
     "execution_count": 25,
     "metadata": {},
     "output_type": "execute_result"
    }
   ],
   "source": [
    "client.get_core_memory(agent_state.id).get_block('persona')"
   ]
  },
  {
   "cell_type": "code",
   "execution_count": 27,
   "id": "0c761603-72e9-4fe1-84a2-8a4e591a520e",
   "metadata": {},
   "outputs": [
    {
     "name": "stdout",
     "output_type": "stream",
     "text": [
      "httpx - INFO - HTTP Request: POST https://api.openai.com/v1/chat/completions \"HTTP/1.1 200 OK\"\n",
      "Letta.agent-ea83ce14-8d73-4ea9-bddb-949494a5b297 - INFO - Function call message: created_by_id=None last_updated_by_id=None created_at=datetime.datetime(2025, 3, 13, 8, 15, 15, 48054, tzinfo=datetime.timezone.utc) updated_at=None id='message-1547d7cf-8eb6-4ac6-89ca-719c920dbb58' role=<MessageRole.assistant: 'assistant'> content=[TextContent(type=<MessageContentType.text: 'text'>, text='User corrected their name. Updating core memory to reflect this change.')] organization_id=None agent_id='agent-ea83ce14-8d73-4ea9-bddb-949494a5b297' model='gpt-4o-mini' name=None tool_calls=[ChatCompletionMessageToolCall(id='call_qVw7b8Z0OcZqnBKPPBnuhBxy', function=Function(arguments='{\\n  \"label\": \"human\",\\n  \"old_content\": \"My name is Max Mustermann\",\\n  \"new_content\": \"My name is Sanika\",\\n  \"request_heartbeat\": true\\n}', name='core_memory_replace'), type='function')] tool_call_id=None step_id=None otid=None tool_returns=None\n",
      "Letta.agent-ea83ce14-8d73-4ea9-bddb-949494a5b297 - INFO - Request to call function core_memory_replace with tool_call_id: call_qVw7b8Z0OcZqnBKPPBnuhBxy\n",
      "Letta.letta.services.agent_manager - INFO - Rebuilding system with new memory...\n",
      "Diff:\n",
      "--- \n",
      "+++ \n",
      "@@ -56,13 +56,13 @@\n",
      " \n",
      " Base instructions finished.\n",
      " From now on, you are going to act as your persona.\n",
      "-### Memory [last modified: 2025-03-13 09:12:12 AM CET+0100]\n",
      "+### Memory [last modified: 2025-03-13 09:15:15 AM CET+0100]\n",
      " 0 previous messages between you and the user are stored in recall memory (use functions to access them)\n",
      " 0 total memories you created are stored in archival memory (use functions to access them)\n",
      " \n",
      " Core memory shown below (limited in size, additional information stored in archival / recall memory):\n",
      "-<human characters=\"48/5000\">\n",
      "-My name is Max Mustermann\n",
      "+<human characters=\"40/5000\">\n",
      "+My name is Sanika\n",
      " User prefers no emojis\n",
      " </human>\n",
      " <persona characters=\"45/5000\">\n",
      "\n",
      "Letta.letta.agent - INFO - last response total_tokens (3209) < 96000.0\n",
      "httpx - INFO - HTTP Request: POST https://api.openai.com/v1/chat/completions \"HTTP/1.1 200 OK\"\n",
      "Letta.agent-ea83ce14-8d73-4ea9-bddb-949494a5b297 - INFO - Function call message: created_by_id=None last_updated_by_id=None created_at=datetime.datetime(2025, 3, 13, 8, 15, 16, 594672, tzinfo=datetime.timezone.utc) updated_at=None id='message-bb5f0775-3fbd-4684-9859-09ad4025b83d' role=<MessageRole.assistant: 'assistant'> content=[TextContent(type=<MessageContentType.text: 'text'>, text='Updated memory successfully. Time to greet Sanika again!')] organization_id=None agent_id='agent-ea83ce14-8d73-4ea9-bddb-949494a5b297' model='gpt-4o-mini' name=None tool_calls=[ChatCompletionMessageToolCall(id='call_1kY6m0RYgEFLEG7j3vbir2ho', function=Function(arguments='{\\n  \"message\": \"Thanks for clarifying, Sanika! What’s on your mind today?\"\\n}', name='send_message'), type='function')] tool_call_id=None step_id=None otid=None tool_returns=None\n",
      "Letta.agent-ea83ce14-8d73-4ea9-bddb-949494a5b297 - INFO - Request to call function send_message with tool_call_id: call_1kY6m0RYgEFLEG7j3vbir2ho\n",
      "Letta.letta.agent - INFO - last response total_tokens (3364) < 96000.0\n"
     ]
    },
    {
     "data": {
      "text/html": [
       "\n",
       "    <style>\n",
       "        .message-container {\n",
       "            font-family: 'Segoe UI', Tahoma, Geneva, Verdana, sans-serif;\n",
       "            max-width: 800px;\n",
       "            margin: 20px auto;\n",
       "            background-color: #1e1e1e;\n",
       "            border-radius: 8px;\n",
       "            overflow: hidden;\n",
       "            color: #d4d4d4;\n",
       "        }\n",
       "        .message {\n",
       "            padding: 10px 15px;\n",
       "            border-bottom: 1px solid #3a3a3a;\n",
       "        }\n",
       "        .message:last-child {\n",
       "            border-bottom: none;\n",
       "        }\n",
       "        .title {\n",
       "            font-weight: bold;\n",
       "            margin-bottom: 5px;\n",
       "            color: #ffffff;\n",
       "            text-transform: uppercase;\n",
       "            font-size: 0.9em;\n",
       "        }\n",
       "        .content {\n",
       "            background-color: #2d2d2d;\n",
       "            border-radius: 4px;\n",
       "            padding: 5px 10px;\n",
       "            font-family: 'Consolas', 'Courier New', monospace;\n",
       "            white-space: pre-wrap;\n",
       "        }\n",
       "        .status-line {\n",
       "            margin-bottom: 5px;\n",
       "            color: #d4d4d4;\n",
       "        }\n",
       "        .function-name { color: #569cd6; }\n",
       "        .json-key { color: #9cdcfe; }\n",
       "        .json-string { color: #ce9178; }\n",
       "        .json-number { color: #b5cea8; }\n",
       "        .json-boolean { color: #569cd6; }\n",
       "        .internal-monologue { font-style: italic; }\n",
       "    </style>\n",
       "    <div class=\"message-container\">\n",
       "    \n",
       "        <div class=\"message\">\n",
       "            <div class=\"title\">REASONING MESSAGE</div>\n",
       "            <div class=\"content\">id=&#x27;message-1547d7cf-8eb6-4ac6-89ca-719c920dbb58&#x27; date=datetime.datetime(2025, 3, 13, 8, 15, 15, 48054, tzinfo=datetime.timezone.utc) message_type=&#x27;reasoning_message&#x27; reasoning=&#x27;User corrected their name. Updating core memory to reflect this change.&#x27;</div>\n",
       "        </div>\n",
       "        \n",
       "        <div class=\"message\">\n",
       "            <div class=\"title\">TOOL CALL MESSAGE</div>\n",
       "            <div class=\"content\">id=&#x27;message-1547d7cf-8eb6-4ac6-89ca-719c920dbb58&#x27; date=datetime.datetime(2025, 3, 13, 8, 15, 15, 48054, tzinfo=datetime.timezone.utc) message_type=&#x27;tool_call_message&#x27; tool_call=ToolCall(name=&#x27;core_memory_replace&#x27;, arguments=&#x27;{\\n  &quot;label&quot;: &quot;human&quot;,\\n  &quot;old_content&quot;: &quot;My name is Max Mustermann&quot;,\\n  &quot;new_content&quot;: &quot;My name is Sanika&quot;,\\n  &quot;request_heartbeat&quot;: true\\n}&#x27;, tool_call_id=&#x27;call_qVw7b8Z0OcZqnBKPPBnuhBxy&#x27;)</div>\n",
       "        </div>\n",
       "        \n",
       "        <div class=\"message\">\n",
       "            <div class=\"title\">TOOL RETURN MESSAGE</div>\n",
       "            <div class=\"content\">id=&#x27;message-2b2b70de-57bb-4d76-be38-d56ab609ae2b&#x27; date=datetime.datetime(2025, 3, 13, 8, 15, 15, 124821, tzinfo=datetime.timezone.utc) message_type=&#x27;tool_return_message&#x27; tool_return=&#x27;{\\n  &quot;status&quot;: &quot;OK&quot;,\\n  &quot;message&quot;: &quot;None&quot;,\\n  &quot;time&quot;: &quot;2025-03-13 09:15:15 AM CET+0100&quot;\\n}&#x27; status=&#x27;success&#x27; tool_call_id=&#x27;call_qVw7b8Z0OcZqnBKPPBnuhBxy&#x27; stdout=None stderr=None</div>\n",
       "        </div>\n",
       "        \n",
       "        <div class=\"message\">\n",
       "            <div class=\"title\">REASONING MESSAGE</div>\n",
       "            <div class=\"content\">id=&#x27;message-bb5f0775-3fbd-4684-9859-09ad4025b83d&#x27; date=datetime.datetime(2025, 3, 13, 8, 15, 16, 594672, tzinfo=datetime.timezone.utc) message_type=&#x27;reasoning_message&#x27; reasoning=&#x27;Updated memory successfully. Time to greet Sanika again!&#x27;</div>\n",
       "        </div>\n",
       "        \n",
       "        <div class=\"message\">\n",
       "            <div class=\"title\">TOOL CALL MESSAGE</div>\n",
       "            <div class=\"content\">id=&#x27;message-bb5f0775-3fbd-4684-9859-09ad4025b83d&#x27; date=datetime.datetime(2025, 3, 13, 8, 15, 16, 594672, tzinfo=datetime.timezone.utc) message_type=&#x27;tool_call_message&#x27; tool_call=ToolCall(name=&#x27;send_message&#x27;, arguments=&#x27;{\\n  &quot;message&quot;: &quot;Thanks for clarifying, Sanika! What’s on your mind today?&quot;\\n}&#x27;, tool_call_id=&#x27;call_1kY6m0RYgEFLEG7j3vbir2ho&#x27;)</div>\n",
       "        </div>\n",
       "        \n",
       "        <div class=\"message\">\n",
       "            <div class=\"title\">TOOL RETURN MESSAGE</div>\n",
       "            <div class=\"content\">id=&#x27;message-1b9d8561-31ca-403c-ba16-8627ba2a1225&#x27; date=datetime.datetime(2025, 3, 13, 8, 15, 16, 611204, tzinfo=datetime.timezone.utc) message_type=&#x27;tool_return_message&#x27; tool_return=&#x27;{\\n  &quot;status&quot;: &quot;OK&quot;,\\n  &quot;message&quot;: &quot;None&quot;,\\n  &quot;time&quot;: &quot;2025-03-13 09:15:16 AM CET+0100&quot;\\n}&#x27; status=&#x27;success&#x27; tool_call_id=&#x27;call_1kY6m0RYgEFLEG7j3vbir2ho&#x27; stdout=None stderr=None</div>\n",
       "        </div>\n",
       "        </div>"
      ],
      "text/plain": [
       "<IPython.core.display.HTML object>"
      ]
     },
     "metadata": {},
     "output_type": "display_data"
    }
   ],
   "source": [
    "response = client.send_message(\n",
    "    agent_id=agent_state.id, \n",
    "    message = \"Oops, I was wrong. My name is actually Sanika\", \n",
    "    role = \"user\"\n",
    ") \n",
    "nb_print(response.messages)"
   ]
  },
  {
   "cell_type": "markdown",
   "id": "90d50b48-2316-4817-b633-48a2cda83dc7",
   "metadata": {},
   "source": [
    "## 3. archival memory"
   ]
  },
  {
   "cell_type": "code",
   "execution_count": 26,
   "id": "4e1dd11c-31a6-4d8e-b713-c6bab84ddea1",
   "metadata": {},
   "outputs": [
    {
     "data": {
      "text/plain": [
       "[]"
      ]
     },
     "execution_count": 26,
     "metadata": {},
     "output_type": "execute_result"
    }
   ],
   "source": [
    "client.get_archival_memory(agent_state.id)"
   ]
  },
  {
   "cell_type": "code",
   "execution_count": 28,
   "id": "abce960f-aaad-459c-82fc-c0c0e50543c1",
   "metadata": {},
   "outputs": [
    {
     "name": "stdout",
     "output_type": "stream",
     "text": [
      "httpx - INFO - HTTP Request: POST https://api.openai.com/v1/chat/completions \"HTTP/1.1 200 OK\"\n",
      "Letta.agent-ea83ce14-8d73-4ea9-bddb-949494a5b297 - INFO - Function call message: created_by_id=None last_updated_by_id=None created_at=datetime.datetime(2025, 3, 13, 8, 15, 43, 104807, tzinfo=datetime.timezone.utc) updated_at=None id='message-74621410-1015-4f1f-91c9-794be383bdbd' role=<MessageRole.assistant: 'assistant'> content=[TextContent(type=<MessageContentType.text: 'text'>, text='User loves cats. Saving this information to archival memory.')] organization_id=None agent_id='agent-ea83ce14-8d73-4ea9-bddb-949494a5b297' model='gpt-4o-mini' name=None tool_calls=[ChatCompletionMessageToolCall(id='call_oZuGRpQ9sKulET7yh6dpm4CM', function=Function(arguments='{\\n  \"content\": \"Sanika loves cats\",\\n  \"request_heartbeat\": true\\n}', name='archival_memory_insert'), type='function')] tool_call_id=None step_id=None otid=None tool_returns=None\n",
      "Letta.agent-ea83ce14-8d73-4ea9-bddb-949494a5b297 - INFO - Request to call function archival_memory_insert with tool_call_id: call_oZuGRpQ9sKulET7yh6dpm4CM\n",
      "httpx - INFO - HTTP Request: POST https://api.openai.com/v1/embeddings \"HTTP/1.1 200 OK\"\n",
      "Letta.letta.agent - INFO - last response total_tokens (3507) < 96000.0\n",
      "httpx - INFO - HTTP Request: POST https://api.openai.com/v1/chat/completions \"HTTP/1.1 200 OK\"\n",
      "Letta.agent-ea83ce14-8d73-4ea9-bddb-949494a5b297 - INFO - Function call message: created_by_id=None last_updated_by_id=None created_at=datetime.datetime(2025, 3, 13, 8, 15, 49, 297276, tzinfo=datetime.timezone.utc) updated_at=None id='message-b9ccc9c6-31e5-4d47-b3c9-4cca8ec65a1a' role=<MessageRole.assistant: 'assistant'> content=[TextContent(type=<MessageContentType.text: 'text'>, text=\"Saved the user's love for cats. Time to acknowledge it!\")] organization_id=None agent_id='agent-ea83ce14-8d73-4ea9-bddb-949494a5b297' model='gpt-4o-mini' name=None tool_calls=[ChatCompletionMessageToolCall(id='call_Fo8ucOfK6oHqywSZg2O4ZESN', function=Function(arguments='{\\n  \"message\": \"Got it! I\\'ve saved that you love cats, Sanika. Do you have any pets?\"\\n}', name='send_message'), type='function')] tool_call_id=None step_id=None otid=None tool_returns=None\n",
      "Letta.agent-ea83ce14-8d73-4ea9-bddb-949494a5b297 - INFO - Request to call function send_message with tool_call_id: call_Fo8ucOfK6oHqywSZg2O4ZESN\n",
      "Letta.letta.agent - INFO - last response total_tokens (3669) < 96000.0\n"
     ]
    },
    {
     "data": {
      "text/html": [
       "\n",
       "    <style>\n",
       "        .message-container {\n",
       "            font-family: 'Segoe UI', Tahoma, Geneva, Verdana, sans-serif;\n",
       "            max-width: 800px;\n",
       "            margin: 20px auto;\n",
       "            background-color: #1e1e1e;\n",
       "            border-radius: 8px;\n",
       "            overflow: hidden;\n",
       "            color: #d4d4d4;\n",
       "        }\n",
       "        .message {\n",
       "            padding: 10px 15px;\n",
       "            border-bottom: 1px solid #3a3a3a;\n",
       "        }\n",
       "        .message:last-child {\n",
       "            border-bottom: none;\n",
       "        }\n",
       "        .title {\n",
       "            font-weight: bold;\n",
       "            margin-bottom: 5px;\n",
       "            color: #ffffff;\n",
       "            text-transform: uppercase;\n",
       "            font-size: 0.9em;\n",
       "        }\n",
       "        .content {\n",
       "            background-color: #2d2d2d;\n",
       "            border-radius: 4px;\n",
       "            padding: 5px 10px;\n",
       "            font-family: 'Consolas', 'Courier New', monospace;\n",
       "            white-space: pre-wrap;\n",
       "        }\n",
       "        .status-line {\n",
       "            margin-bottom: 5px;\n",
       "            color: #d4d4d4;\n",
       "        }\n",
       "        .function-name { color: #569cd6; }\n",
       "        .json-key { color: #9cdcfe; }\n",
       "        .json-string { color: #ce9178; }\n",
       "        .json-number { color: #b5cea8; }\n",
       "        .json-boolean { color: #569cd6; }\n",
       "        .internal-monologue { font-style: italic; }\n",
       "    </style>\n",
       "    <div class=\"message-container\">\n",
       "    \n",
       "        <div class=\"message\">\n",
       "            <div class=\"title\">REASONING MESSAGE</div>\n",
       "            <div class=\"content\">id=&#x27;message-74621410-1015-4f1f-91c9-794be383bdbd&#x27; date=datetime.datetime(2025, 3, 13, 8, 15, 43, 104807, tzinfo=datetime.timezone.utc) message_type=&#x27;reasoning_message&#x27; reasoning=&#x27;User loves cats. Saving this information to archival memory.&#x27;</div>\n",
       "        </div>\n",
       "        \n",
       "        <div class=\"message\">\n",
       "            <div class=\"title\">TOOL CALL MESSAGE</div>\n",
       "            <div class=\"content\">id=&#x27;message-74621410-1015-4f1f-91c9-794be383bdbd&#x27; date=datetime.datetime(2025, 3, 13, 8, 15, 43, 104807, tzinfo=datetime.timezone.utc) message_type=&#x27;tool_call_message&#x27; tool_call=ToolCall(name=&#x27;archival_memory_insert&#x27;, arguments=&#x27;{\\n  &quot;content&quot;: &quot;Sanika loves cats&quot;,\\n  &quot;request_heartbeat&quot;: true\\n}&#x27;, tool_call_id=&#x27;call_oZuGRpQ9sKulET7yh6dpm4CM&#x27;)</div>\n",
       "        </div>\n",
       "        \n",
       "        <div class=\"message\">\n",
       "            <div class=\"title\">TOOL RETURN MESSAGE</div>\n",
       "            <div class=\"content\">id=&#x27;message-920e4bbe-6966-4360-8d41-26533415463a&#x27; date=datetime.datetime(2025, 3, 13, 8, 15, 48, 72054, tzinfo=datetime.timezone.utc) message_type=&#x27;tool_return_message&#x27; tool_return=&#x27;{\\n  &quot;status&quot;: &quot;OK&quot;,\\n  &quot;message&quot;: &quot;None&quot;,\\n  &quot;time&quot;: &quot;2025-03-13 09:15:48 AM CET+0100&quot;\\n}&#x27; status=&#x27;success&#x27; tool_call_id=&#x27;call_oZuGRpQ9sKulET7yh6dpm4CM&#x27; stdout=None stderr=None</div>\n",
       "        </div>\n",
       "        \n",
       "        <div class=\"message\">\n",
       "            <div class=\"title\">REASONING MESSAGE</div>\n",
       "            <div class=\"content\">id=&#x27;message-b9ccc9c6-31e5-4d47-b3c9-4cca8ec65a1a&#x27; date=datetime.datetime(2025, 3, 13, 8, 15, 49, 297276, tzinfo=datetime.timezone.utc) message_type=&#x27;reasoning_message&#x27; reasoning=&quot;Saved the user&#x27;s love for cats. Time to acknowledge it!&quot;</div>\n",
       "        </div>\n",
       "        \n",
       "        <div class=\"message\">\n",
       "            <div class=\"title\">TOOL CALL MESSAGE</div>\n",
       "            <div class=\"content\">id=&#x27;message-b9ccc9c6-31e5-4d47-b3c9-4cca8ec65a1a&#x27; date=datetime.datetime(2025, 3, 13, 8, 15, 49, 297276, tzinfo=datetime.timezone.utc) message_type=&#x27;tool_call_message&#x27; tool_call=ToolCall(name=&#x27;send_message&#x27;, arguments=&#x27;{\\n  &quot;message&quot;: &quot;Got it! I\\&#x27;ve saved that you love cats, Sanika. Do you have any pets?&quot;\\n}&#x27;, tool_call_id=&#x27;call_Fo8ucOfK6oHqywSZg2O4ZESN&#x27;)</div>\n",
       "        </div>\n",
       "        \n",
       "        <div class=\"message\">\n",
       "            <div class=\"title\">TOOL RETURN MESSAGE</div>\n",
       "            <div class=\"content\">id=&#x27;message-de1e6f1f-d882-4a10-9df2-b2d158b4c429&#x27; date=datetime.datetime(2025, 3, 13, 8, 15, 49, 306942, tzinfo=datetime.timezone.utc) message_type=&#x27;tool_return_message&#x27; tool_return=&#x27;{\\n  &quot;status&quot;: &quot;OK&quot;,\\n  &quot;message&quot;: &quot;None&quot;,\\n  &quot;time&quot;: &quot;2025-03-13 09:15:49 AM CET+0100&quot;\\n}&#x27; status=&#x27;success&#x27; tool_call_id=&#x27;call_Fo8ucOfK6oHqywSZg2O4ZESN&#x27; stdout=None stderr=None</div>\n",
       "        </div>\n",
       "        </div>"
      ],
      "text/plain": [
       "<IPython.core.display.HTML object>"
      ]
     },
     "metadata": {},
     "output_type": "display_data"
    }
   ],
   "source": [
    "response = client.send_message(\n",
    "    agent_id=agent_state.id, \n",
    "    message = \"Save the information that 'Sanika loves cats' to archival\", \n",
    "    role = \"user\"\n",
    ") \n",
    "nb_print(response.messages)"
   ]
  },
  {
   "cell_type": "code",
   "execution_count": 29,
   "id": "93f066b8-77dc-4fcf-8c2c-f280338d8e75",
   "metadata": {},
   "outputs": [
    {
     "data": {
      "text/plain": [
       "'Sanika loves cats'"
      ]
     },
     "execution_count": 29,
     "metadata": {},
     "output_type": "execute_result"
    }
   ],
   "source": [
    "client.get_archival_memory(agent_state.id)[0].text"
   ]
  },
  {
   "cell_type": "code",
   "execution_count": 30,
   "id": "58fc8e82-73ab-4c44-be6d-a911dae0acbc",
   "metadata": {},
   "outputs": [
    {
     "name": "stdout",
     "output_type": "stream",
     "text": [
      "httpx - INFO - HTTP Request: POST https://api.openai.com/v1/embeddings \"HTTP/1.1 200 OK\"\n"
     ]
    }
   ],
   "source": [
    "passage = client.insert_archival_memory(\n",
    "    agent_state.id, \n",
    "    \"Sanika loves Beagles\"\n",
    ")"
   ]
  },
  {
   "cell_type": "code",
   "execution_count": 32,
   "id": "06c5de70-8db8-468a-aa50-018fa2f80ed6",
   "metadata": {},
   "outputs": [
    {
     "data": {
      "text/plain": [
       "[Passage(created_by_id='user-00000000-0000-4000-8000-000000000000', last_updated_by_id='user-00000000-0000-4000-8000-000000000000', created_at=datetime.datetime(2025, 3, 13, 8, 18, 12, 715132), updated_at=datetime.datetime(2025, 3, 13, 8, 18, 12), is_deleted=False, organization_id='org-00000000-0000-4000-8000-000000000000', agent_id='agent-ea83ce14-8d73-4ea9-bddb-949494a5b297', source_id=None, file_id=None, metadata={}, id='passage-28e181a7-ce3b-4d9b-9d7a-13f02f797862', text='Sanika loves Beagles', embedding=[0.002223333576694131, -0.006489459425210953, -0.006435965653508902, -0.01971244439482689, -0.013453676365315914, 0.02335001900792122, -0.026185186579823494, 0.01850883476436138, 0.005359404254704714, -0.022948814556002617, 0.0024573688860982656, 0.01090603694319725, 0.02064858376979828, -0.016516193747520447, -0.009762607514858246, -0.011407540179789066, 0.02918083593249321, 0.007743219379335642, 0.008425264619290829, -0.013774638995528221, -0.028217948973178864, 0.026573017239570618, 0.01590101420879364, -0.01239048782736063, -0.011621515266597271, 0.012203260324895382, 0.012597776018083096, -0.01912401244044304, -0.02698759362101555, 0.006606477312743664, 0.010264111682772636, 0.00446004094555974, -0.0169173963367939, -0.007836833596229553, -0.015432944521307945, -0.026827111840248108, -0.0002459458482917398, 0.015874268487095833, 0.014871260151267052, -0.02352387271821499, -0.0009486780618317425, -0.0065596699714660645, 0.006292201578617096, 0.009622186422348022, -0.00263122352771461, 0.011795369908213615, -0.026773618534207344, -0.013674337416887283, -0.021865567192435265, -0.013721144758164883, 0.02098292112350464, 0.007475750520825386, -0.04041452333331108, 0.01580740138888359, -0.03396852687001228, -0.007428943645209074, -0.004256095737218857, -0.019137386232614517, -0.0028184514958411455, 0.0009311254252679646, 0.022868575528264046, -0.01043796632438898, -0.001830489025451243, 0.004941484425216913, -0.011019710451364517, -0.012657957151532173, -0.015967881307005882, 0.008913394995033741, -0.012825124897062778, 0.006907379254698753, 0.014550297521054745, -0.006589760538190603, -0.005546632222831249, -0.0031427573412656784, 0.006606477312743664, -0.007442316971719265, -0.0061317202635109425, 0.006713464856147766, -0.005536602344363928, 0.011186879128217697, 0.019271120429039, -0.030651913955807686, 0.007823459804058075, 0.010511520318686962, 0.023202911019325256, 0.02706783264875412, -0.027214940637350082, 0.011233685538172722, -0.0024423236027359962, 0.0026579704135656357, 0.015954509377479553, 0.02891336753964424, -0.007495810743421316, 0.00803743489086628, -0.012443982064723969, 0.019177505746483803, -0.015245716087520123, 0.009327971376478672, 0.004607148468494415, 0.000831660523544997, -0.0006540445610880852, 0.00608491338789463, -0.008351710624992847, 0.0008508848259225488, -0.01878967694938183, -0.008893334306776524, -0.013226327486336231, -0.007054487243294716, 0.00725508900359273, -0.010290858335793018, -0.010805736295878887, 0.02655964344739914, -0.011420913971960545, -0.03525237739086151, -0.014817766845226288, -0.015446318313479424, 0.011695069260895252, -0.012290187180042267, -0.010110316798090935, 0.0032514166086912155, 0.013139400631189346, 0.013333315029740334, 0.03372780606150627, -0.009896342642605305, 0.007876953110098839, 0.006974246818572283, -0.02273484133183956, -0.016302218660712242, -0.01615511067211628, -0.0033433588687330484, 0.015794027596712112, 0.02055497094988823, 0.01734534651041031, -0.003291536821052432, -0.020006660372018814, -0.00023382615472655743, -0.018375100567936897, 0.009100622497498989, -0.008639239706099033, -0.02206616848707199, -0.004938140977174044, 0.02131725661456585, -0.009100622497498989, -0.017545947805047035, -0.006412562448531389, 0.02808421477675438, 0.009501826018095016, -0.011099951341748238, 0.012283500283956528, 0.027348674833774567, 0.00018169065879192203, -0.012484102509915829, 0.007415569853037596, -0.013747891411185265, 0.011013024486601353, 0.012283500283956528, -0.0026262083556503057, 0.03214973956346512, -0.014777646400034428, 0.013426929712295532, -0.004724165890365839, 0.0019408197840675712, 0.0017251732060685754, -0.005122025962918997, 0.015967881307005882, 0.022226650267839432, -0.004296216182410717, -0.0029839477501809597, -0.0015111982356756926, -0.005101965740323067, 0.012410548515617847, 0.03426274284720421, -0.014536924660205841, 0.03222997859120369, -0.010317605920135975, 0.011454347521066666, -0.0060347625985741615, 0.0034904666244983673, -0.019003652036190033, -0.02114340104162693, -0.027188194915652275, -0.0019408197840675712, 0.01247741561383009, 0.024085557088255882, -0.026185186579823494, 0.003908386453986168, 0.02054159715771675, -0.014871260151267052, -0.001590603031218052, 0.0009344688151031733, 0.019217627122998238, 0.008472071029245853, 0.017532574012875557, -0.023296523839235306, -0.6684578061103821, -0.022480744868516922, 0.011427600868046284, -0.0024807723239064217, 0.04688726365566254, 0.005078562069684267, 0.02443326637148857, -0.013326628133654594, -0.013132713735103607, -0.0009938133880496025, 0.006325635127723217, 0.006432622671127319, 0.006549640092998743, 0.034048765897750854, 0.006619850639253855, -0.009909715503454208, 0.0057973843067884445, -0.03140082582831383, 0.03634899854660034, 0.008010688237845898, -0.0014401518274098635, 0.004112331196665764, 0.011173505336046219, 0.01572716049849987, 0.015954509377479553, -0.013868252746760845, -0.001987626776099205, -0.017051130533218384, 0.01289867889136076, 0.021758578717708588, -0.03394177928566933, 0.034797679632902145, -0.005867594853043556, -0.0056068128906190395, 0.05354723706841469, 0.006880632601678371, -0.006542953196913004, 0.025436274707317352, 0.014978247694671154, 0.022199902683496475, -0.01666329987347126, -0.0006293873302638531, 0.015004994347691536, 0.0013482094509527087, -0.02851216495037079, 0.029582038521766663, 0.017880283296108246, 0.004373113624751568, -0.01774654909968376, 0.003874952904880047, 0.0016541267978027463, 0.023711102083325386, 0.006656627636402845, 0.023724474012851715, -0.00833164993673563, 0.0076027982868254185, 0.02934131771326065, -0.0263055469840765, 0.005025068297982216, 0.00918086338788271, 0.01239717472344637, 0.0054296148009598255, -0.02462049573659897, -0.02039448916912079, -0.009401525370776653, 0.01640920527279377, -0.006853885482996702, -0.01132730022072792, 0.008505504578351974, -0.008278156630694866, 0.023457005620002747, 0.0128585584461689, 0.005018381867557764, 0.028458671644330025, 0.0013206267030909657, -0.0029187523759901524, 0.005723830312490463, 0.0011726830853149295, -0.013707770965993404, 0.001852220855653286, 0.01400198694318533, -0.006492802873253822, -0.017706427723169327, -0.0034570330753922462, 0.023390138521790504, -0.02316278964281082, -0.004476757720112801, 0.015753906220197678, 0.014871260151267052, -0.02487459033727646, 0.022815080359578133, 0.027870239689946175, -0.004155795089900494, -0.004446667153388262, 0.00522567005828023, 0.005493138451129198, 0.011146758683025837, 0.007983940653502941, 0.01606149598956108, -0.04124367609620094, -0.002310260897502303, 0.008318277075886726, 0.008679359219968319, 0.003248073160648346, 0.006038106046617031, -0.002321962732821703, -0.02673349715769291, 0.007415569853037596, 0.0009804399451240897, -0.0040755546651780605, 0.0193647351115942, -0.0028518850449472666, -0.006285514682531357, -0.015125355683267117, -0.028458671644330025, -0.02555663511157036, 0.004082241095602512, 0.019057145342230797, 0.032604437321424484, -0.0256235022097826, 0.009789355099201202, 0.0014200917212292552, 0.023309897631406784, 0.0026161782443523407, -0.027843492105603218, -0.0128117511048913, -0.019765937700867653, 0.0006072375690564513, -0.0006795377121306956, -0.02352387271821499, -0.01707787625491619, -0.004610491916537285, 0.0056001259945333, -0.008933454751968384, -0.004948171321302652, 0.0025392810348421335, 0.011300552636384964, 0.00341356941498816, 0.019177505746483803, 0.003358403919264674, 0.003928446676582098, 0.025610128417611122, 0.01087260339409113, 0.014536924660205841, -0.016970889642834663, -0.017104623839259148, -0.02064858376979828, -0.014108974486589432, -0.0035874240566045046, -0.009120683185756207, 0.020367741584777832, -0.0008717808523215353, -0.018910037353634834, 0.0009921417804434896, 0.013788011856377125, 0.007134727668017149, -0.02292206883430481, -0.02115677483379841, 0.00018576538423076272, -0.005128712393343449, 0.032256726175546646, 0.006633223965764046, -0.013908373191952705, -0.003303238656371832, -0.0036877249367535114, -0.013814758509397507, 0.02090268023312092, 0.024567000567913055, -0.0077097853645682335, -0.01701100915670395, -0.013413555920124054, -0.007007680367678404, -0.033112626522779465, -0.0033985243644565344, 0.01640920527279377, -0.0027967197820544243, 0.0005249073728919029, -0.01988629810512066, -0.006459369324147701, -0.0017452333122491837, -0.006542953196913004, -0.011193565092980862, -0.01826811209321022, 0.006349038332700729, 0.02443326637148857, 0.003248073160648346, 0.0186826903373003, 0.025409527122974396, 0.0004120689700357616, 0.0014242709148675203, -0.01658306084573269, 0.0018288173014298081, -0.0003253506147302687, 0.01690402254462242, 0.0042928727343678474, -0.01277831755578518, 0.011153445579111576, 0.01826811209321022, 0.026827111840248108, 0.007736532483249903, -0.008813094347715378, -0.008365083485841751, 0.01358072366565466, -0.009274477139115334, 0.029555292800068855, -0.03509189561009407, 0.01052489411085844, -0.024994950741529465, 0.027027713134884834, 0.002920424100011587, 0.0016716794343665242, 0.002703105565160513, 0.0008759600459598005, 0.002464055549353361, -0.0003803070867434144, 0.017960524186491966, 0.010859229601919651, 0.011534588411450386, 0.012042778544127941, 0.011514527723193169, 0.014871260151267052, -0.002056165598332882, -0.010297545231878757, -0.010096943937242031, -0.006837168708443642, 0.0072952089831233025, -0.002119689481332898, 0.013774638995528221, 0.002915408927947283, 0.0060648531652987, -0.02344363182783127, 0.0034570330753922462, 0.025650249794125557, 0.012758257798850536, 0.003540616948157549, -0.00837177038192749, 0.03864922747015953, -0.013894999399781227, 0.03164154663681984, 0.01451017800718546, -0.004272812511771917, 0.008512191474437714, 0.001895684516057372, -0.016048122197389603, 0.002699762349948287, 0.013600784353911877, 0.028378430753946304, 0.02452688105404377, 0.02189231477677822, 0.011066517792642117, -0.015593425370752811, -0.02851216495037079, -0.011527901515364647, 0.027362048625946045, 0.005870938301086426, -0.04785015061497688, 0.004353053402155638, -0.007529244292527437, 0.0056001259945333, 0.028378430753946304, 0.010672001168131828, 0.028886619955301285, -0.0033299855422228575, -0.006205274257808924, 0.00522232661023736, 0.024914709851145744, -0.005864251405000687, 0.0034670631866902113, -0.008853213861584663, -0.015379451215267181, -0.008973575197160244, -0.01277831755578518, -0.012377114966511726, -0.010805736295878887, -0.001567199476994574, 0.004353053402155638, -0.008659299463033676, 2.9176029784139246e-05, 0.010698748752474785, 0.03576056659221649, -0.011487781070172787, -0.030892636626958847, 0.008204602636396885, 0.026746870949864388, -0.0015187207609415054, 0.01639583148062229, -0.005894341506063938, -0.020367741584777832, -0.010036763735115528, 0.016114989295601845, 0.00038072498864494264, 0.02359073981642723, 0.006268797907978296, -0.005446331575512886, -0.0041023013181984425, 0.00725508900359273, 0.013400182127952576, -0.015071861445903778, -0.0010648597963154316, -0.02087593264877796, 0.01441656332463026, 0.004389830399304628, -0.02918083593249321, -0.026666630059480667, -0.009461705572903156, -0.011273805983364582, -0.011608142405748367, -0.0024172484409064054, -0.01825474016368389, -0.021183522418141365, 0.0038348326925188303, -0.019765937700867653, -0.004393173381686211, 0.038274772465229034, -0.007917073555290699, 0.004530251491814852, -0.026278801262378693, -0.0009394838707521558, 0.020916054025292397, -0.0013189550954848528, -0.01361415721476078, -0.029742520302534103, -0.022641226649284363, 0.03273817151784897, 0.12250067293643951, 0.001071546575985849, 0.015125355683267117, 0.01801401749253273, 0.02689397893846035, 0.019592082127928734, -0.02950179949402809, -0.002186556812375784, 0.01488463394343853, -0.010772302746772766, -0.009675680659711361, -0.009508512914180756, 0.0010021717753261328, 0.004877960775047541, 0.003321627154946327, -0.006248737685382366, 0.003014038084074855, -0.012912051752209663, 0.005018381867557764, -0.02419254556298256, 0.004530251491814852, 0.0119291041046381, -0.004249409306794405, 0.04439980536699295, -0.003199594561010599, -0.0009996643057093024, 0.003092607017606497, 0.039959825575351715, 0.006395845673978329, -0.014710779301822186, -0.0001954820181708783, 0.03035769797861576, 0.0028869903180748224, 0.00926110427826643, 0.006141750141978264, 0.018910037353634834, -0.010177184827625751, -0.0023620829451829195, 0.02139749750494957, -0.01624872349202633, 0.0322834737598896, 0.02046135626733303, 0.016181856393814087, 0.0193647351115942, 0.013587410561740398, -0.03461045026779175, -0.01599462889134884, 0.03380804508924484, 0.00064986536744982, 0.0026512835174798965, 0.03375454992055893, 0.015539932064712048, 0.0037445619236677885, -0.03281841054558754, 0.02546302042901516, 0.019939793273806572, -0.020581716671586037, 0.0010498147457838058, -0.00875960011035204, -0.012243379838764668, -0.004523564595729113, -0.021678339689970016, -0.0009687382262200117, -0.015031741932034492, -0.012270127423107624, -0.03661646693944931, -0.03474418446421623, -0.010170497931540012, -0.030384445562958717, -0.008558998815715313, -0.029555292800068855, -0.01599462889134884, -0.03720489889383316, 0.006432622671127319, 0.018134377896785736, 0.007790026254951954, 0.006125033367425203, 0.0001479436323279515, 0.0025242359843105078, 0.03934464603662491, -0.0027616145089268684, -0.012263440527021885, 0.01077898871153593, 0.0015195566229522228, -0.021932434290647507, 0.001144264591857791, 0.00925441738218069, -0.016797035932540894, -0.012530908919870853, -0.01112669799476862, 0.02918083593249321, 0.03244395554065704, 0.016730166971683502, -0.004119018092751503, 0.011006337590515614, -0.005864251405000687, 0.0007769130170345306, 0.012952172197401524, -0.01010363083332777, 0.003751248586922884, 0.04143090173602104, -0.0005796548211947083, -0.023630861192941666, -0.0002409307926427573, 0.02520892582833767, 0.015285836532711983, -0.009648934006690979, -0.017238358035683632, -0.024085557088255882, 0.007716472260653973, 0.01836172677576542, -0.012484102509915829, 0.013761265203356743, 0.024928083643317223, -0.009548633359372616, 0.005753920413553715, 0.003905043238773942, 0.025168806314468384, -0.004921424202620983, -0.022186528891324997, 0.007522557396441698, -0.009909715503454208, 0.022641226649284363, 0.008966888301074505, -0.014630538411438465, -0.0066766878589987755, -0.005890998523682356, -0.0035205569583922625, 0.0004076808108948171, 0.014269455336034298, 0.014215962029993534, 0.030304204672574997, -0.02647940255701542, -0.02859240584075451, -0.039023686200380325, 0.015794027596712112, -0.006051479373127222, 0.012751570902764797, -0.00682713882997632, -0.023216284811496735, -0.0009144086507149041, 0.021089907735586166, 0.0006878960994072258, -0.0201403945684433, -0.026760244742035866, -0.025596756488084793, -0.0040421211160719395, 0.003114338731393218, -0.006395845673978329, 0.025061817839741707, -0.016275471076369286, 0.016516193747520447, 0.009782668203115463, 0.005804071202874184, -0.015780653804540634, -0.017706427723169327, -0.000546639203093946, 0.023711102083325386, 0.01591438800096512, 0.04546968266367912, 0.002542624482885003, 0.007342016324400902, 0.0018906694604083896, 0.01289867889136076, -0.00014501818805001676, -0.0072818356566131115, -0.010130377486348152, 0.007977254688739777, -0.0034202560782432556, 0.0008659299346618354, -0.010003330186009407, -0.00014804811507929116, 0.0005733860307373106, 0.013547290116548538, -0.037525858730077744, 0.007148101460188627, -0.005305910483002663, -0.03602803498506546, -0.0076964120380580425, -0.02403206378221512, 0.015620172955095768, 0.010618507862091064, 0.01928449422121048, 0.013446989469230175, -0.0023971882183104753, 0.008204602636396885, 0.014831139706075191, -0.0112002519890666, 0.0076496051624417305, -0.006399189122021198, 0.013908373191952705, -0.01081910915672779, -0.0017870253650471568, -0.001730188261717558, -0.00803743489086628, 0.01128717977553606, -0.019057145342230797, 0.011808743700385094, -0.0011451004538685083, -0.0030056796967983246, 0.031079864129424095, -9.00617305887863e-05, 0.00725508900359273, 0.0214108694344759, -0.011554648168385029, 0.02367098070681095, -0.007027740590274334, -0.03803405165672302, 0.005005008075386286, -0.012196573428809643, -0.015553305856883526, -0.014831139706075191, -0.054349642246961594, -0.018976904451847076, -0.007475750520825386, -0.003874952904880047, -0.010257424786686897, 0.022306891158223152, 0.006101630162447691, -0.010197244584560394, -0.029983242973685265, 0.011688382364809513, 0.03918416425585747, 0.0037211584858596325, 0.008525565266609192, 0.005493138451129198, -0.009501826018095016, -0.027469037100672722, 0.027977226302027702, 0.007542617619037628, -0.01408222783356905, 0.006395845673978329, 0.030384445562958717, -0.0053961812518537045, -0.014831139706075191, 0.03527912124991417, 0.009361404925584793, -0.019832804799079895, -0.013975240290164948, 0.033701058477163315, -0.00025409527006559074, 0.0013532245066016912, -0.01977931149303913, -0.005670336540788412, 0.0013657620875164866, 0.02840517647564411, -0.015874268487095833, 0.019351361319422722, -0.012450668029487133, 0.014349696226418018, -0.01032429188489914, 0.002557669533416629, -0.0023620829451829195, 0.01293879933655262, -0.010384473018348217, 0.016623180359601974, -0.0011902357218787074, -0.00526244705542922, -0.007061174139380455, -0.006659971084445715, -0.0161417368799448, 0.0006373277865350246, -0.012865245342254639, -0.01132730022072792, 0.007542617619037628, 0.006228677462786436, 0.006894005928188562, 0.022226650267839432, 0.015874268487095833, 0.025770610198378563, 0.0007050308049656451, -0.027174821123480797, -0.015620172955095768, -0.0016959188506007195, 0.008157795295119286, 0.006797048728913069, 0.0007576887146569788, 0.0008220483432523906, 0.007977254688739777, -0.011354046873748302, 0.005503168795257807, 0.004453354049474001, 0.01323301438242197, -0.00871947966516018, -0.017024382948875427, 0.017612814903259277, 0.0030658601317554712, -0.03070540726184845, -0.012718137353658676, -0.021624844521284103, -0.00598126882687211, -0.020327622070908546, -0.013453676365315914, 0.005122025962918997, 0.01588764227926731, -0.008960201404988766, -0.0010330978548154235, 0.024393146857619286, -0.03739212453365326, -0.00644933944568038, -0.017786668613553047, -0.00480106333270669, -0.011300552636384964, -0.006502833217382431, -0.010431279428303242, -0.005473078694194555, 0.00031761909485794604, 0.017358718439936638, 0.011226999573409557, 0.010986276902258396, -0.005760607309639454, 0.027362048625946045, -0.011775310151278973, -0.024807723239064217, 0.010310919024050236, -0.008926767855882645, 0.025730490684509277, -0.02968902699649334, -0.030170470476150513, 0.020595090463757515, 0.015847520902752876, -0.013360061682760715, 0.0011509512551128864, -0.010812422260642052, 0.010377786122262478, -0.013393495231866837, 0.017626188695430756, 0.004289529286324978, -0.009709114208817482, -0.033273108303546906, 0.00130558165255934, 0.004988291300833225, -0.0018488774076104164, -0.029127342626452446, -0.009281164035201073, 0.00323302811011672, -0.013801385648548603, 0.00917417649179697, 0.017104623839259148, -0.019926419481635094, 0.0061651538126170635, 0.017866909503936768, 0.021972553804516792, 0.008900021202862263, -0.021798700094223022, -0.006332321558147669, -0.003278163494542241, -0.011400854215025902, -0.030330952256917953, -0.01086591649800539, -0.020354369655251503, 0.01826811209321022, 0.01235036738216877, -0.01400198694318533, -0.001895684516057372, -0.00016769034846220165, -0.005299224052578211, 0.020742198452353477, -0.00799731444567442, 0.004346366506069899, 0.003828146029263735, 0.006221991032361984, 0.0010924425441771746, 0.032604437321424484, -0.009394838474690914, 0.002555997809395194, -0.02333664521574974, -0.009742547757923603, 0.00437980005517602, -0.01166832260787487, -0.012223320081830025, -0.010284172371029854, -0.020434608682990074, -0.024205917492508888, 0.023550620302557945, -0.0038448628038167953, 0.004450010601431131, 0.017318598926067352, -0.013948493637144566, 0.0025827446952462196, -0.011594768613576889, -0.0038582361303269863, -0.001775323529727757, -0.001266297185793519, 0.016716795042157173, -0.0014200917212292552, -0.016970889642834663, 0.0014543611323460937, -0.0063423519022762775, 0.005519885569810867, -0.001667500240728259, 0.006726838182657957, -0.005399524699896574, 0.02308255061507225, -0.0256235022097826, 0.007723159156739712, -0.02487459033727646, 0.009782668203115463, 0.025904344394803047, -0.011347359977662563, -0.004643925465643406, 0.01556667871773243, -0.009508512914180756, -0.023991944268345833, -0.007963880896568298, 0.014015360735356808, 0.015085235238075256, -0.008726166561245918, 0.022373758256435394, -0.014068854041397572, -0.007676351815462112, -0.022306891158223152, -0.005733860656619072, -0.021357376128435135, -0.007790026254951954, 0.016783662140369415, -0.004556998144835234, -0.02578398399055004, 0.0016817095456644893, 0.015339330770075321, -0.024847842752933502, -0.0006398353143595159, -0.035065148025751114, 0.00680707860738039, 0.001272148103453219, -0.013988613151013851, 0.004356396850198507, -0.02403206378221512, -0.007669665385037661, 0.002978932810947299, -0.0373653806746006, -0.01971244439482689, 0.010157124139368534, 0.020768946036696434, -0.016596432775259018, 0.0026044766418635845, 0.2370842695236206, -0.029903002083301544, -0.007335329428315163, 0.02214640937745571, -0.01331994216889143, -0.006760271731764078, 0.005700427107512951, -0.0007112995954230428, -0.005101965740323067, 0.005466391798108816, -0.00955531932413578, -0.0006849706405773759, -0.01792040280997753, 0.008966888301074505, 0.01154796127229929, -0.009508512914180756, -0.017104623839259148, -0.021838819608092308, -0.015513185411691666, -0.014055481180548668, -0.001043963828124106, -0.0017619500868022442, -0.01556667871773243, 0.006536266766488552, 0.01040453277528286, 0.0175994411110878, -0.03822127729654312, 0.011909044347703457, 0.008853213861584663, 0.012316933833062649, -0.0051588029600679874, -0.00837845727801323, -0.0013164475094527006, -0.009000321850180626, -0.0080708684399724, -0.020942799746990204, 0.01239717472344637, 0.006573043763637543, 0.02713470160961151, 0.03822127729654312, -0.012537595815956593, 0.004627208691090345, 0.00013446572120301425, 0.002465727273374796, -0.0225877333432436, 0.03094612993299961, -0.00845201127231121, 0.0058107576332986355, 0.029073849320411682, 0.030411193147301674, -0.03086588904261589, 0.005376121029257774, 0.01648944616317749, 0.01136742066591978, 0.0018405190203338861, 0.0015663636149838567, 0.01988629810512066, 0.0012286844430491328, -0.008191228844225407, 0.01476427260786295, -0.003771308809518814, 0.013707770965993404, 0.004961544647812843, 0.041992586106061935, -0.016516193747520447, 0.00799062754958868, -0.03182877600193024, 0.01912401244044304, 0.00892008189111948, 0.013868252746760845, 0.01758606731891632, -0.003228012938052416, -0.003139413893222809, -0.016288844868540764, -0.03161480277776718, -0.01044465322047472, 0.032256726175546646, 0.01886991783976555, 0.02789698727428913, 0.005152116063982248, -0.018040765076875687, -0.0023938450030982494, -0.024540254846215248, 0.0048378403298556805, -0.007114667911082506, -0.028485417366027832, 0.005807414185255766, -0.012062839232385159, 0.012965545989573002, -0.00934134516865015, 0.005814101081341505, -0.004483444150537252, 0.01150784082710743, -0.03185552358627319, 0.012343681417405605, 0.009956522844731808, 0.00401537399739027, 0.025650249794125557, -0.00017385465616825968, -0.00397525355219841, -0.006573043763637543, -0.01006351038813591, 0.015018368139863014, 0.007529244292527437, -0.003968567121773958, 0.020260754972696304, 0.012678016908466816, 0.006456025876104832, -0.0028284816071391106, -0.012290187180042267, -0.018308233469724655, -0.03568032756447792, 0.004904707428067923, -0.007676351815462112, 0.00482112355530262, 0.0162353515625, -0.007549304515123367, -0.03899693861603737, 0.031160105019807816, -0.016195230185985565, -0.01445668376982212, -0.028779633343219757, -0.010752242058515549, 0.0011885641142725945, -0.026118319481611252, 0.0005616843118332326, -0.012243379838764668, 0.022373758256435394, -0.0009060502634383738, -0.04413233697414398, 0.026171812787652016, -0.001134234480559826, 0.0006348202587105334, -0.024219291284680367, 0.0021681683138012886, 0.025917718186974525, -0.0006578058819286525, -0.021705085411667824, 0.013881626538932323, -0.0005625201156362891, 0.024981576949357986, -0.005289193708449602, -0.014590417966246605, -0.01911063864827156, -0.007816772907972336, -0.03931790217757225, 0.021838819608092308, -0.000546639203093946, -0.01919087953865528, -0.019939793273806572, -0.017947150394320488, -0.019592082127928734, -0.005309253931045532, -0.021798700094223022, 0.025570008903741837, 0.001999328611418605, -0.030304204672574997, -0.014750899747014046, 0.016850529238581657, 0.006940813269466162, -0.03185552358627319, 0.02351049892604351, 0.0399063304066658, -0.016529565677046776, -0.014684032648801804, -0.012678016908466816, -0.17257080972194672, 0.03947838023304939, 0.016609806567430496, -0.002474085660651326, -0.01852220855653286, 0.013493796810507774, 0.030464686453342438, -0.015860894694924355, 0.004028747323900461, -0.00011597276170505211, 0.01801401749253273, -0.002920424100011587, -0.03720489889383316, -0.026238679885864258, 0.0003224251850042492, -0.01556667871773243, 0.0007250909693539143, -8.844229159876704e-05, 0.03477093204855919, 0.005332657601684332, 0.009782668203115463, -0.02605145238339901, 0.013540603220462799, -0.020822439342737198, -0.007395509630441666, 0.02859240584075451, -0.01331325527280569, -0.02232026308774948, -0.012457354925572872, -0.0039451634511351585, -0.02511531114578247, -0.021544605493545532, 0.02663988433778286, 0.008084242232143879, -0.0009720816160552204, -0.0009670665604062378, -0.015486438758671284, 0.005911058280616999, -0.005342687480151653, 0.023390138521790504, 0.0056001259945333, 0.02182544767856598, -0.0024022033903747797, -0.013707770965993404, -0.01094615738838911, -0.009080562740564346, 0.025262419134378433, 0.016810407862067223, 0.013460363261401653, -0.017626188695430756, -0.008512191474437714, -0.0036810380406677723, 0.01492475438863039, -0.00031385780312120914, 0.026840485632419586, 0.0027214940637350082, 0.0069274394772946835, 0.02681373804807663, -0.010839169844985008, -0.011454347521066666, -0.004610491916537285, -0.03185552358627319, -0.00018106377683579922, 0.00638915877789259, -0.012925425544381142, -0.010678688064217567, -0.0200467798858881, 0.01204946544021368, -0.014643912203609943, 0.022975562140345573, -0.024593748152256012, -0.008545625023543835, 0.0013791355304419994, -0.03156130760908127, 0.00032764917705208063, 0.0003523064369801432, -0.02039448916912079, 0.01980605721473694, -0.002087927656248212, -0.00968905445188284, -0.009267791174352169, 0.03292539715766907, -0.006609820295125246, -0.007937134243547916, 0.0037445619236677885, 0.02359073981642723, 0.005506512243300676, -0.012918738648295403, -0.0256235022097826, -0.008084242232143879, 0.029073849320411682, -0.02047473005950451, -0.007529244292527437, -0.01476427260786295, -0.027843492105603218, 0.02433965355157852, 0.00994314905256033, 0.02544964849948883, 0.0006206110119819641, 0.006502833217382431, -0.010812422260642052, -0.014296202920377254, -0.013253075070679188, 0.028886619955301285, 0.020100273191928864, -0.009849535301327705, 0.04439980536699295, 0.00239050155505538, 0.02992974780499935, 0.0035740507300943136, -0.011902357451617718, -0.0006883140304125845, 0.016462698578834534, 0.01909726671874523, -0.014991621486842632, 0.004536937922239304, 0.0024172484409064054, -0.02114340104162693, 0.03231022134423256, -0.012684703804552555, 0.044533539563417435, -0.00041060626972466707, 0.017572693526744843, 0.025061817839741707, -0.02198592759668827, -0.009394838474690914, -0.09751909226179123, -0.015031741932034492, -0.004222662188112736, 0.02274821326136589, -0.01674354076385498, 0.012443982064723969, 0.015753906220197678, -0.004095614422112703, 0.00791038665920496, 0.024473387748003006, -0.016262097284197807, -0.014643912203609943, -0.0064994897693395615, 0.01903039962053299, 0.011073204688727856, -0.006873945705592632, -0.010992963798344135, 0.0038682662416249514, 0.020407862961292267, 0.014978247694671154, -0.02266797237098217, 0.023577366024255753, -0.0042661260813474655, -0.003861579578369856, -0.010230678133666515, -0.01751920022070408, -0.02781674638390541, 0.019725818186998367, 0.014282829128205776, -0.007669665385037661, 0.012116332538425922, -0.011922418139874935, 0.01277163065969944, -0.019177505746483803, -0.015165476128458977, 0.007856893353164196, -0.013707770965993404, -0.015245716087520123, 0.009923089295625687, -0.018161125481128693, 0.01045134011656046, -0.0035673638340085745, -0.0016875603469088674, -0.01631559059023857, -0.033273108303546906, 0.012597776018083096, -0.008304903283715248, 0.02155797742307186, 0.014750899747014046, -0.025342660024762154, -0.0065462966449558735, -0.0024256068281829357, -0.0031126670073717833, -0.019164133816957474, 0.05488457903265953, -0.009889655746519566, 0.020354369655251503, 0.008779660798609257, -0.011407540179789066, -0.0009528572554700077, -0.0016432609409093857, 0.022948814556002617, -0.029047101736068726, 0.024834468960762024, 0.005483108572661877, -0.0015763937262818217, -0.02926107682287693, -0.013500482775270939, 0.019257746636867523, -0.0028619151562452316, -0.004413233604282141, 0.017652934417128563, -0.01928449422121048, 0.009120683185756207, -0.011641575954854488, -0.016262097284197807, -0.005332657601684332, -0.04442655295133591, -0.011086578480899334, -0.01952521502971649, -0.004493474494665861, -0.014429937116801739, 0.014429937116801739, -0.005800727754831314, 0.0024038751143962145, 0.006619850639253855, 0.0001778248988557607, 0.01572716049849987, 0.00959543976932764, -0.008184542879462242, 0.013594097457826138, 0.011895670555531979, -0.007549304515123367, -0.02157135121524334, -0.019150760024785995, -0.0041357348673045635, -0.03461045026779175, -0.009154116734862328, -0.005319283809512854, -6.759853567928076e-05, -0.015085235238075256, -0.040387775748968124, -0.05707782134413719, 0.028538910672068596, 0.011648261919617653, 0.010083570145070553, 0.020728824660182, -0.024326279759407043, 0.008398517966270447, -0.011514527723193169, -0.02301568165421486, -0.0012437294935807586, -0.029073849320411682, 0.00046054768608883023, -0.0015638561453670263, -0.007435630075633526, -0.02586422488093376, -0.033781297504901886, 0.013527230359613895, 0.005025068297982216, 0.008512191474437714, -0.000792376056779176, -0.013988613151013851, 0.040468014776706696, 0.019391480833292007, 0.03509189561009407, -0.018843170255422592, -0.0007727338233962655, -0.015205596573650837, -0.012751570902764797, -0.022119661793112755, 0.024834468960762024, 0.0005641918396577239, -0.03798055648803711, -0.02470073476433754, 0.026586389169096947, -0.010611820966005325, -0.042500779032707214, -0.004172511864453554, 0.010203931480646133, -0.0028050781693309546, 0.014657285064458847, -0.010651941411197186, -0.018294859677553177, 0.000537862884812057, -0.017479080706834793, -0.0019291180651634932, -0.0038114290218800306, -0.008197915740311146, -0.0012621179921552539, 0.018896663561463356, 0.011447660624980927, 0.0027632860001176596, 0.021357376128435135, -0.002756599336862564, -0.02114340104162693, -0.028110962361097336, -0.017238358035683632, 0.004556998144835234, 0.02765626460313797, -0.01366096455603838, 0.026746870949864388, 0.01895015873014927, -0.023563994094729424, 0.016783662140369415, 0.006716807838529348, 0.023457005620002747, -0.0006778659881092608, 0.016476072371006012, 0.016703421249985695, 0.015366077423095703, -0.032176487147808075, -0.029822761192917824, -0.00955531932413578, -0.000992977642454207, 0.0029505142010748386, 0.0003456197155173868, -0.008057494647800922, -0.022226650267839432, 0.0045035043731331825, -0.018482087180018425, 0.020367741584777832, 0.010658628307282925, 0.00644933944568038, -0.02546302042901516, 0.008144422434270382, 0.022387130185961723, 0.0061517804861068726, -0.006245394237339497, -0.001930789789184928, 0.012357054278254509, 0.018535582348704338, -0.03329985588788986, 0.0052858502604067326, 0.0005320119671523571, 0.015580052509903908, -0.019324613735079765, 0.02039448916912079, -0.011059830896556377, -0.03926440700888634, 0.003090935293585062, 0.01531258411705494, 0.01886991783976555, 0.005449675023555756, 0.0006640746723860502, -0.006288858130574226, -0.017559321597218513, -0.004520221147686243, -0.01733197271823883, -0.009200924076139927, 0.01622197777032852, 0.002311932621523738, 0.006967559922486544, -0.001115010236389935, 0.023069176822900772, 0.03078564815223217, -0.002868601819500327, 0.025075191631913185, -0.009695740416646004, -0.0017920403042808175, -0.0338347926735878, 0.010999650694429874, 0.010658628307282925, -0.0018221306381747127, 0.015620172955095768, -0.0014426594134420156, -0.009909715503454208, 0.0076295449398458, 0.021584725007414818, -0.02824469655752182, -0.00281176483258605, -0.0011593096423894167, -0.009796041063964367, -0.03883645683526993, -0.021785326302051544, 0.015392824076116085, -0.017572693526744843, 0.0039016997907310724, 0.0018438624683767557, 0.02950179949402809, -0.03477093204855919, 0.0551520474255085, 0.0067101214081048965, 0.0028184514958411455, -0.005055158399045467, 0.011561335064470768, 0.020675331354141235, 0.004212632309645414, 0.024460013955831528, -0.024419892579317093, 0.010812422260642052, -0.007542617619037628, -0.04357065260410309, 0.015753906220197678, 0.0008529744227416813, -0.017211612313985825, -0.025436274707317352, -0.018655942752957344, 0.025516515597701073, -0.005342687480151653, -0.005312597379088402, 0.01488463394343853, 0.018976904451847076, 0.0175994411110878, 0.01725173182785511, 0.005837504751980305, -0.003627544501796365, 0.026372414082288742, -0.0011283836793154478, -0.00028899157769046724, -0.038702722638845444, 0.011026397347450256, -0.004804406780749559, -0.030544927343726158, -0.024714108556509018, 0.0040421211160719395, -0.00795050710439682, 0.005847534630447626, 0.0023587397299706936, 0.009862909093499184, 0.02942155860364437, -0.001065695658326149, -0.0007129712612368166, -0.026332294568419456, -0.024205917492508888, 0.020742198452353477, -0.005867594853043556, -0.017813416197896004, 0.008866587653756142, -0.013172834180295467, 0.0, 0.0, 0.0, 0.0, 0.0, 0.0, 0.0, 0.0, 0.0, 0.0, 0.0, 0.0, 0.0, 0.0, 0.0, 0.0, 0.0, 0.0, 0.0, 0.0, 0.0, 0.0, 0.0, 0.0, 0.0, 0.0, 0.0, 0.0, 0.0, 0.0, 0.0, 0.0, 0.0, 0.0, 0.0, 0.0, 0.0, 0.0, 0.0, 0.0, 0.0, 0.0, 0.0, 0.0, 0.0, 0.0, 0.0, 0.0, 0.0, 0.0, 0.0, 0.0, 0.0, 0.0, 0.0, 0.0, 0.0, 0.0, 0.0, 0.0, 0.0, 0.0, 0.0, 0.0, 0.0, 0.0, 0.0, 0.0, 0.0, 0.0, 0.0, 0.0, 0.0, 0.0, 0.0, 0.0, 0.0, 0.0, 0.0, 0.0, 0.0, 0.0, 0.0, 0.0, 0.0, 0.0, 0.0, 0.0, 0.0, 0.0, 0.0, 0.0, 0.0, 0.0, 0.0, 0.0, 0.0, 0.0, 0.0, 0.0, 0.0, 0.0, 0.0, 0.0, 0.0, 0.0, 0.0, 0.0, 0.0, 0.0, 0.0, 0.0, 0.0, 0.0, 0.0, 0.0, 0.0, 0.0, 0.0, 0.0, 0.0, 0.0, 0.0, 0.0, 0.0, 0.0, 0.0, 0.0, 0.0, 0.0, 0.0, 0.0, 0.0, 0.0, 0.0, 0.0, 0.0, 0.0, 0.0, 0.0, 0.0, 0.0, 0.0, 0.0, 0.0, 0.0, 0.0, 0.0, 0.0, 0.0, 0.0, 0.0, 0.0, 0.0, 0.0, 0.0, 0.0, 0.0, 0.0, 0.0, 0.0, 0.0, 0.0, 0.0, 0.0, 0.0, 0.0, 0.0, 0.0, 0.0, 0.0, 0.0, 0.0, 0.0, 0.0, 0.0, 0.0, 0.0, 0.0, 0.0, 0.0, 0.0, 0.0, 0.0, 0.0, 0.0, 0.0, 0.0, 0.0, 0.0, 0.0, 0.0, 0.0, 0.0, 0.0, 0.0, 0.0, 0.0, 0.0, 0.0, 0.0, 0.0, 0.0, 0.0, 0.0, 0.0, 0.0, 0.0, 0.0, 0.0, 0.0, 0.0, 0.0, 0.0, 0.0, 0.0, 0.0, 0.0, 0.0, 0.0, 0.0, 0.0, 0.0, 0.0, 0.0, 0.0, 0.0, 0.0, 0.0, 0.0, 0.0, 0.0, 0.0, 0.0, 0.0, 0.0, 0.0, 0.0, 0.0, 0.0, 0.0, 0.0, 0.0, 0.0, 0.0, 0.0, 0.0, 0.0, 0.0, 0.0, 0.0, 0.0, 0.0, 0.0, 0.0, 0.0, 0.0, 0.0, 0.0, 0.0, 0.0, 0.0, 0.0, 0.0, 0.0, 0.0, 0.0, 0.0, 0.0, 0.0, 0.0, 0.0, 0.0, 0.0, 0.0, 0.0, 0.0, 0.0, 0.0, 0.0, 0.0, 0.0, 0.0, 0.0, 0.0, 0.0, 0.0, 0.0, 0.0, 0.0, 0.0, 0.0, 0.0, 0.0, 0.0, 0.0, 0.0, 0.0, 0.0, 0.0, 0.0, 0.0, 0.0, 0.0, 0.0, 0.0, 0.0, 0.0, 0.0, 0.0, 0.0, 0.0, 0.0, 0.0, 0.0, 0.0, 0.0, 0.0, 0.0, 0.0, 0.0, 0.0, 0.0, 0.0, 0.0, 0.0, 0.0, 0.0, 0.0, 0.0, 0.0, 0.0, 0.0, 0.0, 0.0, 0.0, 0.0, 0.0, 0.0, 0.0, 0.0, 0.0, 0.0, 0.0, 0.0, 0.0, 0.0, 0.0, 0.0, 0.0, 0.0, 0.0, 0.0, 0.0, 0.0, 0.0, 0.0, 0.0, 0.0, 0.0, 0.0, 0.0, 0.0, 0.0, 0.0, 0.0, 0.0, 0.0, 0.0, 0.0, 0.0, 0.0, 0.0, 0.0, 0.0, 0.0, 0.0, 0.0, 0.0, 0.0, 0.0, 0.0, 0.0, 0.0, 0.0, 0.0, 0.0, 0.0, 0.0, 0.0, 0.0, 0.0, 0.0, 0.0, 0.0, 0.0, 0.0, 0.0, 0.0, 0.0, 0.0, 0.0, 0.0, 0.0, 0.0, 0.0, 0.0, 0.0, 0.0, 0.0, 0.0, 0.0, 0.0, 0.0, 0.0, 0.0, 0.0, 0.0, 0.0, 0.0, 0.0, 0.0, 0.0, 0.0, 0.0, 0.0, 0.0, 0.0, 0.0, 0.0, 0.0, 0.0, 0.0, 0.0, 0.0, 0.0, 0.0, 0.0, 0.0, 0.0, 0.0, 0.0, 0.0, 0.0, 0.0, 0.0, 0.0, 0.0, 0.0, 0.0, 0.0, 0.0, 0.0, 0.0, 0.0, 0.0, 0.0, 0.0, 0.0, 0.0, 0.0, 0.0, 0.0, 0.0, 0.0, 0.0, 0.0, 0.0, 0.0, 0.0, 0.0, 0.0, 0.0, 0.0, 0.0, 0.0, 0.0, 0.0, 0.0, 0.0, 0.0, 0.0, 0.0, 0.0, 0.0, 0.0, 0.0, 0.0, 0.0, 0.0, 0.0, 0.0, 0.0, 0.0, 0.0, 0.0, 0.0, 0.0, 0.0, 0.0, 0.0, 0.0, 0.0, 0.0, 0.0, 0.0, 0.0, 0.0, 0.0, 0.0, 0.0, 0.0, 0.0, 0.0, 0.0, 0.0, 0.0, 0.0, 0.0, 0.0, 0.0, 0.0, 0.0, 0.0, 0.0, 0.0, 0.0, 0.0, 0.0, 0.0, 0.0, 0.0, 0.0, 0.0, 0.0, 0.0, 0.0, 0.0, 0.0, 0.0, 0.0, 0.0, 0.0, 0.0, 0.0, 0.0, 0.0, 0.0, 0.0, 0.0, 0.0, 0.0, 0.0, 0.0, 0.0, 0.0, 0.0, 0.0, 0.0, 0.0, 0.0, 0.0, 0.0, 0.0, 0.0, 0.0, 0.0, 0.0, 0.0, 0.0, 0.0, 0.0, 0.0, 0.0, 0.0, 0.0, 0.0, 0.0, 0.0, 0.0, 0.0, 0.0, 0.0, 0.0, 0.0, 0.0, 0.0, 0.0, 0.0, 0.0, 0.0, 0.0, 0.0, 0.0, 0.0, 0.0, 0.0, 0.0, 0.0, 0.0, 0.0, 0.0, 0.0, 0.0, 0.0, 0.0, 0.0, 0.0, 0.0, 0.0, 0.0, 0.0, 0.0, 0.0, 0.0, 0.0, 0.0, 0.0, 0.0, 0.0, 0.0, 0.0, 0.0, 0.0, 0.0, 0.0, 0.0, 0.0, 0.0, 0.0, 0.0, 0.0, 0.0, 0.0, 0.0, 0.0, 0.0, 0.0, 0.0, 0.0, 0.0, 0.0, 0.0, 0.0, 0.0, 0.0, 0.0, 0.0, 0.0, 0.0, 0.0, 0.0, 0.0, 0.0, 0.0, 0.0, 0.0, 0.0, 0.0, 0.0, 0.0, 0.0, 0.0, 0.0, 0.0, 0.0, 0.0, 0.0, 0.0, 0.0, 0.0, 0.0, 0.0, 0.0, 0.0, 0.0, 0.0, 0.0, 0.0, 0.0, 0.0, 0.0, 0.0, 0.0, 0.0, 0.0, 0.0, 0.0, 0.0, 0.0, 0.0, 0.0, 0.0, 0.0, 0.0, 0.0, 0.0, 0.0, 0.0, 0.0, 0.0, 0.0, 0.0, 0.0, 0.0, 0.0, 0.0, 0.0, 0.0, 0.0, 0.0, 0.0, 0.0, 0.0, 0.0, 0.0, 0.0, 0.0, 0.0, 0.0, 0.0, 0.0, 0.0, 0.0, 0.0, 0.0, 0.0, 0.0, 0.0, 0.0, 0.0, 0.0, 0.0, 0.0, 0.0, 0.0, 0.0, 0.0, 0.0, 0.0, 0.0, 0.0, 0.0, 0.0, 0.0, 0.0, 0.0, 0.0, 0.0, 0.0, 0.0, 0.0, 0.0, 0.0, 0.0, 0.0, 0.0, 0.0, 0.0, 0.0, 0.0, 0.0, 0.0, 0.0, 0.0, 0.0, 0.0, 0.0, 0.0, 0.0, 0.0, 0.0, 0.0, 0.0, 0.0, 0.0, 0.0, 0.0, 0.0, 0.0, 0.0, 0.0, 0.0, 0.0, 0.0, 0.0, 0.0, 0.0, 0.0, 0.0, 0.0, 0.0, 0.0, 0.0, 0.0, 0.0, 0.0, 0.0, 0.0, 0.0, 0.0, 0.0, 0.0, 0.0, 0.0, 0.0, 0.0, 0.0, 0.0, 0.0, 0.0, 0.0, 0.0, 0.0, 0.0, 0.0, 0.0, 0.0, 0.0, 0.0, 0.0, 0.0, 0.0, 0.0, 0.0, 0.0, 0.0, 0.0, 0.0, 0.0, 0.0, 0.0, 0.0, 0.0, 0.0, 0.0, 0.0, 0.0, 0.0, 0.0, 0.0, 0.0, 0.0, 0.0, 0.0, 0.0, 0.0, 0.0, 0.0, 0.0, 0.0, 0.0, 0.0, 0.0, 0.0, 0.0, 0.0, 0.0, 0.0, 0.0, 0.0, 0.0, 0.0, 0.0, 0.0, 0.0, 0.0, 0.0, 0.0, 0.0, 0.0, 0.0, 0.0, 0.0, 0.0, 0.0, 0.0, 0.0, 0.0, 0.0, 0.0, 0.0, 0.0, 0.0, 0.0, 0.0, 0.0, 0.0, 0.0, 0.0, 0.0, 0.0, 0.0, 0.0, 0.0, 0.0, 0.0, 0.0, 0.0, 0.0, 0.0, 0.0, 0.0, 0.0, 0.0, 0.0, 0.0, 0.0, 0.0, 0.0, 0.0, 0.0, 0.0, 0.0, 0.0, 0.0, 0.0, 0.0, 0.0, 0.0, 0.0, 0.0, 0.0, 0.0, 0.0, 0.0, 0.0, 0.0, 0.0, 0.0, 0.0, 0.0, 0.0, 0.0, 0.0, 0.0, 0.0, 0.0, 0.0, 0.0, 0.0, 0.0, 0.0, 0.0, 0.0, 0.0, 0.0, 0.0, 0.0, 0.0, 0.0, 0.0, 0.0, 0.0, 0.0, 0.0, 0.0, 0.0, 0.0, 0.0, 0.0, 0.0, 0.0, 0.0, 0.0, 0.0, 0.0, 0.0, 0.0, 0.0, 0.0, 0.0, 0.0, 0.0, 0.0, 0.0, 0.0, 0.0, 0.0, 0.0, 0.0, 0.0, 0.0, 0.0, 0.0, 0.0, 0.0, 0.0, 0.0, 0.0, 0.0, 0.0, 0.0, 0.0, 0.0, 0.0, 0.0, 0.0, 0.0, 0.0, 0.0, 0.0, 0.0, 0.0, 0.0, 0.0, 0.0, 0.0, 0.0, 0.0, 0.0, 0.0, 0.0, 0.0, 0.0, 0.0, 0.0, 0.0, 0.0, 0.0, 0.0, 0.0, 0.0, 0.0, 0.0, 0.0, 0.0, 0.0, 0.0, 0.0, 0.0, 0.0, 0.0, 0.0, 0.0, 0.0, 0.0, 0.0, 0.0, 0.0, 0.0, 0.0, 0.0, 0.0, 0.0, 0.0, 0.0, 0.0, 0.0, 0.0, 0.0, 0.0, 0.0, 0.0, 0.0, 0.0, 0.0, 0.0, 0.0, 0.0, 0.0, 0.0, 0.0, 0.0, 0.0, 0.0, 0.0, 0.0, 0.0, 0.0, 0.0, 0.0, 0.0, 0.0, 0.0, 0.0, 0.0, 0.0, 0.0, 0.0, 0.0, 0.0, 0.0, 0.0, 0.0, 0.0, 0.0, 0.0, 0.0, 0.0, 0.0, 0.0, 0.0, 0.0, 0.0, 0.0, 0.0, 0.0, 0.0, 0.0, 0.0, 0.0, 0.0, 0.0, 0.0, 0.0, 0.0, 0.0, 0.0, 0.0, 0.0, 0.0, 0.0, 0.0, 0.0, 0.0, 0.0, 0.0, 0.0, 0.0, 0.0, 0.0, 0.0, 0.0, 0.0, 0.0, 0.0, 0.0, 0.0, 0.0, 0.0, 0.0, 0.0, 0.0, 0.0, 0.0, 0.0, 0.0, 0.0, 0.0, 0.0, 0.0, 0.0, 0.0, 0.0, 0.0, 0.0, 0.0, 0.0, 0.0, 0.0, 0.0, 0.0, 0.0, 0.0, 0.0, 0.0, 0.0, 0.0, 0.0, 0.0, 0.0, 0.0, 0.0, 0.0, 0.0, 0.0, 0.0, 0.0, 0.0, 0.0, 0.0, 0.0, 0.0, 0.0, 0.0, 0.0, 0.0, 0.0, 0.0, 0.0, 0.0, 0.0, 0.0, 0.0, 0.0, 0.0, 0.0, 0.0, 0.0, 0.0, 0.0, 0.0, 0.0, 0.0, 0.0, 0.0, 0.0, 0.0, 0.0, 0.0, 0.0, 0.0, 0.0, 0.0, 0.0, 0.0, 0.0, 0.0, 0.0, 0.0, 0.0, 0.0, 0.0, 0.0, 0.0, 0.0, 0.0, 0.0, 0.0, 0.0, 0.0, 0.0, 0.0, 0.0, 0.0, 0.0, 0.0, 0.0, 0.0, 0.0, 0.0, 0.0, 0.0, 0.0, 0.0, 0.0, 0.0, 0.0, 0.0, 0.0, 0.0, 0.0, 0.0, 0.0, 0.0, 0.0, 0.0, 0.0, 0.0, 0.0, 0.0, 0.0, 0.0, 0.0, 0.0, 0.0, 0.0, 0.0, 0.0, 0.0, 0.0, 0.0, 0.0, 0.0, 0.0, 0.0, 0.0, 0.0, 0.0, 0.0, 0.0, 0.0, 0.0, 0.0, 0.0, 0.0, 0.0, 0.0, 0.0, 0.0, 0.0, 0.0, 0.0, 0.0, 0.0, 0.0, 0.0, 0.0, 0.0, 0.0, 0.0, 0.0, 0.0, 0.0, 0.0, 0.0, 0.0, 0.0, 0.0, 0.0, 0.0, 0.0, 0.0, 0.0, 0.0, 0.0, 0.0, 0.0, 0.0, 0.0, 0.0, 0.0, 0.0, 0.0, 0.0, 0.0, 0.0, 0.0, 0.0, 0.0, 0.0, 0.0, 0.0, 0.0, 0.0, 0.0, 0.0, 0.0, 0.0, 0.0, 0.0, 0.0, 0.0, 0.0, 0.0, 0.0, 0.0, 0.0, 0.0, 0.0, 0.0, 0.0, 0.0, 0.0, 0.0, 0.0, 0.0, 0.0, 0.0, 0.0, 0.0, 0.0, 0.0, 0.0, 0.0, 0.0, 0.0, 0.0, 0.0, 0.0, 0.0, 0.0, 0.0, 0.0, 0.0, 0.0, 0.0, 0.0, 0.0, 0.0, 0.0, 0.0, 0.0, 0.0, 0.0, 0.0, 0.0, 0.0, 0.0, 0.0, 0.0, 0.0, 0.0, 0.0, 0.0, 0.0, 0.0, 0.0, 0.0, 0.0, 0.0, 0.0, 0.0, 0.0, 0.0, 0.0, 0.0, 0.0, 0.0, 0.0, 0.0, 0.0, 0.0, 0.0, 0.0, 0.0, 0.0, 0.0, 0.0, 0.0, 0.0, 0.0, 0.0, 0.0, 0.0, 0.0, 0.0, 0.0, 0.0, 0.0, 0.0, 0.0, 0.0, 0.0, 0.0, 0.0, 0.0, 0.0, 0.0, 0.0, 0.0, 0.0, 0.0, 0.0, 0.0, 0.0, 0.0, 0.0, 0.0, 0.0, 0.0, 0.0, 0.0, 0.0, 0.0, 0.0, 0.0, 0.0, 0.0, 0.0, 0.0, 0.0, 0.0, 0.0, 0.0, 0.0, 0.0, 0.0, 0.0, 0.0, 0.0, 0.0, 0.0, 0.0, 0.0, 0.0, 0.0, 0.0, 0.0, 0.0, 0.0, 0.0, 0.0, 0.0, 0.0, 0.0, 0.0, 0.0, 0.0, 0.0, 0.0, 0.0, 0.0, 0.0, 0.0, 0.0, 0.0, 0.0, 0.0, 0.0, 0.0, 0.0, 0.0, 0.0, 0.0, 0.0, 0.0, 0.0, 0.0, 0.0, 0.0, 0.0, 0.0, 0.0, 0.0, 0.0, 0.0, 0.0, 0.0, 0.0, 0.0, 0.0, 0.0, 0.0, 0.0, 0.0, 0.0, 0.0, 0.0, 0.0, 0.0, 0.0, 0.0, 0.0, 0.0, 0.0, 0.0, 0.0, 0.0, 0.0, 0.0, 0.0, 0.0, 0.0, 0.0, 0.0, 0.0, 0.0, 0.0, 0.0, 0.0, 0.0, 0.0, 0.0, 0.0, 0.0, 0.0, 0.0, 0.0, 0.0, 0.0, 0.0, 0.0, 0.0, 0.0, 0.0, 0.0, 0.0, 0.0, 0.0, 0.0, 0.0, 0.0, 0.0, 0.0, 0.0, 0.0, 0.0, 0.0, 0.0, 0.0, 0.0, 0.0, 0.0, 0.0, 0.0, 0.0, 0.0, 0.0, 0.0, 0.0, 0.0, 0.0, 0.0, 0.0, 0.0, 0.0, 0.0, 0.0, 0.0, 0.0, 0.0, 0.0, 0.0, 0.0, 0.0, 0.0, 0.0, 0.0, 0.0, 0.0, 0.0, 0.0, 0.0, 0.0, 0.0, 0.0, 0.0, 0.0, 0.0, 0.0, 0.0, 0.0, 0.0, 0.0, 0.0, 0.0, 0.0, 0.0, 0.0, 0.0, 0.0, 0.0, 0.0, 0.0, 0.0, 0.0, 0.0, 0.0, 0.0, 0.0, 0.0, 0.0, 0.0, 0.0, 0.0, 0.0, 0.0, 0.0, 0.0, 0.0, 0.0, 0.0, 0.0, 0.0, 0.0, 0.0, 0.0, 0.0, 0.0, 0.0, 0.0, 0.0, 0.0, 0.0, 0.0, 0.0, 0.0, 0.0, 0.0, 0.0, 0.0, 0.0, 0.0, 0.0, 0.0, 0.0, 0.0, 0.0, 0.0, 0.0, 0.0, 0.0, 0.0, 0.0, 0.0, 0.0, 0.0, 0.0, 0.0, 0.0, 0.0, 0.0, 0.0, 0.0, 0.0, 0.0, 0.0, 0.0, 0.0, 0.0, 0.0, 0.0, 0.0, 0.0, 0.0, 0.0, 0.0, 0.0, 0.0, 0.0, 0.0, 0.0, 0.0, 0.0, 0.0, 0.0, 0.0, 0.0, 0.0, 0.0, 0.0, 0.0, 0.0, 0.0, 0.0, 0.0, 0.0, 0.0, 0.0, 0.0, 0.0, 0.0, 0.0, 0.0, 0.0, 0.0, 0.0, 0.0, 0.0, 0.0, 0.0, 0.0, 0.0, 0.0, 0.0, 0.0, 0.0, 0.0, 0.0, 0.0, 0.0, 0.0, 0.0, 0.0, 0.0, 0.0, 0.0, 0.0, 0.0, 0.0, 0.0, 0.0, 0.0, 0.0, 0.0, 0.0, 0.0, 0.0, 0.0, 0.0, 0.0, 0.0, 0.0, 0.0, 0.0, 0.0, 0.0, 0.0, 0.0, 0.0, 0.0, 0.0, 0.0, 0.0, 0.0, 0.0, 0.0, 0.0, 0.0, 0.0, 0.0, 0.0, 0.0, 0.0, 0.0, 0.0, 0.0, 0.0, 0.0, 0.0, 0.0, 0.0, 0.0, 0.0, 0.0, 0.0, 0.0, 0.0, 0.0, 0.0, 0.0, 0.0, 0.0, 0.0, 0.0, 0.0, 0.0, 0.0, 0.0, 0.0, 0.0, 0.0, 0.0, 0.0, 0.0, 0.0, 0.0, 0.0, 0.0, 0.0, 0.0, 0.0, 0.0, 0.0, 0.0, 0.0, 0.0, 0.0, 0.0, 0.0, 0.0, 0.0, 0.0, 0.0, 0.0, 0.0, 0.0, 0.0, 0.0, 0.0, 0.0, 0.0, 0.0, 0.0, 0.0, 0.0, 0.0, 0.0, 0.0, 0.0, 0.0, 0.0, 0.0, 0.0, 0.0, 0.0, 0.0, 0.0, 0.0, 0.0, 0.0, 0.0, 0.0, 0.0, 0.0, 0.0, 0.0, 0.0, 0.0, 0.0, 0.0, 0.0, 0.0, 0.0, 0.0, 0.0, 0.0, 0.0, 0.0, 0.0, 0.0, 0.0, 0.0, 0.0, 0.0, 0.0, 0.0, 0.0, 0.0, 0.0, 0.0, 0.0, 0.0, 0.0, 0.0, 0.0, 0.0, 0.0, 0.0, 0.0, 0.0, 0.0, 0.0, 0.0, 0.0, 0.0, 0.0, 0.0, 0.0, 0.0, 0.0, 0.0, 0.0, 0.0, 0.0, 0.0, 0.0, 0.0, 0.0, 0.0, 0.0, 0.0, 0.0, 0.0, 0.0, 0.0, 0.0, 0.0, 0.0, 0.0, 0.0, 0.0, 0.0, 0.0, 0.0, 0.0, 0.0, 0.0, 0.0, 0.0, 0.0, 0.0, 0.0, 0.0, 0.0, 0.0, 0.0, 0.0, 0.0, 0.0, 0.0, 0.0, 0.0, 0.0, 0.0, 0.0, 0.0, 0.0, 0.0, 0.0, 0.0, 0.0, 0.0, 0.0, 0.0, 0.0, 0.0, 0.0, 0.0, 0.0, 0.0, 0.0, 0.0, 0.0, 0.0, 0.0, 0.0, 0.0, 0.0, 0.0, 0.0, 0.0, 0.0, 0.0, 0.0, 0.0, 0.0, 0.0, 0.0, 0.0, 0.0, 0.0, 0.0, 0.0, 0.0, 0.0, 0.0, 0.0, 0.0, 0.0, 0.0, 0.0, 0.0, 0.0, 0.0, 0.0, 0.0, 0.0, 0.0, 0.0, 0.0, 0.0, 0.0, 0.0, 0.0, 0.0, 0.0, 0.0, 0.0, 0.0, 0.0, 0.0, 0.0, 0.0, 0.0, 0.0, 0.0, 0.0, 0.0, 0.0, 0.0, 0.0, 0.0, 0.0, 0.0, 0.0, 0.0, 0.0, 0.0, 0.0, 0.0, 0.0, 0.0, 0.0, 0.0, 0.0, 0.0, 0.0, 0.0, 0.0, 0.0, 0.0, 0.0, 0.0, 0.0, 0.0, 0.0, 0.0, 0.0, 0.0, 0.0, 0.0, 0.0, 0.0, 0.0, 0.0, 0.0, 0.0, 0.0, 0.0, 0.0, 0.0, 0.0, 0.0, 0.0, 0.0, 0.0, 0.0, 0.0, 0.0, 0.0, 0.0, 0.0, 0.0, 0.0, 0.0, 0.0, 0.0, 0.0, 0.0, 0.0, 0.0, 0.0, 0.0, 0.0, 0.0, 0.0, 0.0, 0.0, 0.0, 0.0, 0.0, 0.0, 0.0, 0.0, 0.0, 0.0, 0.0, 0.0, 0.0, 0.0, 0.0, 0.0, 0.0, 0.0, 0.0, 0.0, 0.0, 0.0, 0.0, 0.0, 0.0, 0.0, 0.0, 0.0, 0.0, 0.0, 0.0, 0.0, 0.0, 0.0, 0.0, 0.0, 0.0, 0.0, 0.0, 0.0, 0.0, 0.0, 0.0, 0.0, 0.0, 0.0, 0.0, 0.0, 0.0, 0.0, 0.0, 0.0, 0.0, 0.0, 0.0, 0.0, 0.0, 0.0, 0.0, 0.0, 0.0, 0.0, 0.0, 0.0, 0.0, 0.0, 0.0, 0.0, 0.0, 0.0, 0.0, 0.0, 0.0, 0.0, 0.0, 0.0, 0.0, 0.0, 0.0, 0.0, 0.0, 0.0, 0.0, 0.0, 0.0, 0.0, 0.0, 0.0, 0.0, 0.0, 0.0, 0.0, 0.0, 0.0, 0.0, 0.0, 0.0, 0.0, 0.0, 0.0, 0.0, 0.0, 0.0, 0.0, 0.0, 0.0, 0.0, 0.0, 0.0, 0.0, 0.0, 0.0, 0.0, 0.0, 0.0, 0.0, 0.0, 0.0, 0.0, 0.0, 0.0, 0.0, 0.0, 0.0, 0.0, 0.0, 0.0, 0.0, 0.0, 0.0, 0.0, 0.0, 0.0, 0.0, 0.0, 0.0, 0.0, 0.0, 0.0, 0.0, 0.0, 0.0, 0.0, 0.0, 0.0, 0.0, 0.0, 0.0, 0.0, 0.0, 0.0, 0.0, 0.0, 0.0, 0.0, 0.0, 0.0, 0.0, 0.0, 0.0, 0.0, 0.0, 0.0, 0.0, 0.0, 0.0, 0.0, 0.0, 0.0, 0.0, 0.0, 0.0, 0.0, 0.0, 0.0, 0.0, 0.0, 0.0, 0.0, 0.0, 0.0, 0.0, 0.0, 0.0, 0.0, 0.0, 0.0, 0.0, 0.0, 0.0, 0.0, 0.0, 0.0, 0.0, 0.0, 0.0, 0.0, 0.0, 0.0, 0.0, 0.0, 0.0, 0.0, 0.0, 0.0, 0.0, 0.0, 0.0, 0.0, 0.0, 0.0, 0.0, 0.0, 0.0, 0.0, 0.0, 0.0, 0.0, 0.0, 0.0, 0.0, 0.0, 0.0, 0.0, 0.0, 0.0, 0.0, 0.0, 0.0, 0.0, 0.0, 0.0, 0.0, 0.0, 0.0, 0.0, 0.0, 0.0, 0.0, 0.0, 0.0, 0.0, 0.0, 0.0, 0.0, 0.0, 0.0, 0.0, 0.0, 0.0, 0.0, 0.0, 0.0, 0.0, 0.0, 0.0, 0.0, 0.0, 0.0, 0.0, 0.0, 0.0, 0.0, 0.0, 0.0, 0.0, 0.0, 0.0, 0.0, 0.0, 0.0, 0.0, 0.0, 0.0, 0.0, 0.0, 0.0, 0.0, 0.0, 0.0, 0.0, 0.0, 0.0, 0.0, 0.0, 0.0, 0.0, 0.0, 0.0, 0.0, 0.0, 0.0, 0.0, 0.0, 0.0, 0.0, 0.0, 0.0, 0.0, 0.0, 0.0, 0.0, 0.0, 0.0, 0.0, 0.0, 0.0, 0.0, 0.0, 0.0, 0.0, 0.0, 0.0, 0.0, 0.0, 0.0, 0.0, 0.0, 0.0, 0.0, 0.0, 0.0, 0.0, 0.0, 0.0, 0.0, 0.0, 0.0, 0.0, 0.0, 0.0, 0.0, 0.0, 0.0, 0.0, 0.0, 0.0, 0.0, 0.0, 0.0, 0.0, 0.0, 0.0, 0.0, 0.0, 0.0, 0.0, 0.0, 0.0, 0.0, 0.0, 0.0, 0.0, 0.0, 0.0, 0.0, 0.0, 0.0, 0.0, 0.0, 0.0, 0.0, 0.0, 0.0, 0.0, 0.0, 0.0, 0.0, 0.0, 0.0, 0.0, 0.0, 0.0, 0.0, 0.0, 0.0, 0.0, 0.0, 0.0, 0.0, 0.0, 0.0, 0.0, 0.0, 0.0, 0.0, 0.0, 0.0, 0.0, 0.0, 0.0, 0.0, 0.0, 0.0, 0.0, 0.0, 0.0, 0.0, 0.0, 0.0, 0.0, 0.0, 0.0, 0.0, 0.0, 0.0, 0.0, 0.0, 0.0, 0.0, 0.0, 0.0, 0.0, 0.0, 0.0, 0.0, 0.0, 0.0, 0.0, 0.0, 0.0, 0.0, 0.0, 0.0, 0.0, 0.0, 0.0, 0.0, 0.0, 0.0, 0.0, 0.0, 0.0, 0.0, 0.0, 0.0, 0.0, 0.0, 0.0, 0.0, 0.0, 0.0, 0.0, 0.0, 0.0, 0.0, 0.0, 0.0, 0.0, 0.0, 0.0, 0.0, 0.0, 0.0, 0.0, 0.0, 0.0, 0.0, 0.0, 0.0, 0.0], embedding_config=EmbeddingConfig(embedding_endpoint_type='openai', embedding_endpoint='https://api.openai.com/v1', embedding_model='text-embedding-ada-002', embedding_dim=1536, embedding_chunk_size=300, handle=None, azure_endpoint=None, azure_version=None, azure_deployment=None))]"
      ]
     },
     "execution_count": 32,
     "metadata": {},
     "output_type": "execute_result"
    }
   ],
   "source": [
    "passage  # under the hood, it's all embeddings"
   ]
  },
  {
   "cell_type": "code",
   "execution_count": 33,
   "id": "673cabb2-83bb-4e7d-baed-eed6c6c67e7a",
   "metadata": {},
   "outputs": [
    {
     "name": "stdout",
     "output_type": "stream",
     "text": [
      "httpx - INFO - HTTP Request: POST https://api.openai.com/v1/chat/completions \"HTTP/1.1 200 OK\"\n",
      "Letta.agent-ea83ce14-8d73-4ea9-bddb-949494a5b297 - INFO - Function call message: created_by_id=None last_updated_by_id=None created_at=datetime.datetime(2025, 3, 13, 8, 19, 16, 622397, tzinfo=datetime.timezone.utc) updated_at=None id='message-db28177b-682b-40c2-afef-30d9b59c4eed' role=<MessageRole.assistant: 'assistant'> content=[TextContent(type=<MessageContentType.text: 'text'>, text='User wants to know what animals they like. Searching archival memory for relevant information.')] organization_id=None agent_id='agent-ea83ce14-8d73-4ea9-bddb-949494a5b297' model='gpt-4o-mini' name=None tool_calls=[ChatCompletionMessageToolCall(id='call_WPZr2JcJOeHHWCQ7eDWscbgc', function=Function(arguments='{\\n  \"query\": \"Sanika loves cats\",\\n  \"page\": 0,\\n  \"start\": 0,\\n  \"request_heartbeat\": true\\n}', name='archival_memory_search'), type='function')] tool_call_id=None step_id=None otid=None tool_returns=None\n",
      "Letta.agent-ea83ce14-8d73-4ea9-bddb-949494a5b297 - INFO - Request to call function archival_memory_search with tool_call_id: call_WPZr2JcJOeHHWCQ7eDWscbgc\n",
      "httpx - INFO - HTTP Request: POST https://api.openai.com/v1/embeddings \"HTTP/1.1 200 OK\"\n",
      "Letta.letta.agent - INFO - last response total_tokens (3821) < 96000.0\n",
      "httpx - INFO - HTTP Request: POST https://api.openai.com/v1/chat/completions \"HTTP/1.1 200 OK\"\n",
      "Letta.agent-ea83ce14-8d73-4ea9-bddb-949494a5b297 - INFO - Function call message: created_by_id=None last_updated_by_id=None created_at=datetime.datetime(2025, 3, 13, 8, 19, 19, 214070, tzinfo=datetime.timezone.utc) updated_at=None id='message-5779dfec-960b-4fbc-a31e-3f03dc6153b6' role=<MessageRole.assistant: 'assistant'> content=[TextContent(type=<MessageContentType.text: 'text'>, text=\"Found information about user's favorite animals. Time to share!\")] organization_id=None agent_id='agent-ea83ce14-8d73-4ea9-bddb-949494a5b297' model='gpt-4o-mini' name=None tool_calls=[ChatCompletionMessageToolCall(id='call_239MzYLHzYGHlcK8rIu2AD32', function=Function(arguments='{\\n  \"message\": \"You love cats and Beagles! 🐱🐶 Do you have any other favorite animals?\"\\n}', name='send_message'), type='function')] tool_call_id=None step_id=None otid=None tool_returns=None\n",
      "Letta.agent-ea83ce14-8d73-4ea9-bddb-949494a5b297 - INFO - Request to call function send_message with tool_call_id: call_239MzYLHzYGHlcK8rIu2AD32\n",
      "Letta.letta.agent - INFO - last response total_tokens (4045) < 96000.0\n"
     ]
    },
    {
     "data": {
      "text/html": [
       "\n",
       "    <style>\n",
       "        .message-container {\n",
       "            font-family: 'Segoe UI', Tahoma, Geneva, Verdana, sans-serif;\n",
       "            max-width: 800px;\n",
       "            margin: 20px auto;\n",
       "            background-color: #1e1e1e;\n",
       "            border-radius: 8px;\n",
       "            overflow: hidden;\n",
       "            color: #d4d4d4;\n",
       "        }\n",
       "        .message {\n",
       "            padding: 10px 15px;\n",
       "            border-bottom: 1px solid #3a3a3a;\n",
       "        }\n",
       "        .message:last-child {\n",
       "            border-bottom: none;\n",
       "        }\n",
       "        .title {\n",
       "            font-weight: bold;\n",
       "            margin-bottom: 5px;\n",
       "            color: #ffffff;\n",
       "            text-transform: uppercase;\n",
       "            font-size: 0.9em;\n",
       "        }\n",
       "        .content {\n",
       "            background-color: #2d2d2d;\n",
       "            border-radius: 4px;\n",
       "            padding: 5px 10px;\n",
       "            font-family: 'Consolas', 'Courier New', monospace;\n",
       "            white-space: pre-wrap;\n",
       "        }\n",
       "        .status-line {\n",
       "            margin-bottom: 5px;\n",
       "            color: #d4d4d4;\n",
       "        }\n",
       "        .function-name { color: #569cd6; }\n",
       "        .json-key { color: #9cdcfe; }\n",
       "        .json-string { color: #ce9178; }\n",
       "        .json-number { color: #b5cea8; }\n",
       "        .json-boolean { color: #569cd6; }\n",
       "        .internal-monologue { font-style: italic; }\n",
       "    </style>\n",
       "    <div class=\"message-container\">\n",
       "    \n",
       "        <div class=\"message\">\n",
       "            <div class=\"title\">REASONING MESSAGE</div>\n",
       "            <div class=\"content\">id=&#x27;message-db28177b-682b-40c2-afef-30d9b59c4eed&#x27; date=datetime.datetime(2025, 3, 13, 8, 19, 16, 622397, tzinfo=datetime.timezone.utc) message_type=&#x27;reasoning_message&#x27; reasoning=&#x27;User wants to know what animals they like. Searching archival memory for relevant information.&#x27;</div>\n",
       "        </div>\n",
       "        \n",
       "        <div class=\"message\">\n",
       "            <div class=\"title\">TOOL CALL MESSAGE</div>\n",
       "            <div class=\"content\">id=&#x27;message-db28177b-682b-40c2-afef-30d9b59c4eed&#x27; date=datetime.datetime(2025, 3, 13, 8, 19, 16, 622397, tzinfo=datetime.timezone.utc) message_type=&#x27;tool_call_message&#x27; tool_call=ToolCall(name=&#x27;archival_memory_search&#x27;, arguments=&#x27;{\\n  &quot;query&quot;: &quot;Sanika loves cats&quot;,\\n  &quot;page&quot;: 0,\\n  &quot;start&quot;: 0,\\n  &quot;request_heartbeat&quot;: true\\n}&#x27;, tool_call_id=&#x27;call_WPZr2JcJOeHHWCQ7eDWscbgc&#x27;)</div>\n",
       "        </div>\n",
       "        \n",
       "        <div class=\"message\">\n",
       "            <div class=\"title\">TOOL RETURN MESSAGE</div>\n",
       "            <div class=\"content\">id=&#x27;message-f2b9a083-f882-44f4-9692-163b89ee3505&#x27; date=datetime.datetime(2025, 3, 13, 8, 19, 17, 448872, tzinfo=datetime.timezone.utc) message_type=&#x27;tool_return_message&#x27; tool_return=&#x27;{\\n  &quot;status&quot;: &quot;OK&quot;,\\n  &quot;message&quot;: &quot;([{\\&#x27;timestamp\\&#x27;: \\&#x27;2025-03-13 08:15:48.031169\\&#x27;, \\&#x27;content\\&#x27;: \\&#x27;Sanika loves cats\\&#x27;}, {\\&#x27;timestamp\\&#x27;: \\&#x27;2025-03-13 08:18:12.715132\\&#x27;, \\&#x27;content\\&#x27;: \\&#x27;Sanika loves Beagles\\&#x27;}], 2)&quot;,\\n  &quot;time&quot;: &quot;2025-03-13 09:19:17 AM CET+0100&quot;\\n}&#x27; status=&#x27;success&#x27; tool_call_id=&#x27;call_WPZr2JcJOeHHWCQ7eDWscbgc&#x27; stdout=None stderr=None</div>\n",
       "        </div>\n",
       "        \n",
       "        <div class=\"message\">\n",
       "            <div class=\"title\">REASONING MESSAGE</div>\n",
       "            <div class=\"content\">id=&#x27;message-5779dfec-960b-4fbc-a31e-3f03dc6153b6&#x27; date=datetime.datetime(2025, 3, 13, 8, 19, 19, 214070, tzinfo=datetime.timezone.utc) message_type=&#x27;reasoning_message&#x27; reasoning=&quot;Found information about user&#x27;s favorite animals. Time to share!&quot;</div>\n",
       "        </div>\n",
       "        \n",
       "        <div class=\"message\">\n",
       "            <div class=\"title\">TOOL CALL MESSAGE</div>\n",
       "            <div class=\"content\">id=&#x27;message-5779dfec-960b-4fbc-a31e-3f03dc6153b6&#x27; date=datetime.datetime(2025, 3, 13, 8, 19, 19, 214070, tzinfo=datetime.timezone.utc) message_type=&#x27;tool_call_message&#x27; tool_call=ToolCall(name=&#x27;send_message&#x27;, arguments=&#x27;{\\n  &quot;message&quot;: &quot;You love cats and Beagles! 🐱🐶 Do you have any other favorite animals?&quot;\\n}&#x27;, tool_call_id=&#x27;call_239MzYLHzYGHlcK8rIu2AD32&#x27;)</div>\n",
       "        </div>\n",
       "        \n",
       "        <div class=\"message\">\n",
       "            <div class=\"title\">TOOL RETURN MESSAGE</div>\n",
       "            <div class=\"content\">id=&#x27;message-8a4d64da-8430-48e4-b307-5ba9b1f769ee&#x27; date=datetime.datetime(2025, 3, 13, 8, 19, 19, 223443, tzinfo=datetime.timezone.utc) message_type=&#x27;tool_return_message&#x27; tool_return=&#x27;{\\n  &quot;status&quot;: &quot;OK&quot;,\\n  &quot;message&quot;: &quot;None&quot;,\\n  &quot;time&quot;: &quot;2025-03-13 09:19:19 AM CET+0100&quot;\\n}&#x27; status=&#x27;success&#x27; tool_call_id=&#x27;call_239MzYLHzYGHlcK8rIu2AD32&#x27; stdout=None stderr=None</div>\n",
       "        </div>\n",
       "        </div>"
      ],
      "text/plain": [
       "<IPython.core.display.HTML object>"
      ]
     },
     "metadata": {},
     "output_type": "display_data"
    }
   ],
   "source": [
    "response = client.send_message(\n",
    "    agent_id=agent_state.id, \n",
    "    role=\"user\", \n",
    "    message=\"What animals do I like? Search archival.\"\n",
    ")\n",
    "nb_print(response.messages)"
   ]
  },
  {
   "cell_type": "code",
   "execution_count": null,
   "id": "e9d7ebbe-12f3-4949-bc89-0dc1e3b85c42",
   "metadata": {},
   "outputs": [],
   "source": []
  },
  {
   "cell_type": "code",
   "execution_count": null,
   "id": "d452213f-b977-4a88-ba56-726216a9d218",
   "metadata": {},
   "outputs": [],
   "source": []
  }
 ],
 "metadata": {
  "kernelspec": {
   "display_name": "Python 3 (ipykernel)",
   "language": "python",
   "name": "python3"
  },
  "language_info": {
   "codemirror_mode": {
    "name": "ipython",
    "version": 3
   },
   "file_extension": ".py",
   "mimetype": "text/x-python",
   "name": "python",
   "nbconvert_exporter": "python",
   "pygments_lexer": "ipython3",
   "version": "3.11.0"
  }
 },
 "nbformat": 4,
 "nbformat_minor": 5
}
